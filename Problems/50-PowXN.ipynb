{
 "cells": [
  {
   "cell_type": "code",
   "execution_count": 2,
   "metadata": {},
   "outputs": [],
   "source": [
    "class Solution(object):\n",
    "    def myPow(self, x, n):\n",
    "        \"\"\"\n",
    "        :type x: float\n",
    "        :type n: int\n",
    "        :rtype: float\n",
    "        \"\"\"\n",
    "        if n==0:\n",
    "            return 1\n",
    "        \n",
    "        positiveN=True\n",
    "        if n<0:\n",
    "            positiveN=False\n",
    "            \n",
    "        absN=abs(n)\n",
    "        \n",
    "        ans=1\n",
    "        i=absN\n",
    "        while i>0:\n",
    "            ans=ans*x\n",
    "            i=i-1\n",
    "            \n",
    "        return ans if positiveN else (1.0/ans)"
   ]
  },
  {
   "cell_type": "code",
   "execution_count": 25,
   "metadata": {},
   "outputs": [],
   "source": [
    "class Solution(object):\n",
    "    def myPow(self, x, n):\n",
    "        \"\"\"\n",
    "        :type x: float\n",
    "        :type n: int\n",
    "        :rtype: float\n",
    "        \"\"\"\n",
    "        if n==0:\n",
    "            return 1\n",
    "        \n",
    "        positiveN=True\n",
    "        if n<0:\n",
    "            positiveN=False\n",
    "            \n",
    "        absN=abs(n)\n",
    "        \n",
    "        tmp=x\n",
    "        i=1\n",
    "        rem=absN        \n",
    "        ans=1\n",
    "        while (i*2<=rem):\n",
    "            tmp=tmp*tmp\n",
    "            i*=2\n",
    "            if i*2>rem:\n",
    "                ans*=tmp\n",
    "                rem-=i\n",
    "                tmp=x\n",
    "                i=1  \n",
    "\n",
    "        if rem==1:\n",
    "            ans*=x\n",
    "            \n",
    "        return ans if positiveN else (1.0/ans)"
   ]
  },
  {
   "cell_type": "code",
   "execution_count": 26,
   "metadata": {},
   "outputs": [
    {
     "data": {
      "text/plain": [
       "9.261000000000001"
      ]
     },
     "execution_count": 26,
     "metadata": {},
     "output_type": "execute_result"
    }
   ],
   "source": [
    "x=2.1\n",
    "n=3\n",
    "mysol=Solution()\n",
    "mysol.myPow(x,n)"
   ]
  }
 ],
 "metadata": {
  "interpreter": {
   "hash": "a245dac45e51386e3067f7bf875d7c30851316ec82b938f00e050e0cf1d2e3a2"
  },
  "kernelspec": {
   "display_name": "Python 3.9.0 64-bit",
   "language": "python",
   "name": "python3"
  },
  "language_info": {
   "codemirror_mode": {
    "name": "ipython",
    "version": 3
   },
   "file_extension": ".py",
   "mimetype": "text/x-python",
   "name": "python",
   "nbconvert_exporter": "python",
   "pygments_lexer": "ipython3",
   "version": "3.9.0"
  },
  "orig_nbformat": 4
 },
 "nbformat": 4,
 "nbformat_minor": 2
}
