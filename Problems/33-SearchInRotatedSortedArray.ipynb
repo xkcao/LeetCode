{
 "cells": [
  {
   "cell_type": "code",
   "execution_count": 4,
   "metadata": {},
   "outputs": [],
   "source": [
    "class Solution(object):\n",
    "    def search(self, nums, target):\n",
    "        \"\"\"\n",
    "        :type nums: List[int]\n",
    "        :type target: int\n",
    "        :rtype: int\n",
    "        \"\"\"\n",
    "        start=0\n",
    "        end=len(nums)-1\n",
    "                \n",
    "        found=False\n",
    "        targetIndex=-1\n",
    "        while start<end-1 and not found:                        \n",
    "            middle=(start+end)//2\n",
    "            rotation=False\n",
    "            if nums[start]>nums[end]:\n",
    "                rotation=True\n",
    "                \n",
    "            if not rotation:\n",
    "                if nums[middle]==target:\n",
    "                    found=True\n",
    "                    targetIndex=middle\n",
    "                elif target<nums[middle]:\n",
    "                    end=middle\n",
    "                else:\n",
    "                    start=middle\n",
    "            else:\n",
    "                if nums[middle]<nums[end]:\n",
    "                    if nums[middle]==target:\n",
    "                        found=True\n",
    "                        targetIndex=middle                        \n",
    "                    elif target<nums[middle] or target>nums[end]:\n",
    "                        end=middle\n",
    "                    else:\n",
    "                        start=middle\n",
    "                else:\n",
    "                    if nums[middle]==target:\n",
    "                        found=True\n",
    "                        targetIndex=middle                            \n",
    "                    elif target>nums[middle] or target<nums[start]:\n",
    "                        start=middle\n",
    "                    else:\n",
    "                        end=middle\n",
    "        \n",
    "        if target==nums[start]:\n",
    "            targetIndex=start\n",
    "        elif target==nums[end]:\n",
    "            targetIndex=end\n",
    "\n",
    "        return targetIndex\n",
    "                    "
   ]
  },
  {
   "cell_type": "code",
   "execution_count": 5,
   "metadata": {},
   "outputs": [
    {
     "data": {
      "text/plain": [
       "-1"
      ]
     },
     "execution_count": 5,
     "metadata": {},
     "output_type": "execute_result"
    }
   ],
   "source": [
    "mysol = Solution()\n",
    "nums=[4,5,6,7,0,1,2]\n",
    "target=3\n",
    "mysol.search(nums,target)"
   ]
  }
 ],
 "metadata": {
  "interpreter": {
   "hash": "a245dac45e51386e3067f7bf875d7c30851316ec82b938f00e050e0cf1d2e3a2"
  },
  "kernelspec": {
   "display_name": "Python 3.9.0 64-bit",
   "language": "python",
   "name": "python3"
  },
  "language_info": {
   "codemirror_mode": {
    "name": "ipython",
    "version": 3
   },
   "file_extension": ".py",
   "mimetype": "text/x-python",
   "name": "python",
   "nbconvert_exporter": "python",
   "pygments_lexer": "ipython3",
   "version": "3.9.0"
  },
  "orig_nbformat": 4
 },
 "nbformat": 4,
 "nbformat_minor": 2
}
