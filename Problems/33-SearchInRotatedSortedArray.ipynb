{
 "cells": [
  {
   "cell_type": "code",
   "execution_count": 4,
   "metadata": {},
   "outputs": [],
   "source": [
    "class Solution(object):\n",
    "    def search(self, nums, target):\n",
    "        \"\"\"\n",
    "        :type nums: List[int]\n",
    "        :type target: int\n",
    "        :rtype: int\n",
    "        \"\"\"\n",
    "        start=0\n",
    "        end=len(nums)-1\n",
    "                \n",
    "        found=False\n",
    "        targetIndex=-1\n",
    "        while start<end-1 and not found:                        \n",
    "            middle=(start+end)//2\n",
    "            rotation=False\n",
    "            if nums[start]>nums[end]:\n",
    "                rotation=True\n",
    "                \n",
    "            if not rotation:\n",
    "                if nums[middle]==target:\n",
    "                    found=True\n",
    "                    targetIndex=middle\n",
    "                elif target<nums[middle]:\n",
    "                    end=middle\n",
    "                else:\n",
    "                    start=middle\n",
    "            else:\n",
    "                if nums[middle]<nums[end]:\n",
    "                    if nums[middle]==target:\n",
    "                        found=True\n",
    "                        targetIndex=middle                        \n",
    "                    elif target<nums[middle] or target>nums[end]:\n",
    "                        end=middle\n",
    "                    else:\n",
    "                        start=middle\n",
    "                else:\n",
    "                    if nums[middle]==target:\n",
    "                        found=True\n",
    "                        targetIndex=middle                            \n",
    "                    elif target>nums[middle] or target<nums[start]:\n",
    "                        start=middle\n",
    "                    else:\n",
    "                        end=middle\n",
    "        \n",
    "        if target==nums[start]:\n",
    "            targetIndex=start\n",
    "        elif target==nums[end]:\n",
    "            targetIndex=end\n",
    "\n",
    "        return targetIndex\n",
    "                    "
   ]
  },
  {
   "cell_type": "code",
   "execution_count": 5,
   "metadata": {},
   "outputs": [
    {
     "data": {
      "text/plain": [
       "-1"
      ]
     },
     "execution_count": 5,
     "metadata": {},
     "output_type": "execute_result"
    }
   ],
   "source": [
    "mysol = Solution()\n",
    "nums=[4,5,6,7,0,1,2]\n",
    "target=3\n",
    "mysol.search(nums,target)"
   ]
  },
  {
   "cell_type": "code",
   "execution_count": 1,
   "metadata": {},
   "outputs": [],
   "source": [
    "class Solution(object):\n",
    "    def search(self, nums, target):\n",
    "        \"\"\"\n",
    "        :type nums: List[int]\n",
    "        :type target: int\n",
    "        :rtype: int\n",
    "        \"\"\"\n",
    "        def searchRange(left,right):\n",
    "            if left>right:\n",
    "                return -1\n",
    "            elif left==right:\n",
    "                return left if nums[left]==target else -1\n",
    "            \n",
    "            mid=(left+right)//2\n",
    "            if nums[left]<nums[right]:\n",
    "                if target<=nums[mid]:\n",
    "                    return searchRange(left,mid)\n",
    "                else:\n",
    "                    return searchRange(mid+1,right)\n",
    "            elif nums[mid]>=nums[left]:\n",
    "                if nums[left]<=target<=nums[mid]:\n",
    "                    return searchRange(left,mid)\n",
    "                else:\n",
    "                    return searchRange(mid+1,right)\n",
    "            else:\n",
    "                #nums[mid]<nums[left]\n",
    "                if nums[mid]<target<=nums[right]:\n",
    "                    return searchRange(mid+1,right)\n",
    "                else:\n",
    "                    return searchRange(left,mid)\n",
    "        \n",
    "        return searchRange(0,len(nums)-1)\n",
    "            "
   ]
  }
 ],
 "metadata": {
  "kernelspec": {
   "display_name": "Python 3.9.0 64-bit",
   "language": "python",
   "name": "python3"
  },
  "language_info": {
   "codemirror_mode": {
    "name": "ipython",
    "version": 3
   },
   "file_extension": ".py",
   "mimetype": "text/x-python",
   "name": "python",
   "nbconvert_exporter": "python",
   "pygments_lexer": "ipython3",
   "version": "3.9.0"
  },
  "orig_nbformat": 4,
  "vscode": {
   "interpreter": {
    "hash": "02f36f923ced5460909a8e78ad0d9c2d23697e0f6cbb99ccac5c6a7ef7bfd943"
   }
  }
 },
 "nbformat": 4,
 "nbformat_minor": 2
}
