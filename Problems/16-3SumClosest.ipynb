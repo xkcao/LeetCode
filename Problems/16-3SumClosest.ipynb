{
 "cells": [
  {
   "cell_type": "code",
   "execution_count": 7,
   "metadata": {},
   "outputs": [],
   "source": [
    "class Solution(object):\n",
    "    def threeSumClosest(self, nums, target):\n",
    "        \"\"\"\n",
    "        :type nums: List[int]\n",
    "        :type target: int\n",
    "        :rtype: int\n",
    "        \"\"\"\n",
    "        gap = sys.maxsize\n",
    "        for i in range(len(nums)):\n",
    "            for j in range(i+1,len(nums)):\n",
    "                for k in range(j+1, len(nums)):\n",
    "                    total=nums[i]+nums[j]+nums[k]\n",
    "                    if abs(total-target)<gap:\n",
    "                        result=total\n",
    "                        gap=abs(total-target)\n",
    "                        \n",
    "        return result"
   ]
  },
  {
   "cell_type": "code",
   "execution_count": 6,
   "metadata": {},
   "outputs": [],
   "source": [
    "class Solution:\n",
    "    def threeSumClosest(self, nums, target):\n",
    "        diff = float('inf')\n",
    "        nums.sort()\n",
    "        for i in range(len(nums)):\n",
    "            lo, hi = i + 1, len(nums) - 1\n",
    "            while (lo < hi):\n",
    "                sum = nums[i] + nums[lo] + nums[hi]\n",
    "                if abs(target - sum) < abs(diff):\n",
    "                    diff = target - sum\n",
    "                if sum < target:\n",
    "                    lo += 1\n",
    "                else:\n",
    "                    hi -= 1\n",
    "            if diff == 0:\n",
    "                break\n",
    "        return target - diff"
   ]
  }
 ],
 "metadata": {
  "interpreter": {
   "hash": "a245dac45e51386e3067f7bf875d7c30851316ec82b938f00e050e0cf1d2e3a2"
  },
  "kernelspec": {
   "display_name": "Python 3.9.0 64-bit",
   "language": "python",
   "name": "python3"
  },
  "language_info": {
   "codemirror_mode": {
    "name": "ipython",
    "version": 3
   },
   "file_extension": ".py",
   "mimetype": "text/x-python",
   "name": "python",
   "nbconvert_exporter": "python",
   "pygments_lexer": "ipython3",
   "version": "3.9.0"
  },
  "orig_nbformat": 4
 },
 "nbformat": 4,
 "nbformat_minor": 2
}
