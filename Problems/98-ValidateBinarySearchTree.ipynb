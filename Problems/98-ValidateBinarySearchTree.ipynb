{
 "cells": [
  {
   "cell_type": "code",
   "execution_count": 2,
   "metadata": {},
   "outputs": [],
   "source": [
    "# Definition for a binary tree node.\n",
    "# class TreeNode(object):\n",
    "#     def __init__(self, val=0, left=None, right=None):\n",
    "#         self.val = val\n",
    "#         self.left = left\n",
    "#         self.right = right\n",
    "class Solution(object):\n",
    "    def isValidBST(self, root):\n",
    "        \"\"\"\n",
    "        :type root: TreeNode\n",
    "        :rtype: bool\n",
    "        \"\"\"\n",
    "        leftOk=False\n",
    "        rightOk=False\n",
    "        \n",
    "        #base case\n",
    "        if root.left==None:\n",
    "            leftOk=True\n",
    "        if root.right==None:\n",
    "            rightOk=True\n",
    "        \n",
    "        if not leftOk:\n",
    "            node=root.left            \n",
    "            while (node.right!=None):\n",
    "                node=node.right\n",
    "            \n",
    "            leftMax=node.val\n",
    "            if leftMax<root.val and self.isValidBST(root.left):\n",
    "                leftOk=True\n",
    "                            \n",
    "        \n",
    "        if not leftOk:\n",
    "            return False\n",
    "        \n",
    "        if not rightOk:\n",
    "            node=root.right            \n",
    "            while (node.left!=None):\n",
    "                node=node.left\n",
    "            \n",
    "            rightMax=node.val\n",
    "            if rightMax>root.val and self.isValidBST(root.right):\n",
    "                rightOk=True\n",
    "                \n",
    "        return (leftOk and rightOk)\n",
    "        "
   ]
  }
 ],
 "metadata": {
  "interpreter": {
   "hash": "a245dac45e51386e3067f7bf875d7c30851316ec82b938f00e050e0cf1d2e3a2"
  },
  "kernelspec": {
   "display_name": "Python 3.9.0 64-bit",
   "language": "python",
   "name": "python3"
  },
  "language_info": {
   "codemirror_mode": {
    "name": "ipython",
    "version": 3
   },
   "file_extension": ".py",
   "mimetype": "text/x-python",
   "name": "python",
   "nbconvert_exporter": "python",
   "pygments_lexer": "ipython3",
   "version": "3.9.0"
  },
  "orig_nbformat": 4
 },
 "nbformat": 4,
 "nbformat_minor": 2
}
