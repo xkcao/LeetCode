{
 "cells": [
  {
   "cell_type": "code",
   "execution_count": 2,
   "metadata": {},
   "outputs": [],
   "source": [
    "class Solution:\n",
    "    def isPalindrome(self, s: str) -> bool:\n",
    "        #convert all to lower case and remove non-alphanumeric characters\n",
    "        def convertAndRemove(s):\n",
    "            output=\"\"\n",
    "            for c in s:\n",
    "                if (c>='a' and c<='z') or (c>='A' and c<='Z'):\n",
    "                    output+=c.lower()\n",
    "                elif c>='0' and c<='9':\n",
    "                    output+=c\n",
    "                    \n",
    "            return output\n",
    "                    \n",
    "        #check if is palindrome\n",
    "        def palindrome(s):\n",
    "            if len(s)<=1:\n",
    "                return True\n",
    "            \n",
    "            for i in range(0,len(s)//2):\n",
    "                if s[i]!=s[len(s)-1-i]:\n",
    "                    return False\n",
    "            \n",
    "            return True\n",
    "        \n",
    "        return palindrome(convertAndRemove(s))"
   ]
  }
 ],
 "metadata": {
  "interpreter": {
   "hash": "02f36f923ced5460909a8e78ad0d9c2d23697e0f6cbb99ccac5c6a7ef7bfd943"
  },
  "kernelspec": {
   "display_name": "Python 3.9.0 64-bit",
   "language": "python",
   "name": "python3"
  },
  "language_info": {
   "codemirror_mode": {
    "name": "ipython",
    "version": 3
   },
   "file_extension": ".py",
   "mimetype": "text/x-python",
   "name": "python",
   "nbconvert_exporter": "python",
   "pygments_lexer": "ipython3",
   "version": "3.9.0"
  },
  "orig_nbformat": 4
 },
 "nbformat": 4,
 "nbformat_minor": 2
}
