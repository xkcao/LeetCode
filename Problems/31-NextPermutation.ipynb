{
 "cells": [
  {
   "cell_type": "code",
   "execution_count": 4,
   "metadata": {},
   "outputs": [],
   "source": [
    "class Solution(object):\n",
    "    def nextPermutation(self, nums):\n",
    "        \"\"\"\n",
    "        :type nums: List[int]\n",
    "        :rtype: None Do not return anything, modify nums in-place instead.\n",
    "        \"\"\"\n",
    "        n=len(nums)\n",
    "        #start from the last num, find the first 2 pair of consecutive nums (nums[i-1],nums[i]) such that nums[i]>nums[i-1]\n",
    "        i=n-1\n",
    "        while i-1>=0 and nums[i]<=nums[i-1]:\n",
    "            i-=1\n",
    "            \n",
    "        if i==0:\n",
    "            #nums is already in non-increasing order, sort nums to ascending order\n",
    "            nums.reverse()\n",
    "        else:\n",
    "            j=i\n",
    "            while j<n-1 and nums[j+1]>nums[i-1]:\n",
    "                j+=1\n",
    "                \n",
    "            #swap \n",
    "            nums[i-1],nums[j]=nums[j],nums[i-1]\n",
    "            #sort nums at the right of i-1 in ascending order\n",
    "            temp=list(reversed(nums[i:]))\n",
    "            nums[i:]=temp[:]"
   ]
  },
  {
   "cell_type": "code",
   "execution_count": 2,
   "metadata": {},
   "outputs": [],
   "source": [
    "mysol = Solution()\n",
    "nums=[1,3,2]\n",
    "mysol.nextPermutation(nums)"
   ]
  }
 ],
 "metadata": {
  "kernelspec": {
   "display_name": "Python 3.9.0 64-bit",
   "language": "python",
   "name": "python3"
  },
  "language_info": {
   "codemirror_mode": {
    "name": "ipython",
    "version": 3
   },
   "file_extension": ".py",
   "mimetype": "text/x-python",
   "name": "python",
   "nbconvert_exporter": "python",
   "pygments_lexer": "ipython3",
   "version": "3.9.0"
  },
  "orig_nbformat": 4,
  "vscode": {
   "interpreter": {
    "hash": "02f36f923ced5460909a8e78ad0d9c2d23697e0f6cbb99ccac5c6a7ef7bfd943"
   }
  }
 },
 "nbformat": 4,
 "nbformat_minor": 2
}
