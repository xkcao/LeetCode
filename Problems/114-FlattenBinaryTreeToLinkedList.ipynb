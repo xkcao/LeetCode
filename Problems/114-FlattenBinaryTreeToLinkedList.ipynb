{
 "cells": [
  {
   "cell_type": "code",
   "execution_count": null,
   "metadata": {},
   "outputs": [],
   "source": [
    "# Definition for a binary tree node.\n",
    "# class TreeNode(object):\n",
    "#     def __init__(self, val=0, left=None, right=None):\n",
    "#         self.val = val\n",
    "#         self.left = left\n",
    "#         self.right = right\n",
    "class Solution(object):\n",
    "    def flatten(self, root):\n",
    "        \"\"\"\n",
    "        :type root: TreeNode\n",
    "        :rtype: None Do not return anything, modify root in-place instead.\n",
    "        \"\"\" \n",
    "        if root==None:\n",
    "            return\n",
    "        \n",
    "        def dp(node):\n",
    "            #node is not None    \n",
    "            left=node.left\n",
    "            right=node.right\n",
    "            if left!=None:\n",
    "                node.left=None                \n",
    "                lefthead,lefttail=dp(left)\n",
    "                node.right=lefthead\n",
    "                if right!=None:\n",
    "                    righthead,righttail=dp(right)\n",
    "                    lefttail.right=righthead\n",
    "            elif right!=None:\n",
    "                righthead,righttail=dp(right)\n",
    "                node.right=righthead\n",
    "            \n",
    "            tail=node\n",
    "            while tail.right!=None:\n",
    "                tail=tail.right\n",
    "            \n",
    "            return (node,tail)\n",
    "        \n",
    "        dp(root)"
   ]
  }
 ],
 "metadata": {
  "language_info": {
   "name": "python"
  },
  "orig_nbformat": 4
 },
 "nbformat": 4,
 "nbformat_minor": 2
}
