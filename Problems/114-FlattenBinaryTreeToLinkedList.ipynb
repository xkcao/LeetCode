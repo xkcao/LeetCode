{
 "cells": [
  {
   "cell_type": "code",
   "execution_count": 2,
   "metadata": {},
   "outputs": [],
   "source": [
    "# Definition for a binary tree node.\n",
    "class TreeNode(object):\n",
    "    def __init__(self, val=0, left=None, right=None):\n",
    "        self.val = val\n",
    "        self.left = left\n",
    "        self.right = right\n",
    "class Solution(object):\n",
    "    def flatten(self, root):\n",
    "        \"\"\"\n",
    "        :type root: TreeNode\n",
    "        :rtype: None Do not return anything, modify root in-place instead.\n",
    "        \"\"\" \n",
    "        if root==None:\n",
    "            return\n",
    "        \n",
    "        def dp(node):\n",
    "            #node is not None    \n",
    "            left=node.left\n",
    "            right=node.right\n",
    "            if left!=None:\n",
    "                node.left=None                \n",
    "                lefthead,lefttail=dp(left)\n",
    "                node.right=lefthead\n",
    "                if right!=None:\n",
    "                    righthead,righttail=dp(right)\n",
    "                    lefttail.right=righthead\n",
    "            elif right!=None:\n",
    "                righthead,righttail=dp(right)\n",
    "                node.right=righthead\n",
    "            \n",
    "            tail=node\n",
    "            while tail.right!=None:\n",
    "                tail=tail.right\n",
    "            \n",
    "            return (node,tail)\n",
    "        \n",
    "        dp(root)"
   ]
  },
  {
   "cell_type": "code",
   "execution_count": 4,
   "metadata": {},
   "outputs": [],
   "source": [
    "# Definition for a binary tree node.\n",
    "class TreeNode:\n",
    "    def __init__(self, x):\n",
    "        self.val = x\n",
    "        self.left = None\n",
    "        self.right = None\n",
    "\n",
    "class Solution2:\n",
    "    \n",
    "    def flattenTree(self, node):\n",
    "        \n",
    "        # Handle the null scenario\n",
    "        if not node:\n",
    "            return None\n",
    "        \n",
    "        # For a leaf node, we simply return the\n",
    "        # node as is.\n",
    "        if not node.left and not node.right:\n",
    "            return node\n",
    "        \n",
    "        # Recursively flatten the left subtree\n",
    "        leftTail = self.flattenTree(node.left)\n",
    "        \n",
    "        # Recursively flatten the right subtree\n",
    "        rightTail = self.flattenTree(node.right)\n",
    "        \n",
    "        # If there was a left subtree, we shuffle the connections\n",
    "        # around so that there is nothing on the left side\n",
    "        # anymore.\n",
    "        if leftTail:\n",
    "            leftTail.right = node.right\n",
    "            node.right = node.left\n",
    "            node.left = None\n",
    "        \n",
    "        # We need to return the \"rightmost\" node after we are\n",
    "        # done wiring the new connections. \n",
    "        return rightTail if rightTail else leftTail\n",
    "    \n",
    "    def flatten(self, root: TreeNode) -> None:\n",
    "        \"\"\"\n",
    "        Do not return anything, modify root in-place instead.\n",
    "        \"\"\"\n",
    "        \n",
    "        self.flattenTree(root)"
   ]
  }
 ],
 "metadata": {
  "kernelspec": {
   "display_name": "Python 3.9.0 64-bit",
   "language": "python",
   "name": "python3"
  },
  "language_info": {
   "codemirror_mode": {
    "name": "ipython",
    "version": 3
   },
   "file_extension": ".py",
   "mimetype": "text/x-python",
   "name": "python",
   "nbconvert_exporter": "python",
   "pygments_lexer": "ipython3",
   "version": "3.9.0"
  },
  "orig_nbformat": 4,
  "vscode": {
   "interpreter": {
    "hash": "02f36f923ced5460909a8e78ad0d9c2d23697e0f6cbb99ccac5c6a7ef7bfd943"
   }
  }
 },
 "nbformat": 4,
 "nbformat_minor": 2
}
