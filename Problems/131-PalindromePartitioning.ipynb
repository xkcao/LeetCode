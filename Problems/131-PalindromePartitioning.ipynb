{
 "cells": [
  {
   "cell_type": "code",
   "execution_count": 3,
   "metadata": {},
   "outputs": [],
   "source": [
    "class Solution:\n",
    "    def partition(self, s):\n",
    "        #recursive dynamic programming to build the solution\n",
    "        def dp(s):\n",
    "            ans=[]\n",
    "            if len(s)==0:\n",
    "                return [[]]\n",
    "            for i in range(len(s)):\n",
    "                if isPalindrome(s[0:i+1]):\n",
    "                    remaining=dp(s[i+1:])\n",
    "                    for item in remaining:\n",
    "                        ans.append([s[0:i+1]]+item)\n",
    "                        \n",
    "            return ans\n",
    "        \n",
    "        #check if a given string s is a palindrome\n",
    "        def isPalindrome(s):\n",
    "            if len(s)<=1:\n",
    "                return True\n",
    "            \n",
    "            for i in range(len(s)//2):\n",
    "                if s[i]!=s[len(s)-1-i]:\n",
    "                    return False\n",
    "                \n",
    "            return True\n",
    "        \n",
    "        return dp(s)"
   ]
  }
 ],
 "metadata": {
  "interpreter": {
   "hash": "02f36f923ced5460909a8e78ad0d9c2d23697e0f6cbb99ccac5c6a7ef7bfd943"
  },
  "kernelspec": {
   "display_name": "Python 3.9.0 64-bit",
   "language": "python",
   "name": "python3"
  },
  "language_info": {
   "codemirror_mode": {
    "name": "ipython",
    "version": 3
   },
   "file_extension": ".py",
   "mimetype": "text/x-python",
   "name": "python",
   "nbconvert_exporter": "python",
   "pygments_lexer": "ipython3",
   "version": "3.9.0"
  },
  "orig_nbformat": 4
 },
 "nbformat": 4,
 "nbformat_minor": 2
}
