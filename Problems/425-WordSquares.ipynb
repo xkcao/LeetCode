{
 "cells": [
  {
   "cell_type": "code",
   "execution_count": 1,
   "metadata": {},
   "outputs": [],
   "source": [
    "class Solution(object):\n",
    "    def wordSquares(self, words):\n",
    "        \"\"\"\n",
    "        :type words: List[str]\n",
    "        :rtype: List[List[str]]\n",
    "        \"\"\"\n",
    "        global n\n",
    "        n=len(words[0])  #the length of each word\n",
    "        ans=[]\n",
    "        \n",
    "        def isValid(wordList,word):\n",
    "            global n\n",
    "            if len(wordList)==0:\n",
    "                return True\n",
    "            \n",
    "            m=len(wordList) #number of words in wordList, m<n\n",
    "            j=0\n",
    "            while j<m:\n",
    "                if word[j]!=wordList[j][m]:\n",
    "                    return False\n",
    "                j+=1\n",
    "                \n",
    "            return True\n",
    "            \n",
    "        \n",
    "        def backTracking(wordList):\n",
    "            global n\n",
    "            if len(wordList)==n:\n",
    "                ans.append(wordList)\n",
    "                return\n",
    "            \n",
    "            for word in words:\n",
    "                if isValid(wordList,word):\n",
    "                    newList=wordList+[word]\n",
    "                    backTracking(newList)\n",
    "                    \n",
    "        backTracking([])\n",
    "        return ans\n",
    "                "
   ]
  },
  {
   "cell_type": "code",
   "execution_count": null,
   "metadata": {},
   "outputs": [],
   "source": [
    "class Solution:\n",
    "\n",
    "    def wordSquares(self, words):\n",
    "\n",
    "        self.words = words\n",
    "        self.N = len(words[0])\n",
    "        self.buildPrefixHashTable(self.words)\n",
    "\n",
    "        results = []\n",
    "        word_squares = []\n",
    "        for word in words:\n",
    "            word_squares = [word]\n",
    "            self.backtracking(1, word_squares, results)\n",
    "        return results\n",
    "\n",
    "    def backtracking(self, step, word_squares, results):\n",
    "        if step == self.N:\n",
    "            results.append(word_squares[:])\n",
    "            return\n",
    "\n",
    "        prefix = ''.join([word[step] for word in word_squares])\n",
    "        for candidate in self.getWordsWithPrefix(prefix):\n",
    "            word_squares.append(candidate)\n",
    "            self.backtracking(step+1, word_squares, results)\n",
    "            word_squares.pop()\n",
    "\n",
    "    def buildPrefixHashTable(self, words):\n",
    "        self.prefixHashTable = {}\n",
    "        for word in words:\n",
    "            for prefix in (word[:i] for i in range(1, len(word))):\n",
    "                self.prefixHashTable.setdefault(prefix, set()).add(word)\n",
    "\n",
    "    def getWordsWithPrefix(self, prefix):\n",
    "        if prefix in self.prefixHashTable:\n",
    "            return self.prefixHashTable[prefix]\n",
    "        else:\n",
    "            return set([])"
   ]
  }
 ],
 "metadata": {
  "kernelspec": {
   "display_name": "Python 3.9.0 64-bit",
   "language": "python",
   "name": "python3"
  },
  "language_info": {
   "codemirror_mode": {
    "name": "ipython",
    "version": 3
   },
   "file_extension": ".py",
   "mimetype": "text/x-python",
   "name": "python",
   "nbconvert_exporter": "python",
   "pygments_lexer": "ipython3",
   "version": "3.9.0"
  },
  "orig_nbformat": 4,
  "vscode": {
   "interpreter": {
    "hash": "02f36f923ced5460909a8e78ad0d9c2d23697e0f6cbb99ccac5c6a7ef7bfd943"
   }
  }
 },
 "nbformat": 4,
 "nbformat_minor": 2
}
