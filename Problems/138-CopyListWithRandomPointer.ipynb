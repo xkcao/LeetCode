{
 "cells": [
  {
   "cell_type": "code",
   "execution_count": 1,
   "metadata": {},
   "outputs": [],
   "source": [
    "class Solution(object):\n",
    "    def __init__(self):\n",
    "        # Creating a visited dictionary to hold old node reference as \"key\" and new node reference as the \"value\"\n",
    "        self.visited = {}\n",
    "\n",
    "    def getClonedNode(self, node):\n",
    "        # If node exists then\n",
    "        if node:\n",
    "            # Check if its in the visited dictionary          \n",
    "            if node in self.visited:\n",
    "                # If its in the visited dictionary then return the new node reference from the dictionary\n",
    "                return self.visited[node]\n",
    "            else:\n",
    "                # Otherwise create a new node, save the reference in the visited dictionary and return it.\n",
    "                self.visited[node] = Node(node.val, None, None)\n",
    "                return self.visited[node]\n",
    "        return None\n",
    "\n",
    "    def copyRandomList(self, head):\n",
    "        \"\"\"\n",
    "        :type head: Node\n",
    "        :rtype: Node\n",
    "        \"\"\"\n",
    "\n",
    "        if not head:\n",
    "            return head\n",
    "\n",
    "        old_node = head\n",
    "        # Creating the new head node.       \n",
    "        new_node = Node(old_node.val, None, None)\n",
    "        self.visited[old_node] = new_node\n",
    "\n",
    "        # Iterate on the linked list until all nodes are cloned.\n",
    "        while old_node != None:\n",
    "\n",
    "            # Get the clones of the nodes referenced by random and next pointers.\n",
    "            new_node.random = self.getClonedNode(old_node.random)\n",
    "            new_node.next = self.getClonedNode(old_node.next)\n",
    "\n",
    "            # Move one step ahead in the linked list.\n",
    "            old_node = old_node.next\n",
    "            new_node = new_node.next\n",
    "\n",
    "        return self.visited[head]"
   ]
  }
 ],
 "metadata": {
  "interpreter": {
   "hash": "a245dac45e51386e3067f7bf875d7c30851316ec82b938f00e050e0cf1d2e3a2"
  },
  "kernelspec": {
   "display_name": "Python 3.9.0 64-bit",
   "language": "python",
   "name": "python3"
  },
  "language_info": {
   "codemirror_mode": {
    "name": "ipython",
    "version": 3
   },
   "file_extension": ".py",
   "mimetype": "text/x-python",
   "name": "python",
   "nbconvert_exporter": "python",
   "pygments_lexer": "ipython3",
   "version": "3.9.0"
  },
  "orig_nbformat": 4
 },
 "nbformat": 4,
 "nbformat_minor": 2
}
