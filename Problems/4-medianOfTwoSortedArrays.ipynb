{
 "cells": [
  {
   "cell_type": "code",
   "execution_count": 6,
   "metadata": {},
   "outputs": [],
   "source": [
    "class Solution(object):\n",
    "    def findMedianSortedArrays(self, nums1, nums2):\n",
    "        \"\"\"\n",
    "        :type nums1: List[int]\n",
    "        :type nums2: List[int]\n",
    "        :rtype: float\n",
    "        \"\"\"\n",
    "        i=0\n",
    "        j=0\n",
    "        total_length=len(nums1)+len(nums2)\n",
    "        l=[]\n",
    "        \n",
    "        while (len(l)<=total_length/2 and not (total_length==0)):\n",
    "            if (i<len(nums1) and j<len(nums2) and nums1[i]<=nums2[j]) or (i<len(nums1) and j>=len(nums2)):\n",
    "                l.append(nums1[i])\n",
    "                i=i+1\n",
    "            elif (i<len(nums1) and j<len(nums2) and nums2[j]<=nums1[i]) or (j<len(nums2) and i>=len(nums1)):\n",
    "                l.append(nums2[j])\n",
    "                j=j+1\n",
    "        \n",
    "        l_length=len(l)\n",
    "        if total_length%2==0 and l_length>=2:\n",
    "            return (l[l_length-2]+l[l_length-1])/2\n",
    "        elif l_length>=1:\n",
    "            return l[l_length-1]\n",
    "        else:\n",
    "            return 0"
   ]
  },
  {
   "cell_type": "code",
   "execution_count": 7,
   "metadata": {},
   "outputs": [
    {
     "data": {
      "text/plain": [
       "2.5"
      ]
     },
     "execution_count": 7,
     "metadata": {},
     "output_type": "execute_result"
    }
   ],
   "source": [
    "sol = Solution()\n",
    "nums1 = [1,2]\n",
    "nums2 = [3,4]\n",
    "sol.findMedianSortedArrays(nums1,nums2)"
   ]
  },
  {
   "cell_type": "code",
   "execution_count": null,
   "metadata": {},
   "outputs": [],
   "source": [
    "class Solution(object):\n",
    "\tdef findMedianSortedArrays(self, nums1, nums2):\n",
    "\t\ttotal = len(nums1) + len(nums2)\n",
    "\t\tresult = []\n",
    "\t\t\n",
    "\t\t# step 1\n",
    "\t\tloc = total//2 + 1\n",
    "\t\t\n",
    "\t\t# step 2\n",
    "\t\tfor i in range(loc):\n",
    "\t\t\ttry:\n",
    "\t\t\t\tif(nums1[0]<=nums2[0]):\n",
    "\t\t\t\t\tresult.append(nums1.pop(0))\n",
    "\t\t\t\telse:\n",
    "\t\t\t\t\tresult.append(nums2.pop(0))\n",
    "\t\t\texcept:\n",
    "\t\t\t\tif(nums1==[]):\n",
    "\t\t\t\t\tresult.append(nums2.pop(0))\n",
    "\t\t\t\telif(nums2==[]):\n",
    "\t\t\t\t\tresult.append(nums1.pop(0))\n",
    "\t\t\n",
    "\t\t# step 3\n",
    "\t\tif(total%2==1):\n",
    "\t\t\treturn result[-1]\n",
    "\t\telif(total%2==0):\n",
    "\t\t\treturn (result[-1] + result[-2])/float(2)"
   ]
  },
  {
   "cell_type": "code",
   "execution_count": 1,
   "metadata": {},
   "outputs": [],
   "source": [
    "class Solution(object):\n",
    "    def findMedianSortedArrays(self, nums1, nums2):\n",
    "        # append the nums2 list at the end of nums1 list\n",
    "        nums=nums1+nums2\n",
    "        #sort the combined list\n",
    "        nums.sort()\n",
    "        \n",
    "        m=len(nums1)\n",
    "        n=len(nums2)\n",
    "        \n",
    "        #if the list length is odds number, return the number in the middle\n",
    "        #otherwise, return the average of the 2 numbers in the middle\n",
    "        if (m+n)%2==1:\n",
    "            return nums[(m+n)//2]\n",
    "        else:\n",
    "            return (nums[(m+n)//2-1]+nums[(m+n)//2])/2.0\n",
    "        "
   ]
  }
 ],
 "metadata": {
  "kernelspec": {
   "display_name": "Python 3.9.0 64-bit",
   "language": "python",
   "name": "python3"
  },
  "language_info": {
   "codemirror_mode": {
    "name": "ipython",
    "version": 3
   },
   "file_extension": ".py",
   "mimetype": "text/x-python",
   "name": "python",
   "nbconvert_exporter": "python",
   "pygments_lexer": "ipython3",
   "version": "3.9.0"
  },
  "orig_nbformat": 4,
  "vscode": {
   "interpreter": {
    "hash": "02f36f923ced5460909a8e78ad0d9c2d23697e0f6cbb99ccac5c6a7ef7bfd943"
   }
  }
 },
 "nbformat": 4,
 "nbformat_minor": 2
}
