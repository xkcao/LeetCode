{
 "cells": [
  {
   "cell_type": "code",
   "execution_count": 6,
   "metadata": {},
   "outputs": [],
   "source": [
    "class Solution(object):\n",
    "    def findMedianSortedArrays(self, nums1, nums2):\n",
    "        \"\"\"\n",
    "        :type nums1: List[int]\n",
    "        :type nums2: List[int]\n",
    "        :rtype: float\n",
    "        \"\"\"\n",
    "        i=0\n",
    "        j=0\n",
    "        total_length=len(nums1)+len(nums2)\n",
    "        l=[]\n",
    "        \n",
    "        while (len(l)<=total_length/2 and not (total_length==0)):\n",
    "            if (i<len(nums1) and j<len(nums2) and nums1[i]<=nums2[j]) or (i<len(nums1) and j>=len(nums2)):\n",
    "                l.append(nums1[i])\n",
    "                i=i+1\n",
    "            elif (i<len(nums1) and j<len(nums2) and nums2[j]<=nums1[i]) or (j<len(nums2) and i>=len(nums1)):\n",
    "                l.append(nums2[j])\n",
    "                j=j+1\n",
    "        \n",
    "        l_length=len(l)\n",
    "        if total_length%2==0 and l_length>=2:\n",
    "            return (l[l_length-2]+l[l_length-1])/2\n",
    "        elif l_length>=1:\n",
    "            return l[l_length-1]\n",
    "        else:\n",
    "            return 0"
   ]
  },
  {
   "cell_type": "code",
   "execution_count": 7,
   "metadata": {},
   "outputs": [
    {
     "data": {
      "text/plain": [
       "2.5"
      ]
     },
     "execution_count": 7,
     "metadata": {},
     "output_type": "execute_result"
    }
   ],
   "source": [
    "sol = Solution()\n",
    "nums1 = [1,2]\n",
    "nums2 = [3,4]\n",
    "sol.findMedianSortedArrays(nums1,nums2)"
   ]
  },
  {
   "cell_type": "code",
   "execution_count": null,
   "metadata": {},
   "outputs": [],
   "source": [
    "class Solution(object):\n",
    "\tdef findMedianSortedArrays(self, nums1, nums2):\n",
    "\t\ttotal = len(nums1) + len(nums2)\n",
    "\t\tresult = []\n",
    "\t\t\n",
    "\t\t# step 1\n",
    "\t\tloc = total//2 + 1\n",
    "\t\t\n",
    "\t\t# step 2\n",
    "\t\tfor i in range(loc):\n",
    "\t\t\ttry:\n",
    "\t\t\t\tif(nums1[0]<=nums2[0]):\n",
    "\t\t\t\t\tresult.append(nums1.pop(0))\n",
    "\t\t\t\telse:\n",
    "\t\t\t\t\tresult.append(nums2.pop(0))\n",
    "\t\t\texcept:\n",
    "\t\t\t\tif(nums1==[]):\n",
    "\t\t\t\t\tresult.append(nums2.pop(0))\n",
    "\t\t\t\telif(nums2==[]):\n",
    "\t\t\t\t\tresult.append(nums1.pop(0))\n",
    "\t\t\n",
    "\t\t# step 3\n",
    "\t\tif(total%2==1):\n",
    "\t\t\treturn result[-1]\n",
    "\t\telif(total%2==0):\n",
    "\t\t\treturn (result[-1] + result[-2])/float(2)"
   ]
  }
 ],
 "metadata": {
  "interpreter": {
   "hash": "a245dac45e51386e3067f7bf875d7c30851316ec82b938f00e050e0cf1d2e3a2"
  },
  "kernelspec": {
   "display_name": "Python 3.9.0 64-bit",
   "language": "python",
   "name": "python3"
  },
  "language_info": {
   "codemirror_mode": {
    "name": "ipython",
    "version": 3
   },
   "file_extension": ".py",
   "mimetype": "text/x-python",
   "name": "python",
   "nbconvert_exporter": "python",
   "pygments_lexer": "ipython3",
   "version": "3.9.0"
  },
  "orig_nbformat": 4
 },
 "nbformat": 4,
 "nbformat_minor": 2
}
