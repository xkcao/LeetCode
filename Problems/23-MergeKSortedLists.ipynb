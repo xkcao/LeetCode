{
 "cells": [
  {
   "cell_type": "code",
   "execution_count": 6,
   "metadata": {},
   "outputs": [],
   "source": [
    "# Definition for singly-linked list.\n",
    "# class ListNode(object):\n",
    "#     def __init__(self, val=0, next=None):\n",
    "#         self.val = val\n",
    "#         self.next = next\n",
    "class Solution1(object):\n",
    "    def mergeKLists(self, lists):\n",
    "        \"\"\"\n",
    "        :type lists: List[ListNode]\n",
    "        :rtype: ListNode\n",
    "        \"\"\"                \n",
    "        minVal=0\n",
    "        minIndex=0\n",
    "        head=None\n",
    "        for i in range(len(lists)):            \n",
    "            if lists[i]==None:\n",
    "                continue\n",
    "            if head==None or lists[i].val<minVal:\n",
    "                minVal=lists[i].val\n",
    "                head=lists[i]\n",
    "                minIndex=i\n",
    "        \n",
    "        if head==None:\n",
    "            return head\n",
    "        \n",
    "        newHead = head.next\n",
    "        lists[minIndex]=newHead\n",
    "            \n",
    "        head.next=self.mergeKLists(lists)\n",
    "        return head"
   ]
  }
 ],
 "metadata": {
  "interpreter": {
   "hash": "a245dac45e51386e3067f7bf875d7c30851316ec82b938f00e050e0cf1d2e3a2"
  },
  "kernelspec": {
   "display_name": "Python 3.9.0 64-bit",
   "language": "python",
   "name": "python3"
  },
  "language_info": {
   "codemirror_mode": {
    "name": "ipython",
    "version": 3
   },
   "file_extension": ".py",
   "mimetype": "text/x-python",
   "name": "python",
   "nbconvert_exporter": "python",
   "pygments_lexer": "ipython3",
   "version": "3.9.0"
  },
  "orig_nbformat": 4
 },
 "nbformat": 4,
 "nbformat_minor": 2
}
