{
 "cells": [
  {
   "cell_type": "code",
   "execution_count": 3,
   "metadata": {},
   "outputs": [],
   "source": [
    "class MedianFinder(object):\n",
    "\n",
    "    def __init__(self):\n",
    "        self.nums=[]\n",
    "\n",
    "    def addNum(self, num):\n",
    "        \"\"\"\n",
    "        :type num: int\n",
    "        :rtype: None\n",
    "        \"\"\"\n",
    "        self.nums.append(num)      \n",
    "\n",
    "    def findMedian(self):\n",
    "        \"\"\"\n",
    "        :rtype: float\n",
    "        \"\"\"\n",
    "        self.nums.sort()\n",
    "        if len(self.nums)==1:\n",
    "            return self.nums[0]\n",
    "        elif len(self.nums)%2==1:\n",
    "            return self.nums[len(self.nums)//2]\n",
    "        else:\n",
    "            return (self.nums[len(self.nums)//2-1]+self.nums[len(self.nums)//2])/2.0\n",
    "        \n",
    "\n",
    "\n",
    "# Your MedianFinder object will be instantiated and called as such:\n",
    "# obj = MedianFinder()\n",
    "# obj.addNum(num)\n",
    "# param_2 = obj.findMedian()"
   ]
  },
  {
   "cell_type": "code",
   "execution_count": 8,
   "metadata": {},
   "outputs": [],
   "source": [
    "# Approach 2: Insertion Sort\n",
    "# Intuition\n",
    "\n",
    "# Keeping our input container always sorted (i.e. maintaining the sorted nature of the container as an invariant).\n",
    "\n",
    "# Algorithm\n",
    "\n",
    "# Which algorithm allows a number to be added to a sorted list of numbers and yet keeps the entire list sorted? Well, for one, insertion sort!\n",
    "\n",
    "# We assume that the current list is already sorted. When a new number comes, we have to add it to the list while maintaining the sorted nature of the list. This is achieved easily by finding the correct place to insert the incoming number, using a binary search (remember, the list is always sorted). Once the position is found, we need to shift all higher elements by one space to make room for the incoming number.\n",
    "\n",
    "# This method would work well when the amount of insertion queries is lesser or about the same as the amount of median finding queries.\n",
    "\n",
    "import bisect\n",
    "class MedianFinder(object):\n",
    "\n",
    "    def __init__(self):\n",
    "        self.nums=[]\n",
    "\n",
    "    def addNum(self, num):\n",
    "        \"\"\"\n",
    "        :type num: int\n",
    "        :rtype: None\n",
    "        \"\"\"\n",
    "        bisect.insort_left(self.nums,num)\n",
    "\n",
    "    def findMedian(self):\n",
    "        \"\"\"\n",
    "        :rtype: float\n",
    "        \"\"\"\n",
    "        if len(self.nums)==1:\n",
    "            return self.nums[0]\n",
    "        elif len(self.nums)%2==1:\n",
    "            return self.nums[len(self.nums)//2]\n",
    "        else:\n",
    "            return (self.nums[len(self.nums)//2-1]+self.nums[len(self.nums)//2])/2.0\n",
    "        \n",
    "\n",
    "\n",
    "# Your MedianFinder object will be instantiated and called as such:\n",
    "# obj = MedianFinder()\n",
    "# obj.addNum(num)\n",
    "# param_2 = obj.findMedian()"
   ]
  }
 ],
 "metadata": {
  "interpreter": {
   "hash": "a245dac45e51386e3067f7bf875d7c30851316ec82b938f00e050e0cf1d2e3a2"
  },
  "kernelspec": {
   "display_name": "Python 3.9.0 64-bit",
   "language": "python",
   "name": "python3"
  },
  "language_info": {
   "codemirror_mode": {
    "name": "ipython",
    "version": 3
   },
   "file_extension": ".py",
   "mimetype": "text/x-python",
   "name": "python",
   "nbconvert_exporter": "python",
   "pygments_lexer": "ipython3",
   "version": "3.9.0"
  },
  "orig_nbformat": 4
 },
 "nbformat": 4,
 "nbformat_minor": 2
}
