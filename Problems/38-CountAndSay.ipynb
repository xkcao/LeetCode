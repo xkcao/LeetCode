{
 "cells": [
  {
   "cell_type": "code",
   "execution_count": 2,
   "metadata": {},
   "outputs": [],
   "source": [
    "class Solution(object):\n",
    "    def countAndSay(self, n):\n",
    "        \"\"\"\n",
    "        :type n: int\n",
    "        :rtype: str\n",
    "        \"\"\"\n",
    "        if n==1:\n",
    "            return \"1\"\n",
    "        \n",
    "        previousStr = self.countAndSay(n-1)\n",
    "        \n",
    "        result=\"\"\n",
    "        \n",
    "        i=0\n",
    "        isNewNum=False\n",
    "        newNum=0\n",
    "        numCount=0\n",
    "        while i<len(previousStr):\n",
    "            if i==0 or previousStr[i]!=previousStr[i-1]:\n",
    "                if i!=0:\n",
    "                    result+=str(numCount)\n",
    "                    result+=str(newNum)\n",
    "                isNewNum=True\n",
    "                newNum=previousStr[i]\n",
    "                numCount=1\n",
    "            else:\n",
    "                isNewNum=False\n",
    "                numCount+=1  \n",
    "                \n",
    "            i+=1\n",
    "            \n",
    "        result+=str(numCount)\n",
    "        result+=str(newNum)            \n",
    "            \n",
    "        return result"
   ]
  }
 ],
 "metadata": {
  "interpreter": {
   "hash": "a245dac45e51386e3067f7bf875d7c30851316ec82b938f00e050e0cf1d2e3a2"
  },
  "kernelspec": {
   "display_name": "Python 3.9.0 64-bit",
   "language": "python",
   "name": "python3"
  },
  "language_info": {
   "codemirror_mode": {
    "name": "ipython",
    "version": 3
   },
   "file_extension": ".py",
   "mimetype": "text/x-python",
   "name": "python",
   "nbconvert_exporter": "python",
   "pygments_lexer": "ipython3",
   "version": "3.9.0"
  },
  "orig_nbformat": 4
 },
 "nbformat": 4,
 "nbformat_minor": 2
}
