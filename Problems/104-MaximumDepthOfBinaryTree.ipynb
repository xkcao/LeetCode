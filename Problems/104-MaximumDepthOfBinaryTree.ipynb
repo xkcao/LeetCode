{
 "cells": [
  {
   "cell_type": "code",
   "execution_count": 5,
   "metadata": {},
   "outputs": [],
   "source": [
    "# Definition for a binary tree node.\n",
    "# class TreeNode(object):\n",
    "#     def __init__(self, val=0, left=None, right=None):\n",
    "#         self.val = val\n",
    "#         self.left = left\n",
    "#         self.right = right\n",
    "class Solution(object):\n",
    "    def maxDepth(self, root):\n",
    "        \"\"\"\n",
    "        :type root: TreeNode\n",
    "        :rtype: int\n",
    "        \"\"\"\n",
    "        #special case\n",
    "        if root==None:\n",
    "            return 0\n",
    "        \n",
    "        #use a deque and push (root,1) into the queue. 1 is the level/depth\n",
    "        queue=collections.deque()\n",
    "        queue.append((root,1))\n",
    "        \n",
    "        maxDepth=1\n",
    "        while (len(queue)!=0):\n",
    "            item=queue.popleft()\n",
    "            node=item[0]\n",
    "            level=item[1]\n",
    "            #if new maxDepth is found\n",
    "            if level>maxDepth:\n",
    "                maxDepth=level\n",
    "            \n",
    "            #push the left node into the queue if exists\n",
    "            if node.left!=None:\n",
    "                queue.append((node.left,level+1))\n",
    "            #push the right node into the queue if exists\n",
    "            if node.right!=None:\n",
    "                queue.append((node.right,level+1))\n",
    "                \n",
    "        return maxDepth"
   ]
  }
 ],
 "metadata": {
  "interpreter": {
   "hash": "a245dac45e51386e3067f7bf875d7c30851316ec82b938f00e050e0cf1d2e3a2"
  },
  "kernelspec": {
   "display_name": "Python 3.9.0 64-bit",
   "language": "python",
   "name": "python3"
  },
  "language_info": {
   "codemirror_mode": {
    "name": "ipython",
    "version": 3
   },
   "file_extension": ".py",
   "mimetype": "text/x-python",
   "name": "python",
   "nbconvert_exporter": "python",
   "pygments_lexer": "ipython3",
   "version": "3.9.0"
  },
  "orig_nbformat": 4
 },
 "nbformat": 4,
 "nbformat_minor": 2
}
