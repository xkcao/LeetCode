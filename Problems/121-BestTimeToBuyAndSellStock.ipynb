{
 "cells": [
  {
   "cell_type": "code",
   "execution_count": 1,
   "metadata": {},
   "outputs": [],
   "source": [
    "class Solution(object):\n",
    "    def maxProfit(self, prices):\n",
    "        \"\"\"\n",
    "        :type prices: List[int]\n",
    "        :rtype: int\n",
    "        \"\"\"\n",
    "        maxP=0\n",
    "        for i in range(len(prices)):\n",
    "            for j in range(i+1,len(prices)):\n",
    "                if prices[j]>prices[i] and prices[j]-prices[i]>maxP:\n",
    "                    maxP=prices[j]-prices[i]\n",
    "                    \n",
    "        return maxP\n",
    "        "
   ]
  },
  {
   "cell_type": "code",
   "execution_count": 3,
   "metadata": {},
   "outputs": [],
   "source": [
    "class Solution(object):\n",
    "    def maxProfit(self, prices):\n",
    "        \"\"\"\n",
    "        :type prices: List[int]\n",
    "        :rtype: int\n",
    "        \"\"\"\n",
    "        mapping={}\n",
    "        mapping[len(prices)-1]=prices[len(prices)-1]\n",
    "        for i in reversed(range(len(prices)-1)):\n",
    "            mapping[i]=max(mapping[i+1],prices[i])\n",
    "        \n",
    "        maxP=0\n",
    "        for i in range(len(prices)-1):\n",
    "            if mapping[i+1]>prices[i] and mapping[i+1]-prices[i]>maxP:\n",
    "                maxP=mapping[i+1]-prices[i]\n",
    "                    \n",
    "        return maxP\n",
    "        "
   ]
  }
 ],
 "metadata": {
  "interpreter": {
   "hash": "a245dac45e51386e3067f7bf875d7c30851316ec82b938f00e050e0cf1d2e3a2"
  },
  "kernelspec": {
   "display_name": "Python 3.9.0 64-bit",
   "language": "python",
   "name": "python3"
  },
  "language_info": {
   "codemirror_mode": {
    "name": "ipython",
    "version": 3
   },
   "file_extension": ".py",
   "mimetype": "text/x-python",
   "name": "python",
   "nbconvert_exporter": "python",
   "pygments_lexer": "ipython3",
   "version": "3.9.0"
  },
  "orig_nbformat": 4
 },
 "nbformat": 4,
 "nbformat_minor": 2
}
