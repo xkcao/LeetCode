{
 "cells": [
  {
   "cell_type": "code",
   "execution_count": 1,
   "metadata": {},
   "outputs": [],
   "source": [
    "class Solution(object):\n",
    "    def maxProfit(self, prices):\n",
    "        \"\"\"\n",
    "        :type prices: List[int]\n",
    "        :rtype: int\n",
    "        \"\"\"\n",
    "        maxP=0\n",
    "        for i in range(len(prices)):\n",
    "            for j in range(i+1,len(prices)):\n",
    "                if prices[j]>prices[i] and prices[j]-prices[i]>maxP:\n",
    "                    maxP=prices[j]-prices[i]\n",
    "                    \n",
    "        return maxP\n",
    "        "
   ]
  },
  {
   "cell_type": "code",
   "execution_count": 3,
   "metadata": {},
   "outputs": [],
   "source": [
    "class Solution(object):\n",
    "    def maxProfit(self, prices):\n",
    "        \"\"\"\n",
    "        :type prices: List[int]\n",
    "        :rtype: int\n",
    "        \"\"\"\n",
    "        mapping={}\n",
    "        mapping[len(prices)-1]=prices[len(prices)-1]\n",
    "        for i in reversed(range(len(prices)-1)):\n",
    "            mapping[i]=max(mapping[i+1],prices[i])\n",
    "        \n",
    "        maxP=0\n",
    "        for i in range(len(prices)-1):\n",
    "            if mapping[i+1]>prices[i] and mapping[i+1]-prices[i]>maxP:\n",
    "                maxP=mapping[i+1]-prices[i]\n",
    "                    \n",
    "        return maxP\n",
    "        "
   ]
  },
  {
   "cell_type": "code",
   "execution_count": 1,
   "metadata": {},
   "outputs": [],
   "source": [
    "class Solution(object):\n",
    "    def maxProfit(self, prices):\n",
    "        \"\"\"\n",
    "        :type prices: List[int]\n",
    "        :rtype: int\n",
    "        \"\"\"\n",
    "        # Index:RemainingMax mappping. At each index, what is the remaining maximum prices\n",
    "        n=len(prices)\n",
    "        remainingMaxMap={}\n",
    "        for i in reversed(range(n)):\n",
    "            if i==n-1:\n",
    "                remainingMaxMap[i]=prices[i]\n",
    "            else:\n",
    "                remainingMaxMap[i]=max(remainingMaxMap[i+1],prices[i])\n",
    "                \n",
    "        \n",
    "        ans=-sys.maxsize\n",
    "        for i in range(n):\n",
    "            ans=max(ans,remainingMaxMap[i]-prices[i])\n",
    "            \n",
    "        ans=max(0,ans)\n",
    "        \n",
    "        return ans"
   ]
  }
 ],
 "metadata": {
  "kernelspec": {
   "display_name": "Python 3.9.0 64-bit",
   "language": "python",
   "name": "python3"
  },
  "language_info": {
   "codemirror_mode": {
    "name": "ipython",
    "version": 3
   },
   "file_extension": ".py",
   "mimetype": "text/x-python",
   "name": "python",
   "nbconvert_exporter": "python",
   "pygments_lexer": "ipython3",
   "version": "3.9.0"
  },
  "orig_nbformat": 4,
  "vscode": {
   "interpreter": {
    "hash": "02f36f923ced5460909a8e78ad0d9c2d23697e0f6cbb99ccac5c6a7ef7bfd943"
   }
  }
 },
 "nbformat": 4,
 "nbformat_minor": 2
}
