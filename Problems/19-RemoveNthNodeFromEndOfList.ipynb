{
 "cells": [
  {
   "cell_type": "code",
   "execution_count": 4,
   "metadata": {},
   "outputs": [],
   "source": [
    "# Definition for singly-linked list.\n",
    "# class ListNode(object):\n",
    "#     def __init__(self, val=0, next=None):\n",
    "#         self.val = val\n",
    "#         self.next = next\n",
    "class Solution(object):\n",
    "    def removeNthFromEnd(self, head, n):\n",
    "        \"\"\"\n",
    "        :type head: ListNode\n",
    "        :type n: int\n",
    "        :rtype: ListNode\n",
    "        \"\"\"\n",
    "        \n",
    "        node = head\n",
    "        length=1\n",
    "        while node.next!=None:        \n",
    "            node = node.next\n",
    "            length=length+1\n",
    "\n",
    "        reserveIndex=length\n",
    "        node=head\n",
    "        previousNode=None\n",
    "        nextNode=None\n",
    "        while reserveIndex!=n:\n",
    "            previousNode=node\n",
    "            node=node.next\n",
    "            nextNode=node.next\n",
    "            reserveIndex=reserveIndex-1\n",
    "\n",
    "        if previousNode!=None:\n",
    "            previousNode.next=nextNode\n",
    "\n",
    "        if node==head:\n",
    "            return head.next\n",
    "        else:\n",
    "            return head"
   ]
  }
 ],
 "metadata": {
  "interpreter": {
   "hash": "a245dac45e51386e3067f7bf875d7c30851316ec82b938f00e050e0cf1d2e3a2"
  },
  "kernelspec": {
   "display_name": "Python 3.9.0 64-bit",
   "language": "python",
   "name": "python3"
  },
  "language_info": {
   "codemirror_mode": {
    "name": "ipython",
    "version": 3
   },
   "file_extension": ".py",
   "mimetype": "text/x-python",
   "name": "python",
   "nbconvert_exporter": "python",
   "pygments_lexer": "ipython3",
   "version": "3.9.0"
  },
  "orig_nbformat": 4
 },
 "nbformat": 4,
 "nbformat_minor": 2
}
