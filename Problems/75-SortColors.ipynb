{
 "cells": [
  {
   "cell_type": "code",
   "execution_count": 1,
   "metadata": {},
   "outputs": [],
   "source": [
    "class Solution(object):\n",
    "    def sortColors(self, nums):\n",
    "        \"\"\"\n",
    "        :type nums: List[int]\n",
    "        :rtype: None Do not return anything, modify nums in-place instead.\n",
    "        \"\"\"\n",
    "        n=len(nums)\n",
    "        count={0:0,1:0,2:0}\n",
    "        \n",
    "        for i in range(n):\n",
    "            count[nums[i]]+=1\n",
    "            \n",
    "        redNum=count[0]\n",
    "        whiteNum=count[1]\n",
    "        blueNum=count[2]\n",
    "        for i in range(redNum):\n",
    "            nums[i]=0\n",
    "            \n",
    "        for i in range(redNum,redNum+whiteNum):\n",
    "            nums[i]=1\n",
    "            \n",
    "        for i in range(redNum+whiteNum,redNum+whiteNum+blueNum):\n",
    "            nums[i]=2"
   ]
  },
  {
   "cell_type": "code",
   "execution_count": 3,
   "metadata": {},
   "outputs": [],
   "source": [
    "class Solution:\n",
    "    def sortColors(self, nums):\n",
    "        \"\"\"\n",
    "        Dutch National Flag problem solution.\n",
    "        \"\"\"\n",
    "        # for all idx < p0 : nums[idx < p0] = 0\n",
    "        # curr is an index of element under consideration\n",
    "        p0 = curr = 0\n",
    "        # for all idx > p2 : nums[idx > p2] = 2\n",
    "        p2 = len(nums) - 1\n",
    "\n",
    "        while curr <= p2:\n",
    "            if nums[curr] == 0:\n",
    "                nums[p0], nums[curr] = nums[curr], nums[p0]\n",
    "                p0 += 1\n",
    "                curr += 1\n",
    "            elif nums[curr] == 2:\n",
    "                nums[curr], nums[p2] = nums[p2], nums[curr]\n",
    "                p2 -= 1\n",
    "            else:\n",
    "                curr += 1"
   ]
  }
 ],
 "metadata": {
  "interpreter": {
   "hash": "a245dac45e51386e3067f7bf875d7c30851316ec82b938f00e050e0cf1d2e3a2"
  },
  "kernelspec": {
   "display_name": "Python 3.9.0 64-bit",
   "language": "python",
   "name": "python3"
  },
  "language_info": {
   "codemirror_mode": {
    "name": "ipython",
    "version": 3
   },
   "file_extension": ".py",
   "mimetype": "text/x-python",
   "name": "python",
   "nbconvert_exporter": "python",
   "pygments_lexer": "ipython3",
   "version": "3.9.0"
  },
  "orig_nbformat": 4
 },
 "nbformat": 4,
 "nbformat_minor": 2
}
