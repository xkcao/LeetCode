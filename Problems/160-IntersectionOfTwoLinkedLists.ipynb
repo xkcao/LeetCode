{
 "cells": [
  {
   "cell_type": "code",
   "execution_count": 3,
   "metadata": {},
   "outputs": [],
   "source": [
    "# Definition for singly-linked list.\n",
    "class ListNode:\n",
    "    def __init__(self, x):\n",
    "        self.val = x\n",
    "        self.next = None\n",
    "\n",
    "class Solution:\n",
    "    def getIntersectionNode(self, headA, headB):\n",
    "        if headA==headB:\n",
    "            return headA\n",
    "        \n",
    "        HT_A={}\n",
    "        HT_B={}\n",
    "        \n",
    "        node=headA\n",
    "        while (node!=None):\n",
    "            HT_A[node]=1\n",
    "            node=node.next\n",
    "            \n",
    "        node=headB\n",
    "        while (node!=None):\n",
    "            HT_B[node]=1\n",
    "            node=node.next\n",
    "            \n",
    "        nodeA=headA\n",
    "        nodeB=headB\n",
    "        while (nodeA != None and nodeA not in HT_B):\n",
    "            nodeA=nodeA.next\n",
    "        while (nodeB != None and nodeB not in HT_A):\n",
    "            nodeB=nodeB.next\n",
    "            \n",
    "        if (nodeA==nodeB and nodeA!=None):\n",
    "            return nodeA\n",
    "        else:\n",
    "            return None"
   ]
  }
 ],
 "metadata": {
  "interpreter": {
   "hash": "02f36f923ced5460909a8e78ad0d9c2d23697e0f6cbb99ccac5c6a7ef7bfd943"
  },
  "kernelspec": {
   "display_name": "Python 3.9.0 64-bit",
   "language": "python",
   "name": "python3"
  },
  "language_info": {
   "codemirror_mode": {
    "name": "ipython",
    "version": 3
   },
   "file_extension": ".py",
   "mimetype": "text/x-python",
   "name": "python",
   "nbconvert_exporter": "python",
   "pygments_lexer": "ipython3",
   "version": "3.9.0"
  },
  "orig_nbformat": 4
 },
 "nbformat": 4,
 "nbformat_minor": 2
}
