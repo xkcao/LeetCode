{
 "cells": [
  {
   "cell_type": "code",
   "execution_count": 3,
   "metadata": {},
   "outputs": [],
   "source": [
    "\n",
    "# Definition for a Node.\n",
    "class Node:\n",
    "    def __init__(self, val: int = 0, left: 'Node' = None, right: 'Node' = None, next: 'Node' = None):\n",
    "        self.val = val\n",
    "        self.left = left\n",
    "        self.right = right\n",
    "        self.next = next\n",
    "\n",
    "\n",
    "class Solution:\n",
    "    def connect(self, root):\n",
    "        def recursiveConnect(root):\n",
    "            if root==None or root.left==None:\n",
    "                return\n",
    "            recursiveConnect(root.left)\n",
    "            recursiveConnect(root.right)\n",
    "            connect2Trees(root.left,root.right)\n",
    "            \n",
    "        def connect2Trees(left,right):\n",
    "            node1=left\n",
    "            node2=right\n",
    "            \n",
    "            while node1!=None:\n",
    "                node1.next=node2\n",
    "                node1=node1.right\n",
    "                node2=node2.left\n",
    "            \n",
    "            \n",
    "        recursiveConnect(root)\n",
    "        return root"
   ]
  }
 ],
 "metadata": {
  "interpreter": {
   "hash": "a245dac45e51386e3067f7bf875d7c30851316ec82b938f00e050e0cf1d2e3a2"
  },
  "kernelspec": {
   "display_name": "Python 3.9.0 64-bit",
   "language": "python",
   "name": "python3"
  },
  "language_info": {
   "codemirror_mode": {
    "name": "ipython",
    "version": 3
   },
   "file_extension": ".py",
   "mimetype": "text/x-python",
   "name": "python",
   "nbconvert_exporter": "python",
   "pygments_lexer": "ipython3",
   "version": "3.9.0"
  },
  "orig_nbformat": 4
 },
 "nbformat": 4,
 "nbformat_minor": 2
}
