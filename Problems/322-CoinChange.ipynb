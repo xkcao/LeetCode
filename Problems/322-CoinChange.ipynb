{
 "cells": [
  {
   "cell_type": "code",
   "execution_count": 1,
   "metadata": {},
   "outputs": [],
   "source": [
    "class Solution(object):\n",
    "    def coinChange(self, coins, amount):\n",
    "        \"\"\"\n",
    "        :type coins: List[int]\n",
    "        :type amount: int\n",
    "        :rtype: int\n",
    "        \"\"\"\n",
    "        \n",
    "        saved={}\n",
    "        def dp(remaining):\n",
    "            #if already calcuated\n",
    "            if remaining in saved:\n",
    "                return saved[remaining]\n",
    "                        \n",
    "            if remaining==0:\n",
    "                #if the amound is 0, then return 0\n",
    "                return 0\n",
    "            else:                \n",
    "                minNum=sys.maxsize\n",
    "                #loop through every coin which is less than or equal to amount\n",
    "                for i in range(len(coins)):\n",
    "                    if coins[i]<=remaining:\n",
    "                        num=dp(remaining-coins[i])\n",
    "                        if num!=-1 and num+1<minNum:\n",
    "                            saved[remaining-coins[i]]=num\n",
    "                            minNum=num+1\n",
    "                    else:\n",
    "                        break\n",
    "                \n",
    "                #if we found at least 1 feasible combination, returnt he minNum. Otherwise return -1\n",
    "                if minNum<sys.maxsize:\n",
    "                    return minNum\n",
    "                else:\n",
    "                    return -1\n",
    "            \n",
    "        coins.sort()\n",
    "        return dp(amount)"
   ]
  },
  {
   "cell_type": "code",
   "execution_count": 2,
   "metadata": {},
   "outputs": [],
   "source": [
    "class Solution(object):\n",
    "    def coinChange(self, coins, amount):\n",
    "        \"\"\"\n",
    "        :type coins: List[int]\n",
    "        :type amount: int\n",
    "        :rtype: int\n",
    "        \"\"\"\n",
    "        \n",
    "        saved={}\n",
    "        def dp(remaining):\n",
    "            #if already calcuated\n",
    "            if remaining in saved:\n",
    "                return saved[remaining]\n",
    "                        \n",
    "            if remaining==0:\n",
    "                #if the amound is 0, then return 0\n",
    "                return 0\n",
    "            else:                \n",
    "                minNum=sys.maxsize\n",
    "                #loop through every coin which is less than or equal to amount\n",
    "                for i in reversed(range(len(coins))):\n",
    "                    if coins[i]<=remaining:\n",
    "                        num=dp(remaining-coins[i])\n",
    "                        if num!=-1 and num+1<minNum:\n",
    "                            saved[remaining-coins[i]]=num\n",
    "                            minNum=num+1\n",
    "                            break\n",
    "                \n",
    "                #if we found at least 1 feasible combination, returnt he minNum. Otherwise return -1\n",
    "                if minNum<sys.maxsize:\n",
    "                    return minNum\n",
    "                else:\n",
    "                    return -1\n",
    "            \n",
    "        coins.sort()\n",
    "        return dp(amount)"
   ]
  },
  {
   "cell_type": "code",
   "execution_count": 3,
   "metadata": {},
   "outputs": [
    {
     "data": {
      "text/plain": [
       "100"
      ]
     },
     "execution_count": 3,
     "metadata": {},
     "output_type": "execute_result"
    }
   ],
   "source": [
    "coins=[1]\n",
    "amount=100\n",
    "mysol= Solution()\n",
    "mysol.coinChange(coins,amount)"
   ]
  },
  {
   "cell_type": "code",
   "execution_count": 9,
   "metadata": {},
   "outputs": [],
   "source": [
    "class Solution:\n",
    "    def coinChange(self, coins, amount):\n",
    "        dp = [float('inf')] * (amount + 1)\n",
    "        dp[0] = 0\n",
    "        \n",
    "        for coin in coins:\n",
    "            for x in range(coin, amount + 1):\n",
    "                dp[x] = min(dp[x], dp[x - coin] + 1)\n",
    "        return dp[amount] if dp[amount] != float('inf') else -1 "
   ]
  }
 ],
 "metadata": {
  "interpreter": {
   "hash": "a245dac45e51386e3067f7bf875d7c30851316ec82b938f00e050e0cf1d2e3a2"
  },
  "kernelspec": {
   "display_name": "Python 3.9.0 64-bit",
   "language": "python",
   "name": "python3"
  },
  "language_info": {
   "codemirror_mode": {
    "name": "ipython",
    "version": 3
   },
   "file_extension": ".py",
   "mimetype": "text/x-python",
   "name": "python",
   "nbconvert_exporter": "python",
   "pygments_lexer": "ipython3",
   "version": "3.9.0"
  },
  "orig_nbformat": 4
 },
 "nbformat": 4,
 "nbformat_minor": 2
}
