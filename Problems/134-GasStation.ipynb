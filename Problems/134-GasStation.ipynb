{
 "cells": [
  {
   "cell_type": "code",
   "execution_count": 15,
   "metadata": {},
   "outputs": [],
   "source": [
    "class Solution:\n",
    "    def canCompleteCircuit(self, gas, cost):\n",
    "        ans=-1\n",
    "        n=len(gas)\n",
    "        \n",
    "        for i in range(n):\n",
    "            numStation=0\n",
    "            availableGas=gas[i]-cost[i]\n",
    "            idxStation=i\n",
    "            while(availableGas>=0 and numStation<n):\n",
    "                numStation+=1\n",
    "                idxStation=(idxStation+1)%n\n",
    "                availableGas+=gas[idxStation]-cost[idxStation]\n",
    "                \n",
    "            if numStation==n:\n",
    "                ans=i\n",
    "                break\n",
    "        \n",
    "        return ans"
   ]
  },
  {
   "cell_type": "code",
   "execution_count": 16,
   "metadata": {},
   "outputs": [
    {
     "data": {
      "text/plain": [
       "3"
      ]
     },
     "execution_count": 16,
     "metadata": {},
     "output_type": "execute_result"
    }
   ],
   "source": [
    "gas = [1,2,3,4,5]\n",
    "cost = [3,4,5,1,2]\n",
    "mysol = Solution()\n",
    "mysol.canCompleteCircuit(gas,cost)"
   ]
  },
  {
   "cell_type": "code",
   "execution_count": 17,
   "metadata": {},
   "outputs": [],
   "source": [
    "class Solution:\n",
    "    def canCompleteCircuit(self, gas, cost):\n",
    "        \"\"\"\n",
    "        :type gas: List[int]\n",
    "        :type cost: List[int]\n",
    "        :rtype: int\n",
    "        \"\"\"\n",
    "        n = len(gas)\n",
    "        \n",
    "        total_tank, curr_tank = 0, 0\n",
    "        starting_station = 0\n",
    "        for i in range(n):\n",
    "            total_tank += gas[i] - cost[i]\n",
    "            curr_tank += gas[i] - cost[i]\n",
    "            # If one couldn't get here,\n",
    "            if curr_tank < 0:\n",
    "                # Pick up the next station as the starting one.\n",
    "                starting_station = i + 1\n",
    "                # Start with an empty tank.\n",
    "                curr_tank = 0\n",
    "        \n",
    "        return starting_station if total_tank >= 0 else -1"
   ]
  }
 ],
 "metadata": {
  "interpreter": {
   "hash": "02f36f923ced5460909a8e78ad0d9c2d23697e0f6cbb99ccac5c6a7ef7bfd943"
  },
  "kernelspec": {
   "display_name": "Python 3.9.0 64-bit",
   "language": "python",
   "name": "python3"
  },
  "language_info": {
   "codemirror_mode": {
    "name": "ipython",
    "version": 3
   },
   "file_extension": ".py",
   "mimetype": "text/x-python",
   "name": "python",
   "nbconvert_exporter": "python",
   "pygments_lexer": "ipython3",
   "version": "3.9.0"
  },
  "orig_nbformat": 4
 },
 "nbformat": 4,
 "nbformat_minor": 2
}
