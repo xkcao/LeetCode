{
 "cells": [
  {
   "cell_type": "code",
   "execution_count": null,
   "metadata": {},
   "outputs": [],
   "source": [
    "# The isBadVersion API is already defined for you.\n",
    "# @param version, an integer\n",
    "# @return a bool\n",
    "# def isBadVersion(version):\n",
    "\n",
    "class Solution(object):\n",
    "    def firstBadVersion(self, n):\n",
    "        \"\"\"\n",
    "        :type n: int\n",
    "        :rtype: int\n",
    "        \"\"\"\n",
    "        def firstBadVersionRange(left,right):\n",
    "            if left==right:\n",
    "                return left\n",
    "            \n",
    "            mid=(left+right)/2\n",
    "            \n",
    "            if not isBadVersion(mid):\n",
    "                return firstBadVersionRange(mid+1,right)\n",
    "            else:\n",
    "                return firstBadVersionRange(left,mid)\n",
    "            \n",
    "        return firstBadVersionRange(1,n)"
   ]
  }
 ],
 "metadata": {
  "language_info": {
   "name": "python"
  },
  "orig_nbformat": 4
 },
 "nbformat": 4,
 "nbformat_minor": 2
}
