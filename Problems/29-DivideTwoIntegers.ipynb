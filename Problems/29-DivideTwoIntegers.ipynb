{
 "cells": [
  {
   "cell_type": "code",
   "execution_count": 15,
   "metadata": {},
   "outputs": [],
   "source": [
    "class Solution(object):\n",
    "    def divide(self, dividend, divisor):\n",
    "        \"\"\"\n",
    "        :type dividend: int\n",
    "        :type divisor: int\n",
    "        :rtype: int\n",
    "        \"\"\"\n",
    "        if dividend==0:\n",
    "            return 0\n",
    "        \n",
    "        positive=True\n",
    "        if (dividend>0 and divisor<0) or (dividend<0 and divisor>0):\n",
    "            positive=False\n",
    "            \n",
    "        dividend_abs=abs(dividend)\n",
    "        divisor_abs=abs(divisor)\n",
    "        \n",
    "        result=0\n",
    "        while dividend_abs>=divisor_abs:\n",
    "            result=result+1\n",
    "            dividend_abs=dividend_abs-divisor_abs\n",
    "            \n",
    "        if not positive:\n",
    "            result=0-result\n",
    "        \n",
    "        return result"
   ]
  },
  {
   "cell_type": "code",
   "execution_count": 17,
   "metadata": {},
   "outputs": [
    {
     "data": {
      "text/plain": [
       "1023"
      ]
     },
     "execution_count": 17,
     "metadata": {},
     "output_type": "execute_result"
    }
   ],
   "source": [
    "mysol = Solution()\n",
    "dividend = 2**10 - 1\n",
    "divisor = 1\n",
    "mysol.divide(dividend,divisor)"
   ]
  }
 ],
 "metadata": {
  "interpreter": {
   "hash": "a245dac45e51386e3067f7bf875d7c30851316ec82b938f00e050e0cf1d2e3a2"
  },
  "kernelspec": {
   "display_name": "Python 3.9.0 64-bit",
   "language": "python",
   "name": "python3"
  },
  "language_info": {
   "codemirror_mode": {
    "name": "ipython",
    "version": 3
   },
   "file_extension": ".py",
   "mimetype": "text/x-python",
   "name": "python",
   "nbconvert_exporter": "python",
   "pygments_lexer": "ipython3",
   "version": "3.9.0"
  },
  "orig_nbformat": 4
 },
 "nbformat": 4,
 "nbformat_minor": 2
}
