{
 "cells": [
  {
   "cell_type": "code",
   "execution_count": 2,
   "metadata": {},
   "outputs": [],
   "source": [
    "class Solution(object):\n",
    "    def merge(self, nums1, m, nums2, n):\n",
    "        \"\"\"\n",
    "        :type nums1: List[int]\n",
    "        :type m: int\n",
    "        :type nums2: List[int]\n",
    "        :type n: int\n",
    "        :rtype: None Do not return anything, modify nums1 in-place instead.\n",
    "        \"\"\"           \n",
    "        #special cases\n",
    "        if m==0:\n",
    "            nums1[:]=nums2[:]\n",
    "            return\n",
    "        elif n==0:\n",
    "            return\n",
    "        \n",
    "        #use a new array to hold first m elements of nums1\n",
    "        nums=nums1[:m]\n",
    "        \n",
    "        #use 2 pointers\n",
    "        p1=0\n",
    "        p2=0\n",
    "        p=0\n",
    "        while(p1<m or p2<n):\n",
    "            if p1>=m:\n",
    "                nums1[p]=nums2[p2]\n",
    "                p+=1\n",
    "                p2+=1                    \n",
    "            elif p2>=n:\n",
    "                nums1[p]=nums[p1]\n",
    "                p+=1\n",
    "                p1+=1                \n",
    "            elif (nums[p1]<=nums2[p2]):\n",
    "                nums1[p]=nums[p1]\n",
    "                p+=1\n",
    "                p1+=1\n",
    "            else:\n",
    "                nums1[p]=nums2[p2]\n",
    "                p+=1\n",
    "                p2+=1                "
   ]
  }
 ],
 "metadata": {
  "interpreter": {
   "hash": "a245dac45e51386e3067f7bf875d7c30851316ec82b938f00e050e0cf1d2e3a2"
  },
  "kernelspec": {
   "display_name": "Python 3.9.0 64-bit",
   "language": "python",
   "name": "python3"
  },
  "language_info": {
   "codemirror_mode": {
    "name": "ipython",
    "version": 3
   },
   "file_extension": ".py",
   "mimetype": "text/x-python",
   "name": "python",
   "nbconvert_exporter": "python",
   "pygments_lexer": "ipython3",
   "version": "3.9.0"
  },
  "orig_nbformat": 4
 },
 "nbformat": 4,
 "nbformat_minor": 2
}
