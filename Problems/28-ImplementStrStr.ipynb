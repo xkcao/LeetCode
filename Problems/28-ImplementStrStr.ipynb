{
 "cells": [
  {
   "cell_type": "code",
   "execution_count": 37,
   "metadata": {},
   "outputs": [],
   "source": [
    "class Solution(object):\n",
    "    def strStr(self, haystack, needle):\n",
    "        \"\"\"\n",
    "        :type haystack: str\n",
    "        :type needle: str\n",
    "        :rtype: int\n",
    "        \"\"\"\n",
    "        lengthH=len(haystack)\n",
    "        lengthN=len(needle)\n",
    "        if lengthN==0:\n",
    "            return 0\n",
    "        \n",
    "        if lengthH==0 or lengthH<lengthN:\n",
    "            return -1        \n",
    "        \n",
    "        startingIndex=-1\n",
    "        match=False\n",
    "        for i in range(lengthH):\n",
    "            if lengthH-i<lengthN:\n",
    "                break            \n",
    "            if haystack[i:i+lengthN]==needle:\n",
    "                match=True\n",
    "                startingIndex=i\n",
    "                break\n",
    "            \n",
    "        return startingIndex"
   ]
  },
  {
   "cell_type": "code",
   "execution_count": 39,
   "metadata": {},
   "outputs": [
    {
     "name": "stdout",
     "output_type": "stream",
     "text": [
      "535117707130516358\n",
      "535117707130516358\n"
     ]
    }
   ],
   "source": [
    "s1=\"aaaaaaaaaaaaaaaaaaaaaaaa\"\n",
    "s2=\"aaaaaaaaaaaaaaaaaaaaaaaa\"\n",
    "hash_s1=hash(s1)\n",
    "hash_s2=hash(s2)\n",
    "print(hash_s1)\n",
    "print(hash_s2)"
   ]
  }
 ],
 "metadata": {
  "interpreter": {
   "hash": "a245dac45e51386e3067f7bf875d7c30851316ec82b938f00e050e0cf1d2e3a2"
  },
  "kernelspec": {
   "display_name": "Python 3.9.0 64-bit",
   "language": "python",
   "name": "python3"
  },
  "language_info": {
   "codemirror_mode": {
    "name": "ipython",
    "version": 3
   },
   "file_extension": ".py",
   "mimetype": "text/x-python",
   "name": "python",
   "nbconvert_exporter": "python",
   "pygments_lexer": "ipython3",
   "version": "3.9.0"
  },
  "orig_nbformat": 4
 },
 "nbformat": 4,
 "nbformat_minor": 2
}
