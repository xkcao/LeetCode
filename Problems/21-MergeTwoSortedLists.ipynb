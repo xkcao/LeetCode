{
 "cells": [
  {
   "cell_type": "code",
   "execution_count": 1,
   "metadata": {},
   "outputs": [],
   "source": [
    "# Definition for singly-linked list.\n",
    "class ListNode(object):\n",
    "    def __init__(self, val=0, next=None):\n",
    "        self.val = val\n",
    "        self.next = next\n",
    "class Solution(object):\n",
    "    def mergeTwoLists(self, list1, list2):\n",
    "        \"\"\"\n",
    "        :type list1: Optional[ListNode]\n",
    "        :type list2: Optional[ListNode]\n",
    "        :rtype: Optional[ListNode]\n",
    "        \"\"\"        \n",
    "        if list1==None:\n",
    "            return list2\n",
    "        elif list2==None:\n",
    "            return list1\n",
    "        \n",
    "        node1A = list1\n",
    "        node2A = list2\n",
    "        head=None        \n",
    "        \n",
    "        if node1A.val<=node2A.val:\n",
    "            head=node1A\n",
    "        else:\n",
    "            head=node2A        \n",
    "        \n",
    "        while node1A!=None and node2A!=None:            \n",
    "            node1B=node1A.next\n",
    "            node2B=node2A.next\n",
    "            \n",
    "            if (node1A.val<=node2A.val and node1B==None) or (node1B!=None and node1A.val<=node2A.val and node1B.val>node2A.val):\n",
    "                node1A.next=node2A\n",
    "                node1A=node1B\n",
    "            elif node1B!=None and node1B.val<=node2A.val:\n",
    "                node1A=node1B                \n",
    "            elif (node2A.val<=node1A.val and node2B==None) or (node2B!=None and node2A.val<=node1A.val and node2B.val>=node1A.val):\n",
    "                node2A.next=node1A\n",
    "                node2A=node2B\n",
    "            elif node2B!=None and node2B.val<=node1A.val:                \n",
    "                node2A=node2B            \n",
    "            \n",
    "        return head"
   ]
  },
  {
   "cell_type": "code",
   "execution_count": 3,
   "metadata": {},
   "outputs": [
    {
     "data": {
      "text/plain": [
       "<__main__.ListNode at 0x20f00b7cbb0>"
      ]
     },
     "execution_count": 3,
     "metadata": {},
     "output_type": "execute_result"
    }
   ],
   "source": [
    "list1C = ListNode(4,None)\n",
    "list1B = ListNode(2,list1C)\n",
    "list1A = ListNode(1,list1B)\n",
    "list2C = ListNode(4,None)\n",
    "list2B = ListNode(3,list2C)\n",
    "list2A = ListNode(1,list2B)\n",
    "\n",
    "mysol = Solution()\n",
    "mysol.mergeTwoLists(list1A,list2A)"
   ]
  },
  {
   "cell_type": "code",
   "execution_count": null,
   "metadata": {},
   "outputs": [],
   "source": [
    "# Definition for singly-linked list.\n",
    "# class ListNode(object):\n",
    "#     def __init__(self, val=0, next=None):\n",
    "#         self.val = val\n",
    "#         self.next = next\n",
    "class Solution(object):\n",
    "    def mergeTwoLists(self, list1, list2):\n",
    "        \"\"\"\n",
    "        :type list1: Optional[ListNode]\n",
    "        :type list2: Optional[ListNode]\n",
    "        :rtype: Optional[ListNode]\n",
    "        \"\"\"              \n",
    "        node1=list1\n",
    "        node2=list2\n",
    "        \n",
    "        #special cases, one or both of the lists is empty\n",
    "        if node1==None and node2==None:\n",
    "            return None\n",
    "        elif node1==None:\n",
    "            return node2\n",
    "        elif node2==None:\n",
    "            return node1\n",
    "        \n",
    "        #both lists are not empty\n",
    "        head=None\n",
    "        if node1.val<=node2.val:\n",
    "            head=node1\n",
    "        else:\n",
    "            head=node2\n",
    "            \n",
    "        while node1!=None and node2!=None:\n",
    "            #always let node1 point to the node with smaller value, if not switch\n",
    "            if node1.val>node2.val:\n",
    "                node1,node2=node2,node1\n",
    "                \n",
    "            while node1.next!=None and node1.next.val<=node2.val:\n",
    "                node1=node1.next\n",
    "                \n",
    "            #now either node1.next is none or node1.next.val > node2.val\n",
    "            nextNode=node1.next\n",
    "            node1.next=node2\n",
    "            node1=nextNode\n",
    "            \n",
    "        return head\n",
    "                "
   ]
  },
  {
   "cell_type": "code",
   "execution_count": 1,
   "metadata": {},
   "outputs": [],
   "source": [
    "class Solution:\n",
    "    def mergeTwoLists(self, l1, l2):\n",
    "        if l1 is None:\n",
    "            return l2\n",
    "        elif l2 is None:\n",
    "            return l1\n",
    "        elif l1.val < l2.val:\n",
    "            l1.next = self.mergeTwoLists(l1.next, l2)\n",
    "            return l1\n",
    "        else:\n",
    "            l2.next = self.mergeTwoLists(l1, l2.next)\n",
    "            return l2"
   ]
  }
 ],
 "metadata": {
  "kernelspec": {
   "display_name": "Python 3.9.0 64-bit",
   "language": "python",
   "name": "python3"
  },
  "language_info": {
   "codemirror_mode": {
    "name": "ipython",
    "version": 3
   },
   "file_extension": ".py",
   "mimetype": "text/x-python",
   "name": "python",
   "nbconvert_exporter": "python",
   "pygments_lexer": "ipython3",
   "version": "3.9.0"
  },
  "orig_nbformat": 4,
  "vscode": {
   "interpreter": {
    "hash": "02f36f923ced5460909a8e78ad0d9c2d23697e0f6cbb99ccac5c6a7ef7bfd943"
   }
  }
 },
 "nbformat": 4,
 "nbformat_minor": 2
}
