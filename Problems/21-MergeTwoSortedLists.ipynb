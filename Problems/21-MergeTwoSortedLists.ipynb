{
 "cells": [
  {
   "cell_type": "code",
   "execution_count": 1,
   "metadata": {},
   "outputs": [],
   "source": [
    "# Definition for singly-linked list.\n",
    "class ListNode(object):\n",
    "    def __init__(self, val=0, next=None):\n",
    "        self.val = val\n",
    "        self.next = next\n",
    "class Solution(object):\n",
    "    def mergeTwoLists(self, list1, list2):\n",
    "        \"\"\"\n",
    "        :type list1: Optional[ListNode]\n",
    "        :type list2: Optional[ListNode]\n",
    "        :rtype: Optional[ListNode]\n",
    "        \"\"\"        \n",
    "        if list1==None:\n",
    "            return list2\n",
    "        elif list2==None:\n",
    "            return list1\n",
    "        \n",
    "        node1A = list1\n",
    "        node2A = list2\n",
    "        head=None        \n",
    "        \n",
    "        if node1A.val<=node2A.val:\n",
    "            head=node1A\n",
    "        else:\n",
    "            head=node2A        \n",
    "        \n",
    "        while node1A!=None and node2A!=None:            \n",
    "            node1B=node1A.next\n",
    "            node2B=node2A.next\n",
    "            \n",
    "            if (node1A.val<=node2A.val and node1B==None) or (node1B!=None and node1A.val<=node2A.val and node1B.val>node2A.val):\n",
    "                node1A.next=node2A\n",
    "                node1A=node1B\n",
    "            elif node1B!=None and node1B.val<=node2A.val:\n",
    "                node1A=node1B                \n",
    "            elif (node2A.val<=node1A.val and node2B==None) or (node2B!=None and node2A.val<=node1A.val and node2B.val>=node1A.val):\n",
    "                node2A.next=node1A\n",
    "                node2A=node2B\n",
    "            elif node2B!=None and node2B.val<=node1A.val:                \n",
    "                node2A=node2B            \n",
    "            \n",
    "        return head"
   ]
  },
  {
   "cell_type": "code",
   "execution_count": 3,
   "metadata": {},
   "outputs": [
    {
     "data": {
      "text/plain": [
       "<__main__.ListNode at 0x20f00b7cbb0>"
      ]
     },
     "execution_count": 3,
     "metadata": {},
     "output_type": "execute_result"
    }
   ],
   "source": [
    "list1C = ListNode(4,None)\n",
    "list1B = ListNode(2,list1C)\n",
    "list1A = ListNode(1,list1B)\n",
    "list2C = ListNode(4,None)\n",
    "list2B = ListNode(3,list2C)\n",
    "list2A = ListNode(1,list2B)\n",
    "\n",
    "mysol = Solution()\n",
    "mysol.mergeTwoLists(list1A,list2A)"
   ]
  }
 ],
 "metadata": {
  "interpreter": {
   "hash": "a245dac45e51386e3067f7bf875d7c30851316ec82b938f00e050e0cf1d2e3a2"
  },
  "kernelspec": {
   "display_name": "Python 3.9.0 64-bit",
   "language": "python",
   "name": "python3"
  },
  "language_info": {
   "codemirror_mode": {
    "name": "ipython",
    "version": 3
   },
   "file_extension": ".py",
   "mimetype": "text/x-python",
   "name": "python",
   "nbconvert_exporter": "python",
   "pygments_lexer": "ipython3",
   "version": "3.9.0"
  },
  "orig_nbformat": 4
 },
 "nbformat": 4,
 "nbformat_minor": 2
}
