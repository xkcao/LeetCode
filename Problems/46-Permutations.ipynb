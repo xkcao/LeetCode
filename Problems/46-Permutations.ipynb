{
 "cells": [
  {
   "cell_type": "code",
   "execution_count": 26,
   "metadata": {},
   "outputs": [],
   "source": [
    "class Solution(object):\n",
    "    def permute(self, nums):\n",
    "        \"\"\"\n",
    "        :type nums: List[int]\n",
    "        :rtype: List[List[int]]\n",
    "        \"\"\"\n",
    "        previousLists=[]\n",
    "        for level in range(len(nums)):\n",
    "            newLists=[]\n",
    "            if level==0:\n",
    "                for num in nums:\n",
    "                    newLists.append([num])\n",
    "            else:\n",
    "                for aList in previousLists:\n",
    "                    for num in nums:\n",
    "                        if num not in set(aList):\n",
    "                            newList=aList[:]\n",
    "                            newList.append(num)\n",
    "                            newLists.append(newList)\n",
    "                            \n",
    "            previousLists=newLists\n",
    "            \n",
    "        return previousLists\n",
    "                            \n",
    "                "
   ]
  },
  {
   "cell_type": "code",
   "execution_count": 25,
   "metadata": {},
   "outputs": [
    {
     "data": {
      "text/plain": [
       "[[1, 2, 3], [1, 3, 2], [2, 1, 3], [2, 3, 1], [3, 1, 2], [3, 2, 1]]"
      ]
     },
     "execution_count": 25,
     "metadata": {},
     "output_type": "execute_result"
    }
   ],
   "source": [
    "mysol = Solution()\n",
    "nums=[1,2,3]\n",
    "mysol.permute(nums)"
   ]
  },
  {
   "cell_type": "code",
   "execution_count": 27,
   "metadata": {},
   "outputs": [],
   "source": [
    "class Solution:\n",
    "    def permute(self, nums):\n",
    "        \"\"\"\n",
    "        :type nums: List[int]\n",
    "        :rtype: List[List[int]]\n",
    "        \"\"\"\n",
    "        def backtrack(first = 0):\n",
    "            # if all integers are used up\n",
    "            if first == n:  \n",
    "                output.append(nums[:])\n",
    "            for i in range(first, n):\n",
    "                # place i-th integer first \n",
    "                # in the current permutation\n",
    "                nums[first], nums[i] = nums[i], nums[first]\n",
    "                # use next integers to complete the permutations\n",
    "                backtrack(first + 1)\n",
    "                # backtrack\n",
    "                nums[first], nums[i] = nums[i], nums[first]\n",
    "        \n",
    "        n = len(nums)\n",
    "        output = []\n",
    "        backtrack()\n",
    "        return output"
   ]
  }
 ],
 "metadata": {
  "interpreter": {
   "hash": "a245dac45e51386e3067f7bf875d7c30851316ec82b938f00e050e0cf1d2e3a2"
  },
  "kernelspec": {
   "display_name": "Python 3.9.0 64-bit",
   "language": "python",
   "name": "python3"
  },
  "language_info": {
   "codemirror_mode": {
    "name": "ipython",
    "version": 3
   },
   "file_extension": ".py",
   "mimetype": "text/x-python",
   "name": "python",
   "nbconvert_exporter": "python",
   "pygments_lexer": "ipython3",
   "version": "3.9.0"
  },
  "orig_nbformat": 4
 },
 "nbformat": 4,
 "nbformat_minor": 2
}
