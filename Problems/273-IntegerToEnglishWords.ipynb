{
 "cells": [
  {
   "cell_type": "code",
   "execution_count": 8,
   "metadata": {},
   "outputs": [],
   "source": [
    "class Solution(object):\n",
    "    def numberToWords(self, num):\n",
    "        \"\"\"\n",
    "        :type num: int\n",
    "        :rtype: str\n",
    "        \"\"\"\n",
    "        mapping={100:'Hundred',1:'One', 2:'Two',3:'Three',4:'Four',5:'Five',6:'Six',7:'Seven',8:'Eight',9:'Nine',10:'Ten',11:'Eleven',12:'Twelve',13:'Thirteen',14:'Fourteen',15:'Fifteen',16:'Sixteen',17:'Seventeen',18:'Eighteen',19:'Nineteen',20:'Twenty',30:'Thirty',40:'Forty',50:'Fifty',60:'Sixty',70:'Seventy',80:'Eighty',90:'Ninety',10**3:\"Thousand\",10**6:'Million',10**9:'Billion',0:'Zero'}  \n",
    "        \n",
    "        if num==0:\n",
    "            return mapping[0]\n",
    "        \n",
    "        def threeNumToWords(num):\n",
    "            \"\"\"\n",
    "            convert a 3 digit number to words\n",
    "            \"\"\"\n",
    "\n",
    "            numHundred = num//100\n",
    "            num-=numHundred*100\n",
    "            \n",
    "            numTens=num//10\n",
    "            num-=numTens*10\n",
    "            \n",
    "            numOnes=num\n",
    "            \n",
    "            word=''\n",
    "            if numHundred>0:\n",
    "                word=mapping[numHundred]+' '+mapping[100]\n",
    "                if numTens>0 or numOnes>0:\n",
    "                    word+=' '\n",
    "            \n",
    "            if numTens==1:\n",
    "                word+=mapping[numTens*10+numOnes]\n",
    "            elif numTens==0:\n",
    "                if numOnes>0:\n",
    "                    word+=mapping[numOnes]\n",
    "            else:\n",
    "                word+=mapping[numTens*10]\n",
    "                if numOnes>0:\n",
    "                    word+=' '+mapping[numOnes]\n",
    "            \n",
    "            return word        \n",
    "            \n",
    "        billion=10**9\n",
    "        million=10**6\n",
    "        thousand=10**3\n",
    "        \n",
    "        numBillion=0\n",
    "        numMillion=0\n",
    "        numThousand=0\n",
    "        numRem=0\n",
    "        \n",
    "        if num>=billion:\n",
    "            numBillion=num//billion\n",
    "            num-=numBillion*billion\n",
    "        if num>=million:\n",
    "            numMillion=num//million\n",
    "            num-=numMillion*million\n",
    "        if num>=thousand:\n",
    "            numThousand=num//thousand\n",
    "            num-=numThousand*thousand\n",
    "        numRem=num\n",
    "        \n",
    "        ans=''\n",
    "        if numBillion>0:\n",
    "            ans+=threeNumToWords(numBillion)+' '+mapping[10**9]\n",
    "            if numMillion>0 or numThousand>0 or numRem>0:\n",
    "                ans+=' '\n",
    "        \n",
    "        if numMillion>0:\n",
    "            ans+=threeNumToWords(numMillion)+' '+mapping[10**6]\n",
    "            if numThousand>0 or numRem>0:\n",
    "                ans+=' '\n",
    "            \n",
    "        if numThousand>0:\n",
    "            ans+=threeNumToWords(numThousand)+' '+mapping[10**3]\n",
    "            if numRem>0:\n",
    "                ans+=' '\n",
    "        \n",
    "        if numRem>0:\n",
    "            ans+=threeNumToWords(numRem)\n",
    "     \n",
    "            \n",
    "        return ans\n",
    "            "
   ]
  },
  {
   "cell_type": "code",
   "execution_count": 9,
   "metadata": {},
   "outputs": [
    {
     "data": {
      "text/plain": [
       "'Two Hundred Thirty Four'"
      ]
     },
     "execution_count": 9,
     "metadata": {},
     "output_type": "execute_result"
    }
   ],
   "source": [
    "num=234\n",
    "mysol=Solution()\n",
    "mysol.numberToWords(num)"
   ]
  }
 ],
 "metadata": {
  "interpreter": {
   "hash": "a245dac45e51386e3067f7bf875d7c30851316ec82b938f00e050e0cf1d2e3a2"
  },
  "kernelspec": {
   "display_name": "Python 3.9.0 64-bit",
   "language": "python",
   "name": "python3"
  },
  "language_info": {
   "codemirror_mode": {
    "name": "ipython",
    "version": 3
   },
   "file_extension": ".py",
   "mimetype": "text/x-python",
   "name": "python",
   "nbconvert_exporter": "python",
   "pygments_lexer": "ipython3",
   "version": "3.9.0"
  },
  "orig_nbformat": 4
 },
 "nbformat": 4,
 "nbformat_minor": 2
}
