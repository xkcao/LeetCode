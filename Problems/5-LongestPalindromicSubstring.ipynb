{
 "cells": [
  {
   "cell_type": "code",
   "execution_count": null,
   "metadata": {},
   "outputs": [],
   "source": [
    "class Solution(object):\n",
    "    def isPalindrome(self, s):\n",
    "        i=0\n",
    "        j=len(s)-1\n",
    "        while (i<=j):\n",
    "            if s[i]!=s[j]:\n",
    "                return 0\n",
    "            else:\n",
    "                i=i+1\n",
    "                j=j-1\n",
    "        \n",
    "        return 1\n",
    "    \n",
    "    def longestPalindrome(self, s):\n",
    "        \"\"\"\n",
    "        :type s: str\n",
    "        :rtype: str\n",
    "        \"\"\"\n",
    "        longestStr=\"\"\n",
    "        longestLength=0\n",
    "        hashmap={}\n",
    "        for i in range(len(s)):\n",
    "            for j in range(i,len(s)):\n",
    "                length=j-i+1\n",
    "                subStr=s[i:j+1]\n",
    "                if length<=longestLength:\n",
    "                    continue\n",
    "                isPalindrome = 0\n",
    "                if subStr in hashmap:\n",
    "                    isPalindrome=1\n",
    "                elif self.isPalindrome(subStr)==1:\n",
    "                    isPalindrome=1\n",
    "                    hashmap[subStr]=1\n",
    "                \n",
    "                if isPalindrome==1 and length>longestLength:\n",
    "                    longestLength=length\n",
    "                    longestStr=subStr\n",
    "        \n",
    "        return longestStr"
   ]
  }
 ],
 "metadata": {
  "language_info": {
   "name": "python"
  },
  "orig_nbformat": 4
 },
 "nbformat": 4,
 "nbformat_minor": 2
}
