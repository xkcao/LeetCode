{
 "cells": [
  {
   "cell_type": "code",
   "execution_count": null,
   "metadata": {},
   "outputs": [],
   "source": [
    "#brute force\n",
    "class Solution(object):\n",
    "    def isPalindrome(self, s):\n",
    "        i=0\n",
    "        j=len(s)-1\n",
    "        while (i<=j):\n",
    "            if s[i]!=s[j]:\n",
    "                return 0\n",
    "            else:\n",
    "                i=i+1\n",
    "                j=j-1\n",
    "        \n",
    "        return 1\n",
    "    \n",
    "    def longestPalindrome(self, s):\n",
    "        \"\"\"\n",
    "        :type s: str\n",
    "        :rtype: str\n",
    "        \"\"\"\n",
    "        longestStr=\"\"\n",
    "        longestLength=0\n",
    "        hashmap={}\n",
    "        for i in range(len(s)):\n",
    "            for j in range(i,len(s)):\n",
    "                length=j-i+1\n",
    "                subStr=s[i:j+1]\n",
    "                if length<=longestLength:\n",
    "                    continue\n",
    "                isPalindrome = 0\n",
    "                if subStr in hashmap:\n",
    "                    isPalindrome=1\n",
    "                elif self.isPalindrome(subStr)==1:\n",
    "                    isPalindrome=1\n",
    "                    hashmap[subStr]=1\n",
    "                \n",
    "                if isPalindrome==1 and length>longestLength:\n",
    "                    longestLength=length\n",
    "                    longestStr=subStr\n",
    "        \n",
    "        return longestStr"
   ]
  },
  {
   "cell_type": "code",
   "execution_count": null,
   "metadata": {},
   "outputs": [],
   "source": [
    "#Expand Around Center\n",
    "class Solution(object):\n",
    "    \n",
    "    def longestPalindrome(self, s):\n",
    "        \"\"\"\n",
    "        :type s: str\n",
    "        :rtype: str\n",
    "        \"\"\"\n",
    "        longestStr=\"\"\n",
    "        longestLength=0\n",
    "        \n",
    "        for i in range(len(s)):\n",
    "            #longest length using i as center            \n",
    "            length_1center=1\n",
    "            subStr=s[i]\n",
    "            l=i-1\n",
    "            m=i+1            \n",
    "            while (l>=0 and m<=len(s)-1 and s[l]==s[m]):\n",
    "                length_1center=length_1center+2\n",
    "                subStr = s[l:m+1]\n",
    "                l=l-1\n",
    "                m=m+1\n",
    "            \n",
    "            if (length_1center>longestLength):\n",
    "                longestLength=length_1center\n",
    "                longestStr=subStr\n",
    "            \n",
    "            #longest length using i and i+1 as center\n",
    "            length_2center=0\n",
    "            subStr=\"\"\n",
    "            l=i\n",
    "            m=i+1            \n",
    "            while (l>=0 and m<=len(s)-1 and s[l]==s[m]):\n",
    "                length_2center=length_2center+2\n",
    "                subStr = s[l:m+1]\n",
    "                l=l-1\n",
    "                m=m+1\n",
    "                \n",
    "            if (length_2center>longestLength):\n",
    "                longestLength=length_2center\n",
    "                longestStr=subStr            \n",
    "        \n",
    "        return longestStr"
   ]
  },
  {
   "cell_type": "code",
   "execution_count": 7,
   "metadata": {},
   "outputs": [
    {
     "data": {
      "text/plain": [
       "[[0, 0, 0, 0, 0, 0, 0, 0], [0, 0, 0, 0, 0, 0, 0, 0]]"
      ]
     },
     "execution_count": 7,
     "metadata": {},
     "output_type": "execute_result"
    }
   ],
   "source": [
    "matrix = [[0]*8 for i in range(2)]\n",
    "matrix"
   ]
  },
  {
   "cell_type": "code",
   "execution_count": 23,
   "metadata": {},
   "outputs": [
    {
     "name": "stdout",
     "output_type": "stream",
     "text": [
      "{(2, 3): 10, (1, 2): 12}\n"
     ]
    }
   ],
   "source": [
    "Matrix = {}\n",
    "i=2\n",
    "j=3\n",
    "Matrix[i,j] = 10\n",
    "l=1\n",
    "m=2\n",
    "Matrix[l,m] = 12\n",
    "print(Matrix)"
   ]
  },
  {
   "cell_type": "code",
   "execution_count": null,
   "metadata": {},
   "outputs": [],
   "source": [
    "class Solution(object):\n",
    "    \n",
    "    def longestPalindrome(self, s):\n",
    "        \"\"\"\n",
    "        :type s: str\n",
    "        :rtype: str\n",
    "        \"\"\"\n",
    "        visited={}\n",
    "        def ispalindrome(s):\n",
    "            #s is not empty\n",
    "            i=0\n",
    "            j=len(s)-1\n",
    "            while i<=j:\n",
    "                if s[i]!=s[j]:\n",
    "                    return False\n",
    "                i=i+1\n",
    "                j=j-1\n",
    "                \n",
    "            return True\n",
    "        \n",
    "        def dp(s):\n",
    "            if s in visited:\n",
    "                return visited[s]\n",
    "            \n",
    "            if ispalindrome(s):\n",
    "                visited[s]=s\n",
    "            else:\n",
    "                sub1=dp(s[0:len(s)-1])\n",
    "                sub2=dp(s[1:len(s)])\n",
    "                if len(sub1)>=len(sub2):\n",
    "                    visited[s]=sub1\n",
    "                else:\n",
    "                    visited[s]=sub2\n",
    "            \n",
    "            return visited[s]\n",
    "        \n",
    "        return dp(s)        "
   ]
  },
  {
   "cell_type": "code",
   "execution_count": 22,
   "metadata": {},
   "outputs": [
    {
     "data": {
      "text/plain": [
       "{(0, 0): 5}"
      ]
     },
     "execution_count": 22,
     "metadata": {},
     "output_type": "execute_result"
    }
   ],
   "source": [
    "a={}\n",
    "a[0,0]=5\n",
    "a"
   ]
  },
  {
   "cell_type": "code",
   "execution_count": 8,
   "metadata": {},
   "outputs": [],
   "source": [
    "class Solution(object):\n",
    "    \n",
    "    def longestPalindrome(self, s):\n",
    "        \"\"\"\n",
    "        :type s: str\n",
    "        :rtype: str\n",
    "        \"\"\"\n",
    "        n=len(s)\n",
    "        palindromeList={}\n",
    "        \n",
    "        longestString=''\n",
    "        longestLength=0\n",
    "        for l in range(1,n+1):\n",
    "            i=0\n",
    "            j=l-1\n",
    "            while j<=n-1:\n",
    "                if l==1:\n",
    "                    palindromeList[i,j]=True\n",
    "                elif l==2:\n",
    "                    palindromeList[i,j]=(s[i]==s[j])\n",
    "                else:\n",
    "                    palindromeList[i,j] = (s[i]==s[j] and palindromeList[i+1,j-1])\n",
    "                \n",
    "                if palindromeList[i,j] and l>longestLength:\n",
    "                    longestLength=l\n",
    "                    longestString=s[i:j+1]\n",
    "                \n",
    "                i+=1\n",
    "                j=i+l-1\n",
    "                \n",
    "                \n",
    "        return longestString"
   ]
  },
  {
   "cell_type": "code",
   "execution_count": 32,
   "metadata": {},
   "outputs": [],
   "source": [
    "class Solution(object):\n",
    "    \n",
    "    def longestPalindrome(self, s):\n",
    "        \"\"\"\n",
    "        :type s: str\n",
    "        :rtype: str\n",
    "        \"\"\"\n",
    "        n=len(s)\n",
    "        \n",
    "        longestString=''\n",
    "        longestLength=0\n",
    "        for i in range(n):\n",
    "            #expand from s[i]\n",
    "            l=0\n",
    "            while i-l>=0 and i+l<=n-1 and s[i-l]==s[i+l]:\n",
    "                if 2*l+1>longestLength:\n",
    "                    longestLength=2*l+1\n",
    "                    longestString=s[i-l:i+l+1]\n",
    "                l+=1\n",
    "            \n",
    "            #expand from s[i],s[i+1]\n",
    "            l=0\n",
    "            while i-l>=0 and i+l+1<=n-1 and s[i]==s[i+1] and s[i-l]==s[i+1+l]:\n",
    "                if 2*l+2>longestLength:\n",
    "                    longestLength=2*l+2\n",
    "                    longestString=s[i-l:i+l+2]\n",
    "                l+=1\n",
    "                \n",
    "        return longestString"
   ]
  },
  {
   "cell_type": "code",
   "execution_count": 31,
   "metadata": {},
   "outputs": [
    {
     "data": {
      "text/plain": [
       "'bb'"
      ]
     },
     "execution_count": 31,
     "metadata": {},
     "output_type": "execute_result"
    }
   ],
   "source": [
    "mysol = Solution()\n",
    "s=\"cbbd\"\n",
    "mysol.longestPalindrome(s)"
   ]
  }
 ],
 "metadata": {
  "kernelspec": {
   "display_name": "Python 3.9.0 64-bit",
   "language": "python",
   "name": "python3"
  },
  "language_info": {
   "codemirror_mode": {
    "name": "ipython",
    "version": 3
   },
   "file_extension": ".py",
   "mimetype": "text/x-python",
   "name": "python",
   "nbconvert_exporter": "python",
   "pygments_lexer": "ipython3",
   "version": "3.9.0"
  },
  "orig_nbformat": 4,
  "vscode": {
   "interpreter": {
    "hash": "02f36f923ced5460909a8e78ad0d9c2d23697e0f6cbb99ccac5c6a7ef7bfd943"
   }
  }
 },
 "nbformat": 4,
 "nbformat_minor": 2
}
