{
 "cells": [
  {
   "cell_type": "code",
   "execution_count": null,
   "metadata": {},
   "outputs": [],
   "source": [
    "#brute force\n",
    "class Solution(object):\n",
    "    def isPalindrome(self, s):\n",
    "        i=0\n",
    "        j=len(s)-1\n",
    "        while (i<=j):\n",
    "            if s[i]!=s[j]:\n",
    "                return 0\n",
    "            else:\n",
    "                i=i+1\n",
    "                j=j-1\n",
    "        \n",
    "        return 1\n",
    "    \n",
    "    def longestPalindrome(self, s):\n",
    "        \"\"\"\n",
    "        :type s: str\n",
    "        :rtype: str\n",
    "        \"\"\"\n",
    "        longestStr=\"\"\n",
    "        longestLength=0\n",
    "        hashmap={}\n",
    "        for i in range(len(s)):\n",
    "            for j in range(i,len(s)):\n",
    "                length=j-i+1\n",
    "                subStr=s[i:j+1]\n",
    "                if length<=longestLength:\n",
    "                    continue\n",
    "                isPalindrome = 0\n",
    "                if subStr in hashmap:\n",
    "                    isPalindrome=1\n",
    "                elif self.isPalindrome(subStr)==1:\n",
    "                    isPalindrome=1\n",
    "                    hashmap[subStr]=1\n",
    "                \n",
    "                if isPalindrome==1 and length>longestLength:\n",
    "                    longestLength=length\n",
    "                    longestStr=subStr\n",
    "        \n",
    "        return longestStr"
   ]
  },
  {
   "cell_type": "code",
   "execution_count": null,
   "metadata": {},
   "outputs": [],
   "source": [
    "#Expand Around Center\n",
    "class Solution(object):\n",
    "    \n",
    "    def longestPalindrome(self, s):\n",
    "        \"\"\"\n",
    "        :type s: str\n",
    "        :rtype: str\n",
    "        \"\"\"\n",
    "        longestStr=\"\"\n",
    "        longestLength=0\n",
    "        \n",
    "        for i in range(len(s)):\n",
    "            #longest length using i as center            \n",
    "            length_1center=1\n",
    "            subStr=s[i]\n",
    "            l=i-1\n",
    "            m=i+1            \n",
    "            while (l>=0 and m<=len(s)-1 and s[l]==s[m]):\n",
    "                length_1center=length_1center+2\n",
    "                subStr = s[l:m+1]\n",
    "                l=l-1\n",
    "                m=m+1\n",
    "            \n",
    "            if (length_1center>longestLength):\n",
    "                longestLength=length_1center\n",
    "                longestStr=subStr\n",
    "            \n",
    "            #longest length using i and i+1 as center\n",
    "            length_2center=0\n",
    "            subStr=\"\"\n",
    "            l=i\n",
    "            m=i+1            \n",
    "            while (l>=0 and m<=len(s)-1 and s[l]==s[m]):\n",
    "                length_2center=length_2center+2\n",
    "                subStr = s[l:m+1]\n",
    "                l=l-1\n",
    "                m=m+1\n",
    "                \n",
    "            if (length_2center>longestLength):\n",
    "                longestLength=length_2center\n",
    "                longestStr=subStr            \n",
    "        \n",
    "        return longestStr"
   ]
  },
  {
   "cell_type": "code",
   "execution_count": 7,
   "metadata": {},
   "outputs": [
    {
     "data": {
      "text/plain": [
       "[[0, 0, 0, 0, 0, 0, 0, 0], [0, 0, 0, 0, 0, 0, 0, 0]]"
      ]
     },
     "execution_count": 7,
     "metadata": {},
     "output_type": "execute_result"
    }
   ],
   "source": [
    "matrix = [[0]*8 for i in range(2)]\n",
    "matrix"
   ]
  },
  {
   "cell_type": "code",
   "execution_count": 23,
   "metadata": {},
   "outputs": [
    {
     "name": "stdout",
     "output_type": "stream",
     "text": [
      "{(2, 3): 10, (1, 2): 12}\n"
     ]
    }
   ],
   "source": [
    "Matrix = {}\n",
    "i=2\n",
    "j=3\n",
    "Matrix[i,j] = 10\n",
    "l=1\n",
    "m=2\n",
    "Matrix[l,m] = 12\n",
    "print(Matrix)"
   ]
  }
 ],
 "metadata": {
  "interpreter": {
   "hash": "a245dac45e51386e3067f7bf875d7c30851316ec82b938f00e050e0cf1d2e3a2"
  },
  "kernelspec": {
   "display_name": "Python 3.9.0 64-bit",
   "language": "python",
   "name": "python3"
  },
  "language_info": {
   "codemirror_mode": {
    "name": "ipython",
    "version": 3
   },
   "file_extension": ".py",
   "mimetype": "text/x-python",
   "name": "python",
   "nbconvert_exporter": "python",
   "pygments_lexer": "ipython3",
   "version": "3.9.0"
  },
  "orig_nbformat": 4
 },
 "nbformat": 4,
 "nbformat_minor": 2
}
