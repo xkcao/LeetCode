{
 "cells": [
  {
   "cell_type": "code",
   "execution_count": 4,
   "metadata": {},
   "outputs": [],
   "source": [
    "class Solution(object):\n",
    "    def plusOne(self, digits):\n",
    "        \"\"\"\n",
    "        :type digits: List[int]\n",
    "        :rtype: List[int]\n",
    "        \"\"\"\n",
    "        n=len(digits)\n",
    "        needOneMoreDigit=False\n",
    "        for i in reversed(range(n)):\n",
    "            digits[i]+=1\n",
    "            if digits[i]<=9:\n",
    "                break\n",
    "            else:\n",
    "                digits[i]=0\n",
    "                if i==0:\n",
    "                    needOneMoreDigit=True\n",
    "                \n",
    "        if not needOneMoreDigit:\n",
    "            return digits\n",
    "        else:\n",
    "            digits[0]=0\n",
    "            ans=[1]+digits\n",
    "            return ans"
   ]
  },
  {
   "cell_type": "code",
   "execution_count": 3,
   "metadata": {},
   "outputs": [
    {
     "data": {
      "text/plain": [
       "[0]"
      ]
     },
     "execution_count": 3,
     "metadata": {},
     "output_type": "execute_result"
    }
   ],
   "source": [
    "digits=[9]\n",
    "mysol = Solution()\n",
    "mysol.plusOne(digits)"
   ]
  }
 ],
 "metadata": {
  "interpreter": {
   "hash": "a245dac45e51386e3067f7bf875d7c30851316ec82b938f00e050e0cf1d2e3a2"
  },
  "kernelspec": {
   "display_name": "Python 3.9.0 64-bit",
   "language": "python",
   "name": "python3"
  },
  "language_info": {
   "codemirror_mode": {
    "name": "ipython",
    "version": 3
   },
   "file_extension": ".py",
   "mimetype": "text/x-python",
   "name": "python",
   "nbconvert_exporter": "python",
   "pygments_lexer": "ipython3",
   "version": "3.9.0"
  },
  "orig_nbformat": 4
 },
 "nbformat": 4,
 "nbformat_minor": 2
}
