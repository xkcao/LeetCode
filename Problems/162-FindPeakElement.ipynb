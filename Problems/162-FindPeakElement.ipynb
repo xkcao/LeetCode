{
 "cells": [
  {
   "cell_type": "code",
   "execution_count": 1,
   "metadata": {},
   "outputs": [],
   "source": [
    "class Solution:\n",
    "    def findPeakElement(self, nums):\n",
    "        def dp(left, right):\n",
    "            if left==right:\n",
    "                return left\n",
    "            \n",
    "            mid = (left+right)//2\n",
    "            \n",
    "            if nums[mid]>nums[mid+1]:\n",
    "                return dp(left,mid)\n",
    "            \n",
    "            return dp(mid+1,right)\n",
    "        \n",
    "        return dp(0,len(nums)-1)"
   ]
  }
 ],
 "metadata": {
  "interpreter": {
   "hash": "02f36f923ced5460909a8e78ad0d9c2d23697e0f6cbb99ccac5c6a7ef7bfd943"
  },
  "kernelspec": {
   "display_name": "Python 3.9.0 64-bit",
   "language": "python",
   "name": "python3"
  },
  "language_info": {
   "codemirror_mode": {
    "name": "ipython",
    "version": 3
   },
   "file_extension": ".py",
   "mimetype": "text/x-python",
   "name": "python",
   "nbconvert_exporter": "python",
   "pygments_lexer": "ipython3",
   "version": "3.9.0"
  },
  "orig_nbformat": 4
 },
 "nbformat": 4,
 "nbformat_minor": 2
}
