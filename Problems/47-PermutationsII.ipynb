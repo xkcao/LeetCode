{
 "cells": [
  {
   "cell_type": "code",
   "execution_count": 2,
   "metadata": {},
   "outputs": [],
   "source": [
    "class Solution(object):\n",
    "    def permuteUnique(self, nums):\n",
    "        \"\"\"\n",
    "        :type nums: List[int]\n",
    "        :rtype: List[List[int]]\n",
    "        \"\"\"\n",
    "        output=[]\n",
    "        \n",
    "        def bt(prefix, remaining):\n",
    "            #prefix: the list of scanned numbers\n",
    "            #remaining: the list of remaining numbers\n",
    "            if len(remaining)==0:\n",
    "                output.append(prefix)\n",
    "            \n",
    "            for i in range(len(remaining)):              \n",
    "                #only deal with unique numbers in remaining\n",
    "                if i==0 or remaining[i]!=remaining[i-1]: \n",
    "                    #new num\n",
    "                    newPrefix=prefix+[remaining[i]]\n",
    "                    newRemaining=remaining[:i]+remaining[i+1:]\n",
    "                    bt(newPrefix,newRemaining)\n",
    "        \n",
    "        nums.sort()\n",
    "        bt([],nums)   \n",
    "        return output\n",
    "        "
   ]
  }
 ],
 "metadata": {
  "kernelspec": {
   "display_name": "Python 3.9.0 64-bit",
   "language": "python",
   "name": "python3"
  },
  "language_info": {
   "codemirror_mode": {
    "name": "ipython",
    "version": 3
   },
   "file_extension": ".py",
   "mimetype": "text/x-python",
   "name": "python",
   "nbconvert_exporter": "python",
   "pygments_lexer": "ipython3",
   "version": "3.9.0"
  },
  "orig_nbformat": 4,
  "vscode": {
   "interpreter": {
    "hash": "02f36f923ced5460909a8e78ad0d9c2d23697e0f6cbb99ccac5c6a7ef7bfd943"
   }
  }
 },
 "nbformat": 4,
 "nbformat_minor": 2
}
