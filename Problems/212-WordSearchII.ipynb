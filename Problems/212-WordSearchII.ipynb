{
 "cells": [
  {
   "cell_type": "code",
   "execution_count": 19,
   "metadata": {},
   "outputs": [],
   "source": [
    "class Solution(object):\n",
    "    def findWords(self, board, words):\n",
    "        \"\"\"\n",
    "        :type board: List[List[str]]\n",
    "        :type words: List[str]\n",
    "        :rtype: List[str]\n",
    "        \"\"\"\n",
    "        \n",
    "        def wordSearch(board,word):            \n",
    "            def bt(i,j,board,suffix):\n",
    "                #basecase. invalid cell or char not equal\n",
    "                if i<0 or j<0 or i>len(board)-1 or j>len(board[0])-1 or board[i][j]!=suffix[0]:\n",
    "                    return False\n",
    "                \n",
    "                #basecase. single letter\n",
    "                if len(suffix)==1:\n",
    "                    return True\n",
    "                \n",
    "                #save the current char\n",
    "                letter=board[i][j]\n",
    "                board[i][j]=0\n",
    "                \n",
    "                result=False\n",
    "                #try each direction\n",
    "                directions=[(1,0),(-1,0),(0,1),(0,-1)]\n",
    "                for direct in directions:\n",
    "                    if bt(i+direct[0],j+direct[1],board,suffix[1:]):\n",
    "                        result=True\n",
    "                        break\n",
    "                \n",
    "                #restore original board\n",
    "                board[i][j]=letter\n",
    "                    \n",
    "                return result\n",
    "            \n",
    "            for i in range(len(board)):\n",
    "                for j in range(len(board[0])):\n",
    "                    if bt(i,j,board,word):\n",
    "                        return True\n",
    "            return False\n",
    "        \n",
    "        result=[]\n",
    "        visited=set()\n",
    "        \n",
    "        for word in words:\n",
    "            if word in visited:\n",
    "                result.append(word)\n",
    "            elif wordSearch(board,word):\n",
    "                result.append(word)\n",
    "                for i in range(len(word)):\n",
    "                    for j in range(i,len(word)):\n",
    "                        visited.add(word[i:j+1])\n",
    "                                \n",
    "        return result\n",
    "        "
   ]
  },
  {
   "cell_type": "code",
   "execution_count": 18,
   "metadata": {},
   "outputs": [
    {
     "data": {
      "text/plain": [
       "['oath', 'eat']"
      ]
     },
     "execution_count": 18,
     "metadata": {},
     "output_type": "execute_result"
    }
   ],
   "source": [
    "mysol=Solution()\n",
    "board=[[\"o\",\"a\",\"a\",\"n\"],[\"e\",\"t\",\"a\",\"e\"],[\"i\",\"h\",\"k\",\"r\"],[\"i\",\"f\",\"l\",\"v\"]]\n",
    "words=[\"oath\",\"pea\",\"eat\",\"rain\"]\n",
    "mysol.findWords(board,words)"
   ]
  },
  {
   "cell_type": "code",
   "execution_count": 23,
   "metadata": {},
   "outputs": [],
   "source": [
    "class Solution:\n",
    "    def findWords(self, board, words):\n",
    "        WORD_KEY = '$'\n",
    "        \n",
    "        trie = {}\n",
    "        for word in words:\n",
    "            node = trie\n",
    "            for letter in word:\n",
    "                # retrieve the next node; If not found, create a empty node.\n",
    "                node = node.setdefault(letter, {})\n",
    "            # mark the existence of a word in trie node\n",
    "            node[WORD_KEY] = word\n",
    "        \n",
    "        rowNum = len(board)\n",
    "        colNum = len(board[0])\n",
    "        \n",
    "        matchedWords = []\n",
    "        \n",
    "        def backtracking(row, col, parent):    \n",
    "            \n",
    "            letter = board[row][col]\n",
    "            currNode = parent[letter]\n",
    "            \n",
    "            # check if we find a match of word\n",
    "            word_match = currNode.pop(WORD_KEY, False)\n",
    "            if word_match:\n",
    "                # also we removed the matched word to avoid duplicates,\n",
    "                #   as well as avoiding using set() for results.\n",
    "                matchedWords.append(word_match)\n",
    "            \n",
    "            # Before the EXPLORATION, mark the cell as visited \n",
    "            board[row][col] = '#'\n",
    "            \n",
    "            # Explore the neighbors in 4 directions, i.e. up, right, down, left\n",
    "            for (rowOffset, colOffset) in [(-1, 0), (0, 1), (1, 0), (0, -1)]:\n",
    "                newRow, newCol = row + rowOffset, col + colOffset     \n",
    "                if newRow < 0 or newRow >= rowNum or newCol < 0 or newCol >= colNum:\n",
    "                    continue\n",
    "                if not board[newRow][newCol] in currNode:\n",
    "                    continue\n",
    "                backtracking(newRow, newCol, currNode)\n",
    "        \n",
    "            # End of EXPLORATION, we restore the cell\n",
    "            board[row][col] = letter\n",
    "        \n",
    "            # Optimization: incrementally remove the matched leaf node in Trie.\n",
    "            if not currNode:\n",
    "                parent.pop(letter)\n",
    "\n",
    "        for row in range(rowNum):\n",
    "            for col in range(colNum):\n",
    "                # starting from each of the cells\n",
    "                if board[row][col] in trie:\n",
    "                    backtracking(row, col, trie)\n",
    "        \n",
    "        return matchedWords    "
   ]
  }
 ],
 "metadata": {
  "interpreter": {
   "hash": "a245dac45e51386e3067f7bf875d7c30851316ec82b938f00e050e0cf1d2e3a2"
  },
  "kernelspec": {
   "display_name": "Python 3.9.0 64-bit",
   "language": "python",
   "name": "python3"
  },
  "language_info": {
   "codemirror_mode": {
    "name": "ipython",
    "version": 3
   },
   "file_extension": ".py",
   "mimetype": "text/x-python",
   "name": "python",
   "nbconvert_exporter": "python",
   "pygments_lexer": "ipython3",
   "version": "3.9.0"
  },
  "orig_nbformat": 4
 },
 "nbformat": 4,
 "nbformat_minor": 2
}
