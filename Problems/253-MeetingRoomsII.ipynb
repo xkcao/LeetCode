{
 "cells": [
  {
   "cell_type": "code",
   "execution_count": 10,
   "metadata": {},
   "outputs": [],
   "source": [
    "class Solution(object):\n",
    "    def minMeetingRooms(self, intervals):\n",
    "        \"\"\"\n",
    "        :type intervals: List[List[int]]\n",
    "        :rtype: int\n",
    "        \"\"\"\n",
    "        def myFunc(key):\n",
    "            return key[0]\n",
    "        \n",
    "        intervals=sorted(intervals,key=myFunc)\n",
    "        \n",
    "        groups=[]\n",
    "        for interval in intervals:\n",
    "            if not groups:\n",
    "                groups.append([])\n",
    "                groups[0].append(interval)\n",
    "            else:\n",
    "                existingRoom=False\n",
    "                for group in groups:\n",
    "                    if group[-1][1]<=interval[0]:\n",
    "                        group.append(interval)\n",
    "                        existingRoom=True\n",
    "                        break\n",
    "                if not existingRoom:\n",
    "                    groups.append([])\n",
    "                    groups[-1].append(interval)\n",
    "                \n",
    "        return len(groups)"
   ]
  },
  {
   "cell_type": "code",
   "execution_count": 8,
   "metadata": {},
   "outputs": [
    {
     "data": {
      "text/plain": [
       "1"
      ]
     },
     "execution_count": 8,
     "metadata": {},
     "output_type": "execute_result"
    }
   ],
   "source": [
    "intervals=[[7,10],[2,4]]\n",
    "mysol=Solution()\n",
    "mysol.minMeetingRooms(intervals)"
   ]
  }
 ],
 "metadata": {
  "interpreter": {
   "hash": "a245dac45e51386e3067f7bf875d7c30851316ec82b938f00e050e0cf1d2e3a2"
  },
  "kernelspec": {
   "display_name": "Python 3.9.0 64-bit",
   "language": "python",
   "name": "python3"
  },
  "language_info": {
   "codemirror_mode": {
    "name": "ipython",
    "version": 3
   },
   "file_extension": ".py",
   "mimetype": "text/x-python",
   "name": "python",
   "nbconvert_exporter": "python",
   "pygments_lexer": "ipython3",
   "version": "3.9.0"
  },
  "orig_nbformat": 4
 },
 "nbformat": 4,
 "nbformat_minor": 2
}
