{
 "cells": [
  {
   "cell_type": "code",
   "execution_count": null,
   "metadata": {},
   "outputs": [],
   "source": [
    "# Definition for singly-linked list.\n",
    "# class ListNode(object):\n",
    "#     def __init__(self, val=0, next=None):\n",
    "#         self.val = val\n",
    "#         self.next = next\n",
    "class Solution(object):\n",
    "    def reorderList(self, head):\n",
    "        \"\"\"\n",
    "        :type head: ListNode\n",
    "        :rtype: None Do not return anything, modify head in-place instead.\n",
    "        \"\"\"\n",
    "        #nums is an array holdng all the numbers in the same order\n",
    "        nums=[]\n",
    "        node=head\n",
    "        while (node!=None):\n",
    "            nums.append(node.val)\n",
    "            node=node.next\n",
    "            \n",
    "        n=len(nums)\n",
    "        node=head\n",
    "        i=0\n",
    "        while (node!=None):\n",
    "            if i%2==0:\n",
    "                node.val = nums[i//2]\n",
    "            else:\n",
    "                node.val = nums[n-1-(i-1)//2]\n",
    "                \n",
    "            i+=1\n",
    "            node=node.next"
   ]
  }
 ],
 "metadata": {
  "language_info": {
   "name": "python"
  },
  "orig_nbformat": 4
 },
 "nbformat": 4,
 "nbformat_minor": 2
}
