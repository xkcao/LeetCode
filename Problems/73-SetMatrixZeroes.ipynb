{
 "cells": [
  {
   "cell_type": "code",
   "execution_count": 1,
   "metadata": {},
   "outputs": [],
   "source": [
    "class Solution(object):\n",
    "    def setZeroes(self, matrix):\n",
    "        \"\"\"\n",
    "        :type matrix: List[List[int]]\n",
    "        :rtype: None Do not return anything, modify matrix in-place instead.\n",
    "        \"\"\"\n",
    "        m=len(matrix)\n",
    "        n=len(matrix[0])\n",
    "        \n",
    "        toVisit=[]\n",
    "        \n",
    "        for i in range(m):\n",
    "            for j in range(n):\n",
    "                cell=matrix[i][j]\n",
    "                if cell==0:\n",
    "                    toVisit.append((i,j))\n",
    "                    \n",
    "        for item in toVisit:\n",
    "            i=item[0]\n",
    "            j=item[1]\n",
    "            for k in range(m):\n",
    "                matrix[k][j]=0\n",
    "            for l in range(n):\n",
    "                matrix[i][l]=0\n",
    "        "
   ]
  }
 ],
 "metadata": {
  "interpreter": {
   "hash": "a245dac45e51386e3067f7bf875d7c30851316ec82b938f00e050e0cf1d2e3a2"
  },
  "kernelspec": {
   "display_name": "Python 3.9.0 64-bit",
   "language": "python",
   "name": "python3"
  },
  "language_info": {
   "codemirror_mode": {
    "name": "ipython",
    "version": 3
   },
   "file_extension": ".py",
   "mimetype": "text/x-python",
   "name": "python",
   "nbconvert_exporter": "python",
   "pygments_lexer": "ipython3",
   "version": "3.9.0"
  },
  "orig_nbformat": 4
 },
 "nbformat": 4,
 "nbformat_minor": 2
}
