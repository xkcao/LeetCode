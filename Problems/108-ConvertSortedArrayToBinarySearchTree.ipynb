{
 "cells": [
  {
   "cell_type": "code",
   "execution_count": 3,
   "metadata": {},
   "outputs": [],
   "source": [
    "# Definition for a binary tree node.\n",
    "class TreeNode:\n",
    "    def __init__(self, val=0, left=None, right=None):\n",
    "        self.val = val\n",
    "        self.left = left\n",
    "        self.right = right\n",
    "class Solution:\n",
    "    def sortedArrayToBST(self, nums):\n",
    "        def arraytoBST(left,right):\n",
    "            if left>right:\n",
    "                return None                        \n",
    "            \n",
    "            rootIdx=(left+right)//2\n",
    "            rootValue=nums[rootIdx]\n",
    "            \n",
    "            root=TreeNode(rootValue)\n",
    "            \n",
    "            if left!=right:\n",
    "                root.left=arraytoBST(left,rootIdx-1)\n",
    "                root.right=arraytoBST(rootIdx+1,right)\n",
    "            \n",
    "            return root\n",
    "            \n",
    "        return arraytoBST(0,len(nums)-1)\n",
    "        "
   ]
  }
 ],
 "metadata": {
  "interpreter": {
   "hash": "a245dac45e51386e3067f7bf875d7c30851316ec82b938f00e050e0cf1d2e3a2"
  },
  "kernelspec": {
   "display_name": "Python 3.9.0 64-bit",
   "language": "python",
   "name": "python3"
  },
  "language_info": {
   "codemirror_mode": {
    "name": "ipython",
    "version": 3
   },
   "file_extension": ".py",
   "mimetype": "text/x-python",
   "name": "python",
   "nbconvert_exporter": "python",
   "pygments_lexer": "ipython3",
   "version": "3.9.0"
  },
  "orig_nbformat": 4
 },
 "nbformat": 4,
 "nbformat_minor": 2
}
