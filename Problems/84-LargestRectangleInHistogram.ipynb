{
 "cells": [
  {
   "cell_type": "code",
   "execution_count": 1,
   "metadata": {},
   "outputs": [],
   "source": [
    "class Solution(object):\n",
    "    def largestRectangleArea(self, heights):\n",
    "        \"\"\"\n",
    "        :type heights: List[int]\n",
    "        :rtype: int\n",
    "        \"\"\"\n",
    "        #hash table with key=(i,j) where i and j are the indices of heights and value is the minimum height between hights[i] and heights[j] (i and j included) \n",
    "        HTMinHeight={}\n",
    "        \n",
    "        n=len(heights)\n",
    "        \n",
    "        #build the hash table HTMinHeight\n",
    "        #O(n^2)\n",
    "        for i in range(n):\n",
    "            minimum=sys.maxsize\n",
    "            for j in range(i,n):\n",
    "                if j!=i:\n",
    "                    HTMinHeight[(i,j)]=min(HTMinHeight[(i,j-1)],heights[j])\n",
    "                else:\n",
    "                    HTMinHeight[(i,j)]=heights[j]\n",
    "                    \n",
    "        \n",
    "        #loop through and find the maximum area\n",
    "        #O(n^2)\n",
    "        ans=0\n",
    "        for i in range(n):\n",
    "            for j in range(i,n):\n",
    "                ans=max(ans,HTMinHeight[(i,j)]*(j-i+1))\n",
    "                \n",
    "        return ans"
   ]
  },
  {
   "cell_type": "code",
   "execution_count": 2,
   "metadata": {},
   "outputs": [],
   "source": [
    "class Solution(object):\n",
    "    def largestRectangleArea(self, heights):\n",
    "        \"\"\"\n",
    "        :type heights: List[int]\n",
    "        :rtype: int\n",
    "        \"\"\"\n",
    "        #hash table with key=(i,j) where i and j are the indices of heights and value is the minimum height between hights[i] and heights[j] (i and j included) \n",
    "        HTMinHeight={}\n",
    "        \n",
    "        n=len(heights)\n",
    "        \n",
    "        #build the hash table HTMinHeight\n",
    "        #O(n^2)\n",
    "        ans=0\n",
    "        for i in range(n):\n",
    "            minimum=sys.maxsize\n",
    "            for j in range(i,n):\n",
    "                if j!=i:\n",
    "                    HTMinHeight[(i,j)]=min(HTMinHeight[(i,j-1)],heights[j])\n",
    "                else:\n",
    "                    HTMinHeight[(i,j)]=heights[j]\n",
    "                    \n",
    "                ans=max(ans,HTMinHeight[(i,j)]*(j-i+1))\n",
    "                \n",
    "        return ans"
   ]
  },
  {
   "cell_type": "code",
   "execution_count": 3,
   "metadata": {},
   "outputs": [],
   "source": [
    "# This approach relies on the observation that the rectangle with maximum area will be the maximum of:\n",
    "\n",
    "# The widest possible rectangle with height equal to the height of the shortest bar.\n",
    "\n",
    "# The largest rectangle confined to the left of the shortest bar(subproblem).\n",
    "\n",
    "# The largest rectangle confined to the right of the shortest bar(subproblem).\n",
    "\n",
    "class Solution:\n",
    "    def largestRectangleArea(self, heights):\n",
    "        def calculateArea(heights, start, end):\n",
    "            if start > end:\n",
    "                return 0\n",
    "            min_index = start\n",
    "            for i in range(start, end + 1):\n",
    "                if heights[min_index] > heights[i]:\n",
    "                    min_index = i\n",
    "            return max(\n",
    "                heights[min_index] * (end - start + 1),\n",
    "                calculateArea(heights, start, min_index - 1),\n",
    "                calculateArea(heights, min_index + 1, end),\n",
    "            )\n",
    "\n",
    "        return calculateArea(heights, 0, len(heights) - 1)"
   ]
  },
  {
   "cell_type": "code",
   "execution_count": 6,
   "metadata": {},
   "outputs": [],
   "source": [
    "class Solution:\n",
    "    def largestRectangleArea(self, heights):\n",
    "        stack = [-1]\n",
    "        max_area = 0\n",
    "        for i in range(len(heights)):\n",
    "            while stack[-1] != -1 and heights[stack[-1]] >= heights[i]:\n",
    "                current_height = heights[stack.pop()]\n",
    "                current_width = i - stack[-1] - 1\n",
    "                max_area = max(max_area, current_height * current_width)\n",
    "            stack.append(i)\n",
    "\n",
    "        while stack[-1] != -1:\n",
    "            current_height = heights[stack.pop()]\n",
    "            current_width = len(heights) - stack[-1] - 1\n",
    "            max_area = max(max_area, current_height * current_width)\n",
    "        return max_area"
   ]
  }
 ],
 "metadata": {
  "interpreter": {
   "hash": "a245dac45e51386e3067f7bf875d7c30851316ec82b938f00e050e0cf1d2e3a2"
  },
  "kernelspec": {
   "display_name": "Python 3.9.0 64-bit",
   "language": "python",
   "name": "python3"
  },
  "language_info": {
   "codemirror_mode": {
    "name": "ipython",
    "version": 3
   },
   "file_extension": ".py",
   "mimetype": "text/x-python",
   "name": "python",
   "nbconvert_exporter": "python",
   "pygments_lexer": "ipython3",
   "version": "3.9.0"
  },
  "orig_nbformat": 4
 },
 "nbformat": 4,
 "nbformat_minor": 2
}
