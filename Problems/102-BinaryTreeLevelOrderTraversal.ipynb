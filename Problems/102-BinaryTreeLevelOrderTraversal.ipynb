{
 "cells": [
  {
   "cell_type": "code",
   "execution_count": 1,
   "metadata": {},
   "outputs": [],
   "source": [
    "# Definition for a binary tree node.\n",
    "# class TreeNode(object):\n",
    "#     def __init__(self, val=0, left=None, right=None):\n",
    "#         self.val = val\n",
    "#         self.left = left\n",
    "#         self.right = right\n",
    "class Solution(object):\n",
    "    def levelOrder(self, root):\n",
    "        \"\"\"\n",
    "        :type root: TreeNode\n",
    "        :rtype: List[List[int]]\n",
    "        \"\"\"\n",
    "        result=[]\n",
    "        if root==None:\n",
    "            return []\n",
    "        \n",
    "        def bt(node,level):\n",
    "            if len(result)<level+1:\n",
    "                result.append([])\n",
    "            result[level].append(node.val)\n",
    "            if node.left!=None:\n",
    "                bt(node.left,level+1)\n",
    "            if node.right!=None:\n",
    "                bt(node.right,level+1)\n",
    "                \n",
    "        bt(root,0)\n",
    "        \n",
    "        return result"
   ]
  },
  {
   "cell_type": "code",
   "execution_count": null,
   "metadata": {},
   "outputs": [],
   "source": [
    "# Definition for a binary tree node.\n",
    "# class TreeNode(object):\n",
    "#     def __init__(self, val=0, left=None, right=None):\n",
    "#         self.val = val\n",
    "#         self.left = left\n",
    "#         self.right = right\n",
    "import collections\n",
    "class Solution(object):\n",
    "    def levelOrder(self, root):\n",
    "        \"\"\"\n",
    "        :type root: TreeNode\n",
    "        :rtype: List[List[int]]\n",
    "        \"\"\"\n",
    "        ans=[]\n",
    "        dq = collections.deque()\n",
    "        if root==None:\n",
    "            return ans\n",
    "        else:\n",
    "            dq.append((1,root))\n",
    "        \n",
    "        while len(dq)!=0:\n",
    "            nextItem=dq.popleft()  # nextitem is a tuple (a,b) with a is the level number and b is the node\n",
    "            \n",
    "            if len(ans)<nextItem[0]:\n",
    "                ans.append([])\n",
    "            \n",
    "            ans[nextItem[0]-1].append(nextItem[1].val)\n",
    "            if nextItem[1].left!=None:\n",
    "                dq.append((nextItem[0]+1,nextItem[1].left))\n",
    "            if nextItem[1].right!=None:\n",
    "                dq.append((nextItem[0]+1,nextItem[1].right))\n",
    "                \n",
    "        return ans\n",
    "                "
   ]
  }
 ],
 "metadata": {
  "interpreter": {
   "hash": "a245dac45e51386e3067f7bf875d7c30851316ec82b938f00e050e0cf1d2e3a2"
  },
  "kernelspec": {
   "display_name": "Python 3.9.0 64-bit",
   "language": "python",
   "name": "python3"
  },
  "language_info": {
   "codemirror_mode": {
    "name": "ipython",
    "version": 3
   },
   "file_extension": ".py",
   "mimetype": "text/x-python",
   "name": "python",
   "nbconvert_exporter": "python",
   "pygments_lexer": "ipython3",
   "version": "3.9.0"
  },
  "orig_nbformat": 4
 },
 "nbformat": 4,
 "nbformat_minor": 2
}
