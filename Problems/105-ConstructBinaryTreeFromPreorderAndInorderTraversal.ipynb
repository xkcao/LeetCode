{
 "cells": [
  {
   "cell_type": "code",
   "execution_count": 9,
   "metadata": {},
   "outputs": [],
   "source": [
    "class TreeNode(object):\n",
    "    def __init__(self, val=0, left=None, right=None):\n",
    "        self.val = val\n",
    "        self.left = left\n",
    "        self.right = right\n",
    "\n",
    "class Solution:\n",
    "    def buildTree(self, preorder, inorder):\n",
    "\n",
    "        def array_to_tree(left, right):\n",
    "            nonlocal preorder_index\n",
    "            # if there are no elements to construct the tree\n",
    "            if left > right: return None\n",
    "\n",
    "            # select the preorder_index element as the root and increment it\n",
    "            root_value = preorder[preorder_index]\n",
    "            root = TreeNode(root_value)\n",
    "\n",
    "\n",
    "            preorder_index += 1\n",
    "\n",
    "            # build left and right subtree\n",
    "            # excluding inorder_index_map[root_value] element because it's the root\n",
    "            root.left = array_to_tree(left, inorder_index_map[root_value] - 1)\n",
    "            root.right = array_to_tree(inorder_index_map[root_value] + 1, right)\n",
    "\n",
    "            return root\n",
    "\n",
    "        preorder_index = 0\n",
    "\n",
    "        # build a hashmap to store value -> its index relations\n",
    "        inorder_index_map = {}\n",
    "        for index, value in enumerate(inorder):\n",
    "            inorder_index_map[value] = index\n",
    "\n",
    "        return array_to_tree(0, len(preorder) - 1)"
   ]
  },
  {
   "cell_type": "code",
   "execution_count": 10,
   "metadata": {},
   "outputs": [
    {
     "data": {
      "text/plain": [
       "<__main__.TreeNode at 0x112459be3a0>"
      ]
     },
     "execution_count": 10,
     "metadata": {},
     "output_type": "execute_result"
    }
   ],
   "source": [
    "mysol = Solution()\n",
    "preorder = [3,9,20,15,7]\n",
    "inorder = [9,3,15,20,7]\n",
    "mysol.buildTree(preorder,inorder)"
   ]
  }
 ],
 "metadata": {
  "interpreter": {
   "hash": "a245dac45e51386e3067f7bf875d7c30851316ec82b938f00e050e0cf1d2e3a2"
  },
  "kernelspec": {
   "display_name": "Python 3.9.0 64-bit",
   "language": "python",
   "name": "python3"
  },
  "language_info": {
   "codemirror_mode": {
    "name": "ipython",
    "version": 3
   },
   "file_extension": ".py",
   "mimetype": "text/x-python",
   "name": "python",
   "nbconvert_exporter": "python",
   "pygments_lexer": "ipython3",
   "version": "3.9.0"
  },
  "orig_nbformat": 4
 },
 "nbformat": 4,
 "nbformat_minor": 2
}
