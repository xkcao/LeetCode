{
 "cells": [
  {
   "cell_type": "code",
   "execution_count": 2,
   "metadata": {},
   "outputs": [],
   "source": [
    "class Solution(object):\n",
    "    def longestValidParentheses(self, s):\n",
    "        \"\"\"\n",
    "        :type s: str\n",
    "        :rtype: int\n",
    "        \"\"\"\n",
    "        n=len(s)\n",
    "        if n==0:\n",
    "            return 0\n",
    "        \n",
    "        dpArray = [0]*(n)        \n",
    "        \n",
    "        maxLength=0\n",
    "        for i in range(n):\n",
    "            if s[i]==')':\n",
    "                if i-1>=0 and s[i-1]=='(':\n",
    "                    if i-2>=0:\n",
    "                        dpArray[i]=dpArray[i-2]+2\n",
    "                    else:\n",
    "                        dpArray[i]=2\n",
    "                elif i-1>=0 and s[i-1]==')':\n",
    "                    if i-dpArray[i-1]-1>=0 and s[i-dpArray[i-1]-1]=='(':\n",
    "                        if i-dpArray[i-1]-2>=0:\n",
    "                            dpArray[i]=dpArray[i-1]+dpArray[i-dpArray[i-1]-2]+2\n",
    "                        else:\n",
    "                            dpArray[i]=dpArray[i-1]+2\n",
    "                            \n",
    "                            \n",
    "            maxLength=max(maxLength,dpArray[i])\n",
    "            \n",
    "        return maxLength\n",
    "                    "
   ]
  }
 ],
 "metadata": {
  "kernelspec": {
   "display_name": "Python 3.9.0 64-bit",
   "language": "python",
   "name": "python3"
  },
  "language_info": {
   "codemirror_mode": {
    "name": "ipython",
    "version": 3
   },
   "file_extension": ".py",
   "mimetype": "text/x-python",
   "name": "python",
   "nbconvert_exporter": "python",
   "pygments_lexer": "ipython3",
   "version": "3.9.0"
  },
  "orig_nbformat": 4,
  "vscode": {
   "interpreter": {
    "hash": "02f36f923ced5460909a8e78ad0d9c2d23697e0f6cbb99ccac5c6a7ef7bfd943"
   }
  }
 },
 "nbformat": 4,
 "nbformat_minor": 2
}
