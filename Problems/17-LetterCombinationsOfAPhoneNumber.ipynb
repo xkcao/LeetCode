{
 "cells": [
  {
   "cell_type": "code",
   "execution_count": 15,
   "metadata": {},
   "outputs": [],
   "source": [
    "class Solution1(object):\n",
    "    def letterCombinations(self, digits):\n",
    "        \"\"\"\n",
    "        :type digits: str\n",
    "        :rtype: List[str]\n",
    "        \"\"\"\n",
    "        mapping = {'2':['a','b','c'],\n",
    "                  '3':['d','e','f'],\n",
    "                  '4':['g','h','i'],\n",
    "                  '5':['j','k','l'],\n",
    "                  '6':['m','n','o'],\n",
    "                  '7':['p','q','r','s'],\n",
    "                  '8':['t','u','v'],\n",
    "                  '9':['w','x','y','z']}\n",
    "        result=[]\n",
    "        \n",
    "        i=len(digits)-1\n",
    "        while(i>=0):\n",
    "            letterList=mapping[digits[i]]\n",
    "            oldResult=result\n",
    "            result=[]\n",
    "            for letter in letterList:\n",
    "                if len(oldResult)==0:\n",
    "                    result.append(letter)\n",
    "                else:\n",
    "                    for item in oldResult:\n",
    "                        newItem = letter + item\n",
    "                        result.append(newItem)\n",
    "            i=i-1\n",
    "        \n",
    "        return result\n",
    "        "
   ]
  },
  {
   "cell_type": "code",
   "execution_count": 31,
   "metadata": {},
   "outputs": [
    {
     "name": "stdout",
     "output_type": "stream",
     "text": [
      "['adg', 'adh', 'adi', 'aeg', 'aeh', 'aei', 'afg', 'afh', 'afi', 'bdg', 'bdh', 'bdi', 'beg', 'beh', 'bei', 'bfg', 'bfh', 'bfi', 'cdg', 'cdh', 'cdi', 'ceg', 'ceh', 'cei', 'cfg', 'cfh', 'cfi']\n"
     ]
    }
   ],
   "source": [
    "mysol1 = Solution1()\n",
    "digits = \"234\"\n",
    "print(mysol1.letterCombinations(digits))"
   ]
  }
 ],
 "metadata": {
  "interpreter": {
   "hash": "a245dac45e51386e3067f7bf875d7c30851316ec82b938f00e050e0cf1d2e3a2"
  },
  "kernelspec": {
   "display_name": "Python 3.9.0 64-bit",
   "language": "python",
   "name": "python3"
  },
  "language_info": {
   "codemirror_mode": {
    "name": "ipython",
    "version": 3
   },
   "file_extension": ".py",
   "mimetype": "text/x-python",
   "name": "python",
   "nbconvert_exporter": "python",
   "pygments_lexer": "ipython3",
   "version": "3.9.0"
  },
  "orig_nbformat": 4
 },
 "nbformat": 4,
 "nbformat_minor": 2
}
