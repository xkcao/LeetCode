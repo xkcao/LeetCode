{
 "cells": [
  {
   "cell_type": "code",
   "execution_count": 15,
   "metadata": {},
   "outputs": [],
   "source": [
    "class Solution1(object):\n",
    "    def letterCombinations(self, digits):\n",
    "        \"\"\"\n",
    "        :type digits: str\n",
    "        :rtype: List[str]\n",
    "        \"\"\"\n",
    "        mapping = {'2':['a','b','c'],\n",
    "                  '3':['d','e','f'],\n",
    "                  '4':['g','h','i'],\n",
    "                  '5':['j','k','l'],\n",
    "                  '6':['m','n','o'],\n",
    "                  '7':['p','q','r','s'],\n",
    "                  '8':['t','u','v'],\n",
    "                  '9':['w','x','y','z']}\n",
    "        result=[]\n",
    "        \n",
    "        i=len(digits)-1\n",
    "        while(i>=0):\n",
    "            letterList=mapping[digits[i]]\n",
    "            oldResult=result\n",
    "            result=[]\n",
    "            for letter in letterList:\n",
    "                if len(oldResult)==0:\n",
    "                    result.append(letter)\n",
    "                else:\n",
    "                    for item in oldResult:\n",
    "                        newItem = letter + item\n",
    "                        result.append(newItem)\n",
    "            i=i-1\n",
    "        \n",
    "        return result\n",
    "        "
   ]
  },
  {
   "cell_type": "code",
   "execution_count": 31,
   "metadata": {},
   "outputs": [
    {
     "name": "stdout",
     "output_type": "stream",
     "text": [
      "['adg', 'adh', 'adi', 'aeg', 'aeh', 'aei', 'afg', 'afh', 'afi', 'bdg', 'bdh', 'bdi', 'beg', 'beh', 'bei', 'bfg', 'bfh', 'bfi', 'cdg', 'cdh', 'cdi', 'ceg', 'ceh', 'cei', 'cfg', 'cfh', 'cfi']\n"
     ]
    }
   ],
   "source": [
    "mysol1 = Solution1()\n",
    "digits = \"234\"\n",
    "print(mysol1.letterCombinations(digits))"
   ]
  },
  {
   "cell_type": "code",
   "execution_count": null,
   "metadata": {},
   "outputs": [],
   "source": [
    "class Solution(object):\n",
    "    def letterCombinations(self, digits):\n",
    "        \"\"\"\n",
    "        :type digits: str\n",
    "        :rtype: List[str]\n",
    "        \"\"\"   \n",
    "        digitToLetters={'2':['a','b','c'],'3':['d','e','f'],'4':['g','h','i'],'5':['j','k','l'],'6':['m','n','o'],'7':['p','q','r','s'],'8':['t','u','v'],'9':['w','x','y','z']}\n",
    "        result=[]\n",
    "        def backTracking(letterCombination,remaingDigits):\n",
    "            if len(remaingDigits)==0:\n",
    "                if len(letterCombination)!=0:\n",
    "                    result.append(letterCombination)\n",
    "                return\n",
    "                \n",
    "            nextDigit=remaingDigits[0]\n",
    "            for letter in digitToLetters[nextDigit]:\n",
    "                newLetterCombination=letterCombination+letter\n",
    "                backTracking(newLetterCombination,remaingDigits[1:])\n",
    "                \n",
    "                \n",
    "        backTracking('',digits)\n",
    "        \n",
    "        return result"
   ]
  }
 ],
 "metadata": {
  "kernelspec": {
   "display_name": "Python 3.9.0 64-bit",
   "language": "python",
   "name": "python3"
  },
  "language_info": {
   "codemirror_mode": {
    "name": "ipython",
    "version": 3
   },
   "file_extension": ".py",
   "mimetype": "text/x-python",
   "name": "python",
   "nbconvert_exporter": "python",
   "pygments_lexer": "ipython3",
   "version": "3.9.0"
  },
  "orig_nbformat": 4,
  "vscode": {
   "interpreter": {
    "hash": "02f36f923ced5460909a8e78ad0d9c2d23697e0f6cbb99ccac5c6a7ef7bfd943"
   }
  }
 },
 "nbformat": 4,
 "nbformat_minor": 2
}
