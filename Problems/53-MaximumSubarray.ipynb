{
 "cells": [
  {
   "cell_type": "code",
   "execution_count": 5,
   "metadata": {},
   "outputs": [],
   "source": [
    "import sys\n",
    "class Solution(object):\n",
    "    def maxSubArray(self, nums):\n",
    "        \"\"\"\n",
    "        :type nums: List[int]\n",
    "        :rtype: int\n",
    "        \"\"\"\n",
    "                        \n",
    "        largestSum=-sys.maxsize\n",
    "        for i in range(len(nums)):\n",
    "            sumI=nums[i]\n",
    "            if sumI>largestSum:\n",
    "                largestSum=sumI\n",
    "            for j in range(i+1,len(nums)):\n",
    "                sumI+=nums[j]\n",
    "                if sumI>largestSum:\n",
    "                    largestSum=sumI\n",
    "                    \n",
    "        return largestSum"
   ]
  },
  {
   "cell_type": "code",
   "execution_count": null,
   "metadata": {},
   "outputs": [],
   "source": [
    "# Whenever you see a question that asks for the maximum or minimum of something, consider Dynamic Programming as a possibility. \n",
    "# The difficult part of this problem is figuring out when a negative number is \"worth\" keeping in a subarray. \n",
    "# This question in particular is a popular problem that can be solved using an algorithm called Kadane's Algorithm. \n",
    "# If you're good at problem solving though, it's quite likely you'll be able to come up with the algorithm on your own.\n",
    "#  This algorithm also has a very greedy-like intuition behind it."
   ]
  },
  {
   "cell_type": "code",
   "execution_count": 8,
   "metadata": {},
   "outputs": [],
   "source": [
    "class Solution(object):\n",
    "    def maxSubArray(self, nums):\n",
    "        \"\"\"\n",
    "        :type nums: List[int]\n",
    "        :rtype: int\n",
    "        \"\"\"\n",
    "                        \n",
    "        max_subarray=-sys.maxsize\n",
    "        current_subarray=0\n",
    "        for i in range(len(nums)):\n",
    "            current_subarray+=nums[i]\n",
    "            max_subarray=max(max_subarray,current_subarray)\n",
    "            if current_subarray<0:\n",
    "                current_subarray=0\n",
    "                \n",
    "                \n",
    "        return max_subarray"
   ]
  }
 ],
 "metadata": {
  "interpreter": {
   "hash": "a245dac45e51386e3067f7bf875d7c30851316ec82b938f00e050e0cf1d2e3a2"
  },
  "kernelspec": {
   "display_name": "Python 3.9.0 64-bit",
   "language": "python",
   "name": "python3"
  },
  "language_info": {
   "codemirror_mode": {
    "name": "ipython",
    "version": 3
   },
   "file_extension": ".py",
   "mimetype": "text/x-python",
   "name": "python",
   "nbconvert_exporter": "python",
   "pygments_lexer": "ipython3",
   "version": "3.9.0"
  },
  "orig_nbformat": 4
 },
 "nbformat": 4,
 "nbformat_minor": 2
}
