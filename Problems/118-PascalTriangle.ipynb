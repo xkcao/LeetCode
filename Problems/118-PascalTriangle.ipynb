{
 "cells": [
  {
   "cell_type": "code",
   "execution_count": 16,
   "metadata": {},
   "outputs": [],
   "source": [
    "class Solution:\n",
    "    def generate(self, numRows):\n",
    "        \n",
    "        #recursive method\n",
    "        def dp(rowN):\n",
    "            if rowN==1:\n",
    "                #base case\n",
    "                return [[1]]\n",
    "            else:         \n",
    "                #get the last row\n",
    "                previousAns=dp(rowN-1)                \n",
    "                lastRow=previousAns[-1]\n",
    "                \n",
    "                #calculate the new row\n",
    "                newRow=[1]                \n",
    "                for i in range(0,rowN-2):\n",
    "                    newRow.append(lastRow[i]+lastRow[i+1])\n",
    "                \n",
    "                newRow.append(1)\n",
    "\n",
    "                previousAns.append(newRow)\n",
    "                \n",
    "                return previousAns\n",
    "            \n",
    "        return dp(numRows)\n",
    "            "
   ]
  },
  {
   "cell_type": "code",
   "execution_count": 14,
   "metadata": {},
   "outputs": [
    {
     "data": {
      "text/plain": [
       "[[1], [1, 1], [1, 2, 1]]"
      ]
     },
     "execution_count": 14,
     "metadata": {},
     "output_type": "execute_result"
    }
   ],
   "source": [
    "numRows=3\n",
    "mysol = Solution()\n",
    "mysol.generate(numRows)"
   ]
  }
 ],
 "metadata": {
  "interpreter": {
   "hash": "02f36f923ced5460909a8e78ad0d9c2d23697e0f6cbb99ccac5c6a7ef7bfd943"
  },
  "kernelspec": {
   "display_name": "Python 3.9.0 64-bit",
   "language": "python",
   "name": "python3"
  },
  "language_info": {
   "codemirror_mode": {
    "name": "ipython",
    "version": 3
   },
   "file_extension": ".py",
   "mimetype": "text/x-python",
   "name": "python",
   "nbconvert_exporter": "python",
   "pygments_lexer": "ipython3",
   "version": "3.9.0"
  },
  "orig_nbformat": 4
 },
 "nbformat": 4,
 "nbformat_minor": 2
}
