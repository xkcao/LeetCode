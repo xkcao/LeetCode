{
 "cells": [
  {
   "cell_type": "code",
   "execution_count": null,
   "metadata": {},
   "outputs": [],
   "source": [
    "class Solution(object):\n",
    "    def twoSum(self, nums, target):\n",
    "        \"\"\"\n",
    "        :type nums: List[int]\n",
    "        :type target: int\n",
    "        :rtype: List[int]\n",
    "        \"\"\"\n",
    "        for i in range(len(nums)):\n",
    "            for j in range(i+1,len(nums)):\n",
    "                if (nums[i]+nums[j]==target):\n",
    "                    return [i,j]"
   ]
  },
  {
   "cell_type": "code",
   "execution_count": null,
   "metadata": {},
   "outputs": [],
   "source": [
    "class Solution(object):\n",
    "    def twoSum(self, nums, target):\n",
    "        \"\"\"\n",
    "        :type nums: List[int]\n",
    "        :type target: int\n",
    "        :rtype: List[int]\n",
    "        \"\"\"\n",
    "        map_num_index  = {}\n",
    "        for i in range(len(nums)):\n",
    "            map_num_index[nums[i]]=i\n",
    "\n",
    "        for i in range(len(nums)):\n",
    "            complement=target-nums[i]\n",
    "            if complement in map_num_index and map_num_index[complement]!=i:\n",
    "                return [i, map_num_index[complement]]\n",
    "                "
   ]
  },
  {
   "cell_type": "code",
   "execution_count": null,
   "metadata": {},
   "outputs": [],
   "source": [
    "class Solution(object):\n",
    "    def twoSum(self, nums, target):\n",
    "        \"\"\"\n",
    "        :type nums: List[int]\n",
    "        :type target: int\n",
    "        :rtype: List[int]\n",
    "        \"\"\"\n",
    "        numToIndex={}\n",
    "        output=[]\n",
    "        \n",
    "        n=len(nums)\n",
    "        for i in range(n):\n",
    "            if nums[i] in numToIndex:\n",
    "                numToIndex[nums[i]].append(i)\n",
    "            else:\n",
    "                numToIndex[nums[i]]=[i]\n",
    "        \n",
    "        for i in range(n):\n",
    "            remaining=target-nums[i]\n",
    "            if remaining in numToIndex and remaining!=nums[i]:\n",
    "                output.append(i)\n",
    "                output.append(numToIndex[remaining][0])\n",
    "                break\n",
    "            elif remaining==nums[i] and len(numToIndex[remaining])>1:\n",
    "                output.append(i)\n",
    "                output.append(numToIndex[remaining][1])\n",
    "                break\n",
    "    \n",
    "        return output"
   ]
  }
 ],
 "metadata": {
  "kernelspec": {
   "display_name": "Python 3.9.0 64-bit",
   "language": "python",
   "name": "python3"
  },
  "language_info": {
   "name": "python",
   "version": "3.9.0"
  },
  "orig_nbformat": 4,
  "vscode": {
   "interpreter": {
    "hash": "02f36f923ced5460909a8e78ad0d9c2d23697e0f6cbb99ccac5c6a7ef7bfd943"
   }
  }
 },
 "nbformat": 4,
 "nbformat_minor": 2
}
