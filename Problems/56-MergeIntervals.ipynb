{
 "cells": [
  {
   "cell_type": "code",
   "execution_count": 8,
   "metadata": {},
   "outputs": [],
   "source": [
    "class Solution(object):\n",
    "    def merge(self, intervals):\n",
    "        \"\"\"\n",
    "        :type intervals: List[List[int]]\n",
    "        :rtype: List[List[int]]\n",
    "        \"\"\"\n",
    "        def myFunc(e):\n",
    "            return e[0]\n",
    "        \n",
    "        myIntervals=intervals\n",
    "        myIntervals.sort(key=myFunc)\n",
    "        \n",
    "        result=[]\n",
    "        \n",
    "        while len(myIntervals)>0:\n",
    "            firstStart=myIntervals[0][0]\n",
    "            firstEnd=myIntervals[0][1]\n",
    "            newStart=firstStart\n",
    "            newEnd=firstEnd\n",
    "            newIntervals=myIntervals[:]\n",
    "            for interval in myIntervals:\n",
    "                if interval[0]<=newEnd:\n",
    "                    if interval[1]>newEnd:\n",
    "                        newEnd=interval[1]\n",
    "                    newIntervals.remove(interval)\n",
    "                else:\n",
    "                    break\n",
    "            if [newStart,newEnd] not in result:\n",
    "                result.append([newStart,newEnd])\n",
    "           \n",
    "            if newEnd!=firstEnd:\n",
    "                myIntervals=[[newStart,newEnd]]+newIntervals\n",
    "            else:\n",
    "                myIntervals=newIntervals\n",
    "                \n",
    "        return result"
   ]
  },
  {
   "cell_type": "code",
   "execution_count": 9,
   "metadata": {},
   "outputs": [
    {
     "data": {
      "text/plain": [
       "[[1, 6], [8, 10], [15, 18]]"
      ]
     },
     "execution_count": 9,
     "metadata": {},
     "output_type": "execute_result"
    }
   ],
   "source": [
    "intervals=[[1,3],[2,6],[8,10],[15,18]]\n",
    "mysol=Solution()\n",
    "mysol.merge(intervals)"
   ]
  },
  {
   "cell_type": "code",
   "execution_count": 12,
   "metadata": {},
   "outputs": [],
   "source": [
    "class Solution(object):\n",
    "    def merge(self, intervals):\n",
    "        \"\"\"\n",
    "        :type intervals: List[List[int]]\n",
    "        :rtype: List[List[int]]\n",
    "        \"\"\"\n",
    "        def myFunc(e):\n",
    "            return e[0]\n",
    "        \n",
    "        intervals.sort(key=myFunc)\n",
    "        \n",
    "        result=[]\n",
    "        \n",
    "        for interval in intervals:\n",
    "            if not result or interval[0]>result[-1][1]:\n",
    "                result.append(interval)\n",
    "            else:\n",
    "                if interval[1]>result[-1][1]:\n",
    "                    result[-1][1]=interval[1]\n",
    "                \n",
    "        return result"
   ]
  }
 ],
 "metadata": {
  "interpreter": {
   "hash": "a245dac45e51386e3067f7bf875d7c30851316ec82b938f00e050e0cf1d2e3a2"
  },
  "kernelspec": {
   "display_name": "Python 3.9.0 64-bit",
   "language": "python",
   "name": "python3"
  },
  "language_info": {
   "codemirror_mode": {
    "name": "ipython",
    "version": 3
   },
   "file_extension": ".py",
   "mimetype": "text/x-python",
   "name": "python",
   "nbconvert_exporter": "python",
   "pygments_lexer": "ipython3",
   "version": "3.9.0"
  },
  "orig_nbformat": 4
 },
 "nbformat": 4,
 "nbformat_minor": 2
}
