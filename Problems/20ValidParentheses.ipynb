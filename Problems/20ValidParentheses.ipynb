{
 "cells": [
  {
   "cell_type": "code",
   "execution_count": 17,
   "metadata": {},
   "outputs": [],
   "source": [
    "class Solution(object):\n",
    "    def isValid(self, s):\n",
    "        \"\"\"\n",
    "        :type s: str\n",
    "        :rtype: bool\n",
    "        \"\"\"\n",
    "        valid=True\n",
    "        i=0\n",
    "        bracketList=[]\n",
    "        while i<len(s):\n",
    "            if s[i]=='{' or s[i]=='[' or s[i]=='(':\n",
    "                bracketList.append(s[i])\n",
    "            elif len(bracketList)>0 and ((s[i]=='}' and bracketList[len(bracketList)-1]=='{') or (s[i]==']' and bracketList[len(bracketList)-1]=='[') or (s[i]==')' and bracketList[len(bracketList)-1]=='(')):\n",
    "                bracketList.pop()\n",
    "            else:\n",
    "                valid=False\n",
    "            i=i+1\n",
    "                \n",
    "        if len(bracketList)>0:\n",
    "            valid=False\n",
    "            \n",
    "        return valid"
   ]
  },
  {
   "cell_type": "code",
   "execution_count": 18,
   "metadata": {},
   "outputs": [
    {
     "data": {
      "text/plain": [
       "False"
      ]
     },
     "execution_count": 18,
     "metadata": {},
     "output_type": "execute_result"
    }
   ],
   "source": [
    "mysol = Solution()\n",
    "mysol.isValid(']')"
   ]
  }
 ],
 "metadata": {
  "interpreter": {
   "hash": "a245dac45e51386e3067f7bf875d7c30851316ec82b938f00e050e0cf1d2e3a2"
  },
  "kernelspec": {
   "display_name": "Python 3.9.0 64-bit",
   "language": "python",
   "name": "python3"
  },
  "language_info": {
   "codemirror_mode": {
    "name": "ipython",
    "version": 3
   },
   "file_extension": ".py",
   "mimetype": "text/x-python",
   "name": "python",
   "nbconvert_exporter": "python",
   "pygments_lexer": "ipython3",
   "version": "3.9.0"
  },
  "orig_nbformat": 4
 },
 "nbformat": 4,
 "nbformat_minor": 2
}
