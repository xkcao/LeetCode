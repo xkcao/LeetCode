{
 "cells": [
  {
   "cell_type": "code",
   "execution_count": 9,
   "metadata": {},
   "outputs": [],
   "source": [
    "class Solution1(object):\n",
    "    def threeSum(self, nums):\n",
    "        \"\"\"\n",
    "        :type nums: List[int]\n",
    "        :rtype: List[List[int]]\n",
    "        \"\"\"\n",
    "        num_to_indexList ={}\n",
    "        result = []\n",
    "        for i in range(len(nums)):\n",
    "            if nums[i] in num_to_indexList:\n",
    "                num_to_indexList[nums[i]].append(i)\n",
    "            else:\n",
    "                num_to_indexList[nums[i]]=[]\n",
    "                num_to_indexList[nums[i]].append(i)\n",
    "        \n",
    "        for i in range(len(nums)):\n",
    "            for j in range(i+1,len(nums)):\n",
    "                remaining = -nums[i]-nums[j]\n",
    "                remaining_exist = remaining in num_to_indexList\n",
    "                remaining_found =  False\n",
    "                if remaining_exist:\n",
    "                    indexList = num_to_indexList[remaining]\n",
    "                    for k in indexList:\n",
    "                        if k!=i and k!=j:\n",
    "                            remaining_found = True\n",
    "                            break\n",
    "                \n",
    "                if remaining_found:\n",
    "                    newTriplet = [nums[i],nums[j],remaining]\n",
    "                    newTriplet.sort()                    \n",
    "                    if not (newTriplet in result):\n",
    "                        result.append(newTriplet)\n",
    "                    \n",
    "                    \n",
    "        return result"
   ]
  },
  {
   "cell_type": "code",
   "execution_count": 10,
   "metadata": {},
   "outputs": [
    {
     "data": {
      "text/plain": [
       "[[-1, 0, 1], [-1, -1, 2]]"
      ]
     },
     "execution_count": 10,
     "metadata": {},
     "output_type": "execute_result"
    }
   ],
   "source": [
    "mysol1 = Solution1()\n",
    "nums = [-1,0,1,2,-1,-4]\n",
    "mysol1.threeSum(nums)"
   ]
  },
  {
   "cell_type": "code",
   "execution_count": 11,
   "metadata": {},
   "outputs": [],
   "source": [
    "class Solution2(object):\n",
    "    def threeSum(self, nums):\n",
    "        \"\"\"\n",
    "        :type nums: List[int]\n",
    "        :rtype: List[List[int]]\n",
    "        \"\"\"\n",
    "        num_to_indexList ={}\n",
    "        result = []\n",
    "        for i in range(len(nums)):\n",
    "            if nums[i] in num_to_indexList:\n",
    "                if len(num_to_indexList[nums[i]])<2 or (len(num_to_indexList[nums[i]])<3 and nums[i]==0):\n",
    "                    num_to_indexList[nums[i]].append(i)\n",
    "            else:\n",
    "                num_to_indexList[nums[i]]=[]\n",
    "                num_to_indexList[nums[i]].append(i)\n",
    "        \n",
    "        indexList = []\n",
    "        for num in num_to_indexList:\n",
    "            for index in num_to_indexList[num]:\n",
    "                indexList.append(index)\n",
    "                    \n",
    "        for i in range(len(indexList)):\n",
    "            for j in range(i+1,len(indexList)):\n",
    "                for k in range(j+1,len(indexList)):\n",
    "                    triplet = []\n",
    "                    found_triplet = False\n",
    "                    if(nums[indexList[i]]+nums[indexList[j]]+nums[indexList[k]]==0):\n",
    "                        found_triplet = True\n",
    "                        triplet = [nums[indexList[i]],nums[indexList[j]],nums[indexList[k]]]\n",
    "                        triplet.sort()\n",
    "                    \n",
    "                    if found_triplet and not (triplet in result):\n",
    "                        result.append(triplet)\n",
    "                    \n",
    "        return result"
   ]
  },
  {
   "cell_type": "code",
   "execution_count": 13,
   "metadata": {},
   "outputs": [
    {
     "data": {
      "text/plain": [
       "[[-1, -1, 2], [-1, 0, 1]]"
      ]
     },
     "execution_count": 13,
     "metadata": {},
     "output_type": "execute_result"
    }
   ],
   "source": [
    "mysol2 = Solution2()\n",
    "nums = [-1,0,1,2,-1,-4]\n",
    "mysol2.threeSum(nums)"
   ]
  },
  {
   "cell_type": "code",
   "execution_count": 15,
   "metadata": {},
   "outputs": [],
   "source": [
    "class Solution3(object):\n",
    "    def threeSum(self, nums):\n",
    "        \"\"\"\n",
    "        :type nums: List[int]\n",
    "        :rtype: List[List[int]]\n",
    "        \"\"\"\n",
    "        num_to_indexList ={}\n",
    "        result = []\n",
    "        for i in range(len(nums)):\n",
    "            if nums[i] in num_to_indexList:\n",
    "                if len(num_to_indexList[nums[i]])<2 or (len(num_to_indexList[nums[i]])<3 and nums[i]==0):\n",
    "                    num_to_indexList[nums[i]].append(i)\n",
    "            else:\n",
    "                num_to_indexList[nums[i]]=[]\n",
    "                num_to_indexList[nums[i]].append(i)\n",
    "        \n",
    "        indexList = []\n",
    "        for num in num_to_indexList:\n",
    "            for index in num_to_indexList[num]:\n",
    "                indexList.append(index)\n",
    "                    \n",
    "        zeroList=[]\n",
    "        negativeList=[]\n",
    "        positiveList=[]\n",
    "        \n",
    "        for index in indexList:\n",
    "            if nums[index]==0:\n",
    "                zeroList.append(nums[index])\n",
    "            elif nums[index]<0:\n",
    "                negativeList.append(nums[index])\n",
    "            else:\n",
    "                positiveList.append(nums[index])\n",
    "         \n",
    "        \n",
    "        #all 0\n",
    "        if len(zeroList)>=3:\n",
    "            result.append([0,0,0])\n",
    "        \n",
    "        #negative, 0 and positive \n",
    "        if len(zeroList)>0:\n",
    "            for negative in negativeList:\n",
    "                for positive in positiveList:\n",
    "                    if (negative + positive == 0):\n",
    "                        triplet = [negative,0,positive]\n",
    "                        if not (triplet in result):\n",
    "                            result.append(triplet)\n",
    "        \n",
    "        #1 negative and 2 positive\n",
    "        for i in range(len(negativeList)):\n",
    "            for j in range(len(positiveList)):\n",
    "                for k in range(j+1,len(positiveList)):\n",
    "                    triplet = [negativeList[i],positiveList[j],positiveList[k]]\n",
    "                    if sum(triplet)==0:\n",
    "                        triplet.sort()\n",
    "                        if not (triplet in result):\n",
    "                            result.append(triplet)\n",
    "        \n",
    "        #2 negative and 1 positive\n",
    "        for i in range(len(negativeList)):\n",
    "            for j in range(i+1, len(negativeList)):\n",
    "                for k in range(len(positiveList)):\n",
    "                    triplet = [negativeList[i],negativeList[j],positiveList[k]]\n",
    "                    if sum(triplet)==0:\n",
    "                        triplet.sort()\n",
    "                        if not (triplet in result):\n",
    "                            result.append(triplet)        \n",
    "        \n",
    "        return result"
   ]
  },
  {
   "cell_type": "code",
   "execution_count": 16,
   "metadata": {},
   "outputs": [
    {
     "data": {
      "text/plain": [
       "[[-1, 0, 1], [-1, -1, 2]]"
      ]
     },
     "execution_count": 16,
     "metadata": {},
     "output_type": "execute_result"
    }
   ],
   "source": [
    "mysol3 = Solution3()\n",
    "nums = [-1,0,1,2,-1,-4]\n",
    "mysol3.threeSum(nums)"
   ]
  },
  {
   "cell_type": "code",
   "execution_count": 59,
   "metadata": {},
   "outputs": [],
   "source": [
    "class Solution4(object):\n",
    "    def threeSum(self, nums):\n",
    "        \"\"\"\n",
    "        :type nums: List[int]\n",
    "        :rtype: List[List[int]]\n",
    "        \"\"\"\n",
    "        num_to_indexList ={}\n",
    "        result = []\n",
    "        for i in range(len(nums)):\n",
    "            if nums[i] in num_to_indexList:\n",
    "                if len(num_to_indexList[nums[i]])<2 or (len(num_to_indexList[nums[i]])<3 and nums[i]==0):\n",
    "                    num_to_indexList[nums[i]].append(i)\n",
    "            else:\n",
    "                num_to_indexList[nums[i]]=[]\n",
    "                num_to_indexList[nums[i]].append(i)\n",
    "        \n",
    "        indexList = []\n",
    "        for num in num_to_indexList:\n",
    "            for index in num_to_indexList[num]:\n",
    "                indexList.append(index)\n",
    "                    \n",
    "        zeroList=[]\n",
    "        negativeList=[]\n",
    "        positiveList=[]\n",
    "        \n",
    "        for index in indexList:\n",
    "            if nums[index]==0:\n",
    "                zeroList.append(nums[index])\n",
    "            elif nums[index]<0:\n",
    "                negativeList.append(nums[index])\n",
    "            else:\n",
    "                positiveList.append(nums[index])\n",
    "         \n",
    "        negativeList.sort()\n",
    "        positiveList.sort()\n",
    "\n",
    "        #all 0\n",
    "        if len(zeroList)>=3:\n",
    "            result.append([0,0,0])\n",
    "        \n",
    "        #negative, 0 and positive \n",
    "        previousNum=0\n",
    "        if len(zeroList)>0:\n",
    "            for negative in negativeList:\n",
    "                if(negative!=previousNum):\n",
    "                    previousNum=negative\n",
    "                    remaining = -negative                    \n",
    "                    if (remaining in num_to_indexList):\n",
    "                        triplet = [negative,0,remaining]\n",
    "                        result.append(triplet)\n",
    "        \n",
    "        #1 negative and 2 positive\n",
    "        previousNum1=0\n",
    "        for i in range(len(positiveList)):\n",
    "            if positiveList[i]!=previousNum1:\n",
    "                previousNum1=positiveList[i]\n",
    "                previousNum2=0\n",
    "                for j in range(i+1, len(positiveList)):\n",
    "                    if positiveList[j]!=previousNum2:\n",
    "                        previousNum2=positiveList[j]\n",
    "                        remaining = - positiveList[i] - positiveList[j]                        \n",
    "                        if remaining in num_to_indexList:\n",
    "                            triplet = [remaining,positiveList[i],positiveList[j]]\n",
    "                            result.append(triplet) \n",
    "    \n",
    "        #2 negative and 1 positive      \n",
    "        previousNum1=0\n",
    "        for i in range(len(negativeList)):\n",
    "            if negativeList[i]!=previousNum1:\n",
    "                previousNum1=negativeList[i]\n",
    "                previousNum2=0\n",
    "                for j in range(i+1, len(negativeList)):\n",
    "                    if negativeList[j]!=previousNum2:\n",
    "                        previousNum2=negativeList[j]\n",
    "                        remaining = - negativeList[i] - negativeList[j]\n",
    "                        if remaining in num_to_indexList:\n",
    "                            triplet = [negativeList[i],negativeList[j],remaining]\n",
    "                            result.append(triplet)      \n",
    "    \n",
    "        return result"
   ]
  },
  {
   "cell_type": "code",
   "execution_count": 60,
   "metadata": {},
   "outputs": [
    {
     "data": {
      "text/plain": [
       "[[-4, 0, 4],\n",
       " [-3, 0, 3],\n",
       " [-2, 0, 2],\n",
       " [-1, 0, 1],\n",
       " [-3, 1, 2],\n",
       " [-4, 1, 3],\n",
       " [-3, -1, 4],\n",
       " [-2, -1, 3],\n",
       " [-1, -1, 2]]"
      ]
     },
     "execution_count": 60,
     "metadata": {},
     "output_type": "execute_result"
    }
   ],
   "source": [
    "mysol4 = Solution4()\n",
    "nums = [-1,0,1,2,-1,-4,-2,-3,3,0,4]\n",
    "mysol4.threeSum(nums)"
   ]
  }
 ],
 "metadata": {
  "interpreter": {
   "hash": "a245dac45e51386e3067f7bf875d7c30851316ec82b938f00e050e0cf1d2e3a2"
  },
  "kernelspec": {
   "display_name": "Python 3.9.0 64-bit",
   "language": "python",
   "name": "python3"
  },
  "language_info": {
   "codemirror_mode": {
    "name": "ipython",
    "version": 3
   },
   "file_extension": ".py",
   "mimetype": "text/x-python",
   "name": "python",
   "nbconvert_exporter": "python",
   "pygments_lexer": "ipython3",
   "version": "3.9.0"
  },
  "orig_nbformat": 4
 },
 "nbformat": 4,
 "nbformat_minor": 2
}
