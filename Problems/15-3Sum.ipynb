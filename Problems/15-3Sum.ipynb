{
 "cells": [
  {
   "cell_type": "code",
   "execution_count": 9,
   "metadata": {},
   "outputs": [],
   "source": [
    "class Solution(object):\n",
    "    def threeSum(self, nums):\n",
    "        \"\"\"\n",
    "        :type nums: List[int]\n",
    "        :rtype: List[List[int]]\n",
    "        \"\"\"\n",
    "        num_to_indexList ={}\n",
    "        result = []\n",
    "        for i in range(len(nums)):\n",
    "            if nums[i] in num_to_indexList:\n",
    "                num_to_indexList[nums[i]].append(i)\n",
    "            else:\n",
    "                num_to_indexList[nums[i]]=[]\n",
    "                num_to_indexList[nums[i]].append(i)\n",
    "        \n",
    "        for i in range(len(nums)):\n",
    "            for j in range(i+1,len(nums)):\n",
    "                remaining = -nums[i]-nums[j]\n",
    "                remaining_exist = remaining in num_to_indexList\n",
    "                remaining_found =  False\n",
    "                if remaining_exist:\n",
    "                    indexList = num_to_indexList[remaining]\n",
    "                    for k in indexList:\n",
    "                        if k!=i and k!=j:\n",
    "                            remaining_found = True\n",
    "                            break\n",
    "                \n",
    "                if remaining_found:\n",
    "                    newTriplet = [nums[i],nums[j],remaining]\n",
    "                    newTriplet.sort()                    \n",
    "                    if not (newTriplet in result):\n",
    "                        result.append(newTriplet)\n",
    "                    \n",
    "                    \n",
    "        return result"
   ]
  },
  {
   "cell_type": "code",
   "execution_count": 10,
   "metadata": {},
   "outputs": [
    {
     "data": {
      "text/plain": [
       "[[-1, 0, 1], [-1, -1, 2]]"
      ]
     },
     "execution_count": 10,
     "metadata": {},
     "output_type": "execute_result"
    }
   ],
   "source": [
    "mysol = Solution()\n",
    "nums = [-1,0,1,2,-1,-4]\n",
    "mysol.threeSum(nums)"
   ]
  }
 ],
 "metadata": {
  "interpreter": {
   "hash": "a245dac45e51386e3067f7bf875d7c30851316ec82b938f00e050e0cf1d2e3a2"
  },
  "kernelspec": {
   "display_name": "Python 3.9.0 64-bit",
   "language": "python",
   "name": "python3"
  },
  "language_info": {
   "codemirror_mode": {
    "name": "ipython",
    "version": 3
   },
   "file_extension": ".py",
   "mimetype": "text/x-python",
   "name": "python",
   "nbconvert_exporter": "python",
   "pygments_lexer": "ipython3",
   "version": "3.9.0"
  },
  "orig_nbformat": 4
 },
 "nbformat": 4,
 "nbformat_minor": 2
}
