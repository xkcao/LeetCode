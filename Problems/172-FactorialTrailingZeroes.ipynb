{
 "cells": [
  {
   "cell_type": "code",
   "execution_count": 9,
   "metadata": {},
   "outputs": [],
   "source": [
    "class Solution:\n",
    "    def trailingZeroes(self, n: int) -> int:\n",
    "        if n==0:\n",
    "            return 0\n",
    "        \n",
    "        num2=0\n",
    "        num5=0\n",
    "        for i in range(1,n+1):\n",
    "            remaining=i\n",
    "            while (remaining>=2 and remaining%2==0):\n",
    "                num2+=1\n",
    "                remaining/=2\n",
    "                \n",
    "            while (remaining>=5 and remaining%5==0):\n",
    "                num5+=1\n",
    "                remaining/=5\n",
    "                \n",
    "        return min(num2,num5)"
   ]
  },
  {
   "cell_type": "code",
   "execution_count": 8,
   "metadata": {},
   "outputs": [
    {
     "data": {
      "text/plain": [
       "4"
      ]
     },
     "execution_count": 8,
     "metadata": {},
     "output_type": "execute_result"
    }
   ],
   "source": [
    "mysol=Solution()\n",
    "mysol.trailingZeroes(21)"
   ]
  }
 ],
 "metadata": {
  "interpreter": {
   "hash": "02f36f923ced5460909a8e78ad0d9c2d23697e0f6cbb99ccac5c6a7ef7bfd943"
  },
  "kernelspec": {
   "display_name": "Python 3.9.0 64-bit",
   "language": "python",
   "name": "python3"
  },
  "language_info": {
   "codemirror_mode": {
    "name": "ipython",
    "version": 3
   },
   "file_extension": ".py",
   "mimetype": "text/x-python",
   "name": "python",
   "nbconvert_exporter": "python",
   "pygments_lexer": "ipython3",
   "version": "3.9.0"
  },
  "orig_nbformat": 4
 },
 "nbformat": 4,
 "nbformat_minor": 2
}
