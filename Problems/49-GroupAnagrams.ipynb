{
 "cells": [
  {
   "cell_type": "code",
   "execution_count": 4,
   "metadata": {},
   "outputs": [],
   "source": [
    "class Solution(object):\n",
    "    def groupAnagrams(self, strs):\n",
    "        \"\"\"\n",
    "        :type strs: List[str]\n",
    "        :rtype: List[List[str]]\n",
    "        \"\"\"\n",
    "        \n",
    "        strToHT={}\n",
    "        for word in strs:\n",
    "            HT={}\n",
    "            for char in word:\n",
    "                if char in HT:\n",
    "                    HT[char]+=1\n",
    "                else:\n",
    "                    HT[char]=1            \n",
    "            strToHT[word]=HT\n",
    "            \n",
    "        #return true if str1 and str2 are anagram\n",
    "        def Anagram(str1,str2):            \n",
    "            if len(str1)!=len(str2):\n",
    "                return False\n",
    "            \n",
    "            if len(str1)==0:\n",
    "                return True\n",
    "            \n",
    "            HT1= strToHT[str1]\n",
    "            HT2 = strToHT[str2]\n",
    "            if len(HT1)!=len(HT2):\n",
    "                return False\n",
    "            for key,value in HT1.items():\n",
    "                if key not in HT2 or value != HT2[key]:\n",
    "                    return False\n",
    "                \n",
    "            return True\n",
    "        \n",
    "                \n",
    "        result=[]\n",
    "        for word in strs:\n",
    "            if len(result)==0:\n",
    "                newGroup=[]\n",
    "                newGroup.append(word)\n",
    "                result.append(newGroup)\n",
    "            else:\n",
    "                found=False\n",
    "                for group in result:\n",
    "                    if Anagram(word,group[0]):\n",
    "                        found=True\n",
    "                        group.append(word)\n",
    "                        break\n",
    "                if not found:\n",
    "                    newGroup=[]\n",
    "                    newGroup.append(word)\n",
    "                    result.append(newGroup )\n",
    "                    \n",
    "        return result\n",
    "            "
   ]
  },
  {
   "cell_type": "code",
   "execution_count": 15,
   "metadata": {},
   "outputs": [
    {
     "name": "stdout",
     "output_type": "stream",
     "text": [
      "Help on built-in function ord in module builtins:\n",
      "\n",
      "ord(c, /)\n",
      "    Return the Unicode code point for a one-character string.\n",
      "\n"
     ]
    }
   ],
   "source": [
    "s=\"bac\"\n",
    "tuple(sorted(s))\n",
    "a='a'\n",
    "help(ord)"
   ]
  },
  {
   "cell_type": "code",
   "execution_count": 16,
   "metadata": {},
   "outputs": [],
   "source": [
    "class Solution(object):\n",
    "    def groupAnagrams(self, strs):\n",
    "        \"\"\"\n",
    "        :type strs: List[str]\n",
    "        :rtype: List[List[str]]\n",
    "        \"\"\"\n",
    "        ans=collections.defaultdict(list)\n",
    "        for s in strs:\n",
    "            ans[tuple(sorted(s))].append(s)\n",
    "        return ans.values()\n",
    "            "
   ]
  },
  {
   "cell_type": "code",
   "execution_count": 21,
   "metadata": {},
   "outputs": [],
   "source": [
    "class Solution:\n",
    "    def groupAnagrams(strs):\n",
    "        ans = collections.defaultdict(list)\n",
    "        for s in strs:\n",
    "            count = [0] * 26\n",
    "            for c in s:\n",
    "                count[ord(c) - ord('a')] += 1\n",
    "            ans[tuple(count)].append(s)\n",
    "        return ans.values()"
   ]
  },
  {
   "cell_type": "code",
   "execution_count": 20,
   "metadata": {},
   "outputs": [
    {
     "data": {
      "text/plain": [
       "[0, 0, 0, 0, 0, 0, 0, 0, 0, 0, 0, 0, 0, 0, 0, 0, 0, 0, 0, 0, 0, 0, 0, 0, 0, 0]"
      ]
     },
     "execution_count": 20,
     "metadata": {},
     "output_type": "execute_result"
    }
   ],
   "source": [
    "count = [0]*26\n",
    "count"
   ]
  }
 ],
 "metadata": {
  "interpreter": {
   "hash": "a245dac45e51386e3067f7bf875d7c30851316ec82b938f00e050e0cf1d2e3a2"
  },
  "kernelspec": {
   "display_name": "Python 3.9.0 64-bit",
   "language": "python",
   "name": "python3"
  },
  "language_info": {
   "codemirror_mode": {
    "name": "ipython",
    "version": 3
   },
   "file_extension": ".py",
   "mimetype": "text/x-python",
   "name": "python",
   "nbconvert_exporter": "python",
   "pygments_lexer": "ipython3",
   "version": "3.9.0"
  },
  "orig_nbformat": 4
 },
 "nbformat": 4,
 "nbformat_minor": 2
}
