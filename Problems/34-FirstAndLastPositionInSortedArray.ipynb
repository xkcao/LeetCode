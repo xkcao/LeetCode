{
 "cells": [
  {
   "cell_type": "code",
   "execution_count": 10,
   "metadata": {},
   "outputs": [],
   "source": [
    "class Solution(object):\n",
    "    def searchRange(self, nums, target):\n",
    "        \"\"\"\n",
    "        :type nums: List[int]\n",
    "        :type target: int\n",
    "        :rtype: List[int]\n",
    "        \"\"\"\n",
    "        \n",
    "        if len(nums)==0:\n",
    "            return [-1,-1]\n",
    "        \n",
    "        start=-1\n",
    "        end=-1\n",
    "        \n",
    "        i=0\n",
    "        j=len(nums)-1\n",
    "        while (i<j-1):\n",
    "            k=(i+j)//2\n",
    "            if target<nums[i] or target>nums[j]:\n",
    "                break\n",
    "            elif target==nums[i]:\n",
    "                start=i\n",
    "                break\n",
    "            elif target>nums[i] and target<=nums[k]:\n",
    "                j=k\n",
    "            else:\n",
    "                i=k\n",
    "        \n",
    "        if start==-1:\n",
    "            if target==nums[i]:\n",
    "                start=i\n",
    "            elif target==nums[j]:\n",
    "                start=j\n",
    "                \n",
    "        i=0\n",
    "        j=len(nums)-1\n",
    "        while (i<j-1):\n",
    "            k=(i+j)//2\n",
    "            if target<nums[i] or target>nums[j]:\n",
    "                break\n",
    "            elif target==nums[j]:\n",
    "                end=j\n",
    "                break\n",
    "            elif target<nums[j] and target>=nums[k]:\n",
    "                i=k\n",
    "            else:\n",
    "                j=k\n",
    "        \n",
    "        if end==-1:\n",
    "            if target==nums[j]:\n",
    "                end=j\n",
    "            elif target==nums[i]:\n",
    "                end=i\n",
    "                \n",
    "        return [start,end]\n",
    "                              "
   ]
  },
  {
   "cell_type": "code",
   "execution_count": 11,
   "metadata": {},
   "outputs": [
    {
     "data": {
      "text/plain": [
       "[2, 5]"
      ]
     },
     "execution_count": 11,
     "metadata": {},
     "output_type": "execute_result"
    }
   ],
   "source": [
    "nums=[1,2,3,3,3,3,4,5,9]\n",
    "target=3\n",
    "mysol = Solution()\n",
    "mysol.searchRange(nums,target)"
   ]
  }
 ],
 "metadata": {
  "interpreter": {
   "hash": "a245dac45e51386e3067f7bf875d7c30851316ec82b938f00e050e0cf1d2e3a2"
  },
  "kernelspec": {
   "display_name": "Python 3.9.0 64-bit",
   "language": "python",
   "name": "python3"
  },
  "language_info": {
   "codemirror_mode": {
    "name": "ipython",
    "version": 3
   },
   "file_extension": ".py",
   "mimetype": "text/x-python",
   "name": "python",
   "nbconvert_exporter": "python",
   "pygments_lexer": "ipython3",
   "version": "3.9.0"
  },
  "orig_nbformat": 4
 },
 "nbformat": 4,
 "nbformat_minor": 2
}
