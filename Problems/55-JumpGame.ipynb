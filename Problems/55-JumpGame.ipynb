{
 "cells": [
  {
   "cell_type": "code",
   "execution_count": 2,
   "metadata": {},
   "outputs": [],
   "source": [
    "class Solution(object):\n",
    "    def canJump(self, nums):\n",
    "        \"\"\"\n",
    "        :type nums: List[int]\n",
    "        :rtype: bool\n",
    "        \"\"\"\n",
    "        n=len(nums)\n",
    "        ans=True\n",
    "        \n",
    "        for i in range(n-1):\n",
    "            if nums[i]!=0:\n",
    "                continue\n",
    "            allLessThanI=True\n",
    "            for j in range(i):\n",
    "                if j+nums[j]>i:\n",
    "                    allLessThanI=False\n",
    "                    \n",
    "            if allLessThanI:\n",
    "                ans=False\n",
    "                break\n",
    "        \n",
    "        return ans"
   ]
  },
  {
   "cell_type": "code",
   "execution_count": 3,
   "metadata": {},
   "outputs": [],
   "source": [
    "class Solution(object):\n",
    "    def canJump(self, nums):\n",
    "        \"\"\"\n",
    "        :type nums: List[int]\n",
    "        :rtype: bool\n",
    "        \"\"\"\n",
    "        n=len(nums)\n",
    "        \n",
    "        #special cases\n",
    "        if n==1:\n",
    "            return True\n",
    "        elif nums[0]==0:\n",
    "            return False\n",
    "        \n",
    "        ans=True                \n",
    "        \n",
    "        #a dictionary with key is a given index idx and value is the maximum index that we can jump to from any position prior to idx (including idx)\n",
    "        #\n",
    "        maxJumpidx={0:nums[0]}\n",
    "        for i in range(1,n):\n",
    "            maxJumpidx[i]=max(maxJumpidx[i-1],nums[i]+i)\n",
    "        \n",
    "        #loop thouth the array.\n",
    "        for i in range(n-1):\n",
    "            if nums[i]!=0:\n",
    "                continue\n",
    "            \n",
    "            if maxJumpidx[i-1]<=i:\n",
    "                ans=False\n",
    "                break\n",
    "        \n",
    "        return ans"
   ]
  }
 ],
 "metadata": {
  "interpreter": {
   "hash": "a245dac45e51386e3067f7bf875d7c30851316ec82b938f00e050e0cf1d2e3a2"
  },
  "kernelspec": {
   "display_name": "Python 3.9.0 64-bit",
   "language": "python",
   "name": "python3"
  },
  "language_info": {
   "codemirror_mode": {
    "name": "ipython",
    "version": 3
   },
   "file_extension": ".py",
   "mimetype": "text/x-python",
   "name": "python",
   "nbconvert_exporter": "python",
   "pygments_lexer": "ipython3",
   "version": "3.9.0"
  },
  "orig_nbformat": 4
 },
 "nbformat": 4,
 "nbformat_minor": 2
}
