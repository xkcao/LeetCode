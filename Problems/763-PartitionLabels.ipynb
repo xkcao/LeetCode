{
 "cells": [
  {
   "cell_type": "code",
   "execution_count": 2,
   "metadata": {},
   "outputs": [],
   "source": [
    "class Solution(object):\n",
    "    def partitionLabels(self, s):\n",
    "        \"\"\"\n",
    "        :type s: str\n",
    "        :rtype: List[int]\n",
    "        \"\"\"\n",
    "        #for each letter, contruct a tuple (i,j) where i is the first idx and j is last idx\n",
    "        mapping={}\n",
    "        for i in range(len(s)):\n",
    "            if s[i] not in mapping:\n",
    "                mapping[s[i]] = [i,i]\n",
    "            else:\n",
    "                mapping[s[i]][1]=i\n",
    "        \n",
    "        #put them in a list of intervals\n",
    "        intervals=[]\n",
    "        for key,value in mapping.items():\n",
    "            intervals.append(value)\n",
    "        \n",
    "        # now merge all intervals\n",
    "        def myFunc(key):\n",
    "            return key[0]\n",
    "        \n",
    "        #sort all intervals based on their first index in ascending order\n",
    "        intervals.sort(key=myFunc)\n",
    "        \n",
    "        merged=[]\n",
    "        for interval in intervals:\n",
    "            if not merged or interval[0]>merged[-1][1]:\n",
    "                merged.append(interval)\n",
    "            else:\n",
    "                merged[-1][1]=max(merged[-1][1],interval[1])\n",
    "                \n",
    "        result=[]\n",
    "        for item in merged:\n",
    "            result.append(item[1]-item[0]+1)\n",
    "            \n",
    "        return result"
   ]
  }
 ],
 "metadata": {
  "interpreter": {
   "hash": "a245dac45e51386e3067f7bf875d7c30851316ec82b938f00e050e0cf1d2e3a2"
  },
  "kernelspec": {
   "display_name": "Python 3.9.0 64-bit",
   "language": "python",
   "name": "python3"
  },
  "language_info": {
   "codemirror_mode": {
    "name": "ipython",
    "version": 3
   },
   "file_extension": ".py",
   "mimetype": "text/x-python",
   "name": "python",
   "nbconvert_exporter": "python",
   "pygments_lexer": "ipython3",
   "version": "3.9.0"
  },
  "orig_nbformat": 4
 },
 "nbformat": 4,
 "nbformat_minor": 2
}
