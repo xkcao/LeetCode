{
 "cells": [
  {
   "cell_type": "code",
   "execution_count": 2,
   "metadata": {},
   "outputs": [],
   "source": [
    "class Solution(object):\n",
    "    def partitionLabels(self, s):\n",
    "        \"\"\"\n",
    "        :type s: str\n",
    "        :rtype: List[int]\n",
    "        \"\"\"\n",
    "        #for each letter, contruct a tuple (i,j) where i is the first idx and j is last idx\n",
    "        mapping={}\n",
    "        for i in range(len(s)):\n",
    "            if s[i] not in mapping:\n",
    "                mapping[s[i]] = [i,i]\n",
    "            else:\n",
    "                mapping[s[i]][1]=i\n",
    "        \n",
    "        #put them in a list of intervals\n",
    "        intervals=[]\n",
    "        for key,value in mapping.items():\n",
    "            intervals.append(value)\n",
    "        \n",
    "        # now merge all intervals\n",
    "        def myFunc(key):\n",
    "            return key[0]\n",
    "        \n",
    "        #sort all intervals based on their first index in ascending order\n",
    "        intervals.sort(key=myFunc)\n",
    "        \n",
    "        merged=[]\n",
    "        for interval in intervals:\n",
    "            if not merged or interval[0]>merged[-1][1]:\n",
    "                merged.append(interval)\n",
    "            else:\n",
    "                merged[-1][1]=max(merged[-1][1],interval[1])\n",
    "                \n",
    "        result=[]\n",
    "        for item in merged:\n",
    "            result.append(item[1]-item[0]+1)\n",
    "            \n",
    "        return result"
   ]
  },
  {
   "cell_type": "code",
   "execution_count": 5,
   "metadata": {},
   "outputs": [],
   "source": [
    "class Solution(object):\n",
    "    def partitionLabels(self, s):\n",
    "        \"\"\"\n",
    "        :type s: str\n",
    "        :rtype: List[int]\n",
    "        \"\"\"\n",
    "        def myFunc(e):\n",
    "            return e[0]\n",
    "        \n",
    "        intervalList=[]\n",
    "        mapLetterPosition={}\n",
    "        n=len(s)\n",
    "        #loop through s and construct the mapLetterPosition\n",
    "        for i in range(n):\n",
    "            if s[i] not in mapLetterPosition:\n",
    "                mapLetterPosition[s[i]]=[i,i]\n",
    "            else:\n",
    "                mapLetterPosition[s[i]][1]=i\n",
    "                \n",
    "        #build intervalList from mapLetterPosition\n",
    "        for key,value in mapLetterPosition.items():\n",
    "            intervalList.append(value)\n",
    "            \n",
    "        # sort all the intervals in ascending order by their first index\n",
    "        intervalList.sort(key=myFunc)\n",
    "        \n",
    "        #merge intervals\n",
    "        mergedIntervals=[]\n",
    "        mergedIntervals.append(intervalList[0])\n",
    "        \n",
    "        for i in range(1,len(intervalList)):\n",
    "            if mergedIntervals[-1][1]>=intervalList[i][0]:\n",
    "                mergedIntervals[-1][1]=max(mergedIntervals[-1][1],intervalList[i][1])\n",
    "            else:\n",
    "                mergedIntervals.append(intervalList[i])\n",
    "                \n",
    "        ans=[]\n",
    "        for interval in mergedIntervals:\n",
    "            ans.append(interval[1]-interval[0]+1)\n",
    "            \n",
    "        return ans"
   ]
  },
  {
   "cell_type": "code",
   "execution_count": 6,
   "metadata": {},
   "outputs": [
    {
     "data": {
      "text/plain": [
       "[9, 7, 8]"
      ]
     },
     "execution_count": 6,
     "metadata": {},
     "output_type": "execute_result"
    }
   ],
   "source": [
    "mysol=Solution()\n",
    "s=\"ababcbacadefegdehijhklij\"\n",
    "mysol.partitionLabels(s)"
   ]
  }
 ],
 "metadata": {
  "kernelspec": {
   "display_name": "Python 3.9.0 64-bit",
   "language": "python",
   "name": "python3"
  },
  "language_info": {
   "codemirror_mode": {
    "name": "ipython",
    "version": 3
   },
   "file_extension": ".py",
   "mimetype": "text/x-python",
   "name": "python",
   "nbconvert_exporter": "python",
   "pygments_lexer": "ipython3",
   "version": "3.9.0"
  },
  "orig_nbformat": 4,
  "vscode": {
   "interpreter": {
    "hash": "02f36f923ced5460909a8e78ad0d9c2d23697e0f6cbb99ccac5c6a7ef7bfd943"
   }
  }
 },
 "nbformat": 4,
 "nbformat_minor": 2
}
