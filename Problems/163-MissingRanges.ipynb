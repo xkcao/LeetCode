{
 "cells": [
  {
   "cell_type": "code",
   "execution_count": 1,
   "metadata": {},
   "outputs": [],
   "source": [
    "class Solution:\n",
    "    def findMissingRanges(self, nums, lower, upper):\n",
    "        missingRange=[]\n",
    "        ans=[]        \n",
    "        \n",
    "        n=len(nums)\n",
    "        #special case with empty list\n",
    "        if n==0 and lower!=upper:\n",
    "            s=str(lower)+'->'+str(upper)\n",
    "            return [s]\n",
    "        elif n==0 and lower==upper:\n",
    "            s=str(lower)\n",
    "            return [s]\n",
    "        \n",
    "        #loop through the integer array\n",
    "        for i in range(n):\n",
    "            #the first element is not equal to lower, add missing range\n",
    "            if i==0 and nums[i]!=lower:\n",
    "                start=lower\n",
    "                end=nums[i]-1\n",
    "                missingRange.append([start,end])\n",
    "            \n",
    "            #for all any element other than the last one, check if there is missing range between current element and the next element\n",
    "            if i<n-1 and nums[i]!=nums[i+1]-1:\n",
    "                start=nums[i]+1\n",
    "                end=nums[i+1]-1\n",
    "                missingRange.append([start,end])        \n",
    "                \n",
    "            #for the last element, check against upper\n",
    "            if i==n-1 and nums[i]!=upper:\n",
    "                start=nums[i]+1\n",
    "                end=upper\n",
    "                missingRange.append([start,end])        \n",
    "            \n",
    "        #convert the missing range to the right format    \n",
    "        for item in missingRange:\n",
    "            start=item[0]\n",
    "            end=item[1]\n",
    "            if start==end:\n",
    "                ans.append(str(start))\n",
    "            else:\n",
    "                s=str(start)+'->'+str(end)\n",
    "                ans.append(s)\n",
    "        \n",
    "        # return the answer\n",
    "        return ans"
   ]
  }
 ],
 "metadata": {
  "interpreter": {
   "hash": "02f36f923ced5460909a8e78ad0d9c2d23697e0f6cbb99ccac5c6a7ef7bfd943"
  },
  "kernelspec": {
   "display_name": "Python 3.9.0 64-bit",
   "language": "python",
   "name": "python3"
  },
  "language_info": {
   "codemirror_mode": {
    "name": "ipython",
    "version": 3
   },
   "file_extension": ".py",
   "mimetype": "text/x-python",
   "name": "python",
   "nbconvert_exporter": "python",
   "pygments_lexer": "ipython3",
   "version": "3.9.0"
  },
  "orig_nbformat": 4
 },
 "nbformat": 4,
 "nbformat_minor": 2
}
