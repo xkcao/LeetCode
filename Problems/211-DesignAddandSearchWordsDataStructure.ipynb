{
 "cells": [
  {
   "cell_type": "code",
   "execution_count": 1,
   "metadata": {},
   "outputs": [],
   "source": [
    "class WordDictionary(object):\n",
    "\n",
    "    def __init__(self):\n",
    "        self.wordHashTable=set()\n",
    "        #a list of set. set of unique substring for each length\n",
    "        self.HTSubstring = [set()]*25\n",
    "        #a list of set. each element of the list represents the set of letters in the word list at the same position\n",
    "        self.positionLetterList=[set()]*25\n",
    "        \n",
    "\n",
    "    def addWord(self, word):\n",
    "        \"\"\"\n",
    "        :type word: str\n",
    "        :rtype: None\n",
    "        \"\"\"\n",
    "        n=len(word)\n",
    "        \n",
    "        #update hash table\n",
    "        self.wordHashTable.add(word)\n",
    "        \n",
    "        for index in range(len(word)):\n",
    "            self.HTSubstring[index].add(word[:index+1])\n",
    "            self.positionLetterList[index].add(word[index])\n",
    "                \n",
    "        \n",
    "\n",
    "    def search(self, word):\n",
    "        \"\"\"\n",
    "        :type word: str\n",
    "        :rtype: bool\n",
    "        \"\"\"\n",
    "        #use a back tracking algorithm to search word\n",
    "        def backTracking(prefix, remaining):\n",
    "            #scanned through all letters  in the word, now search in hash table\n",
    "            if len(remaining)==0:\n",
    "                return (prefix in self.wordHashTable)\n",
    "            \n",
    "            #if prefix not match any word, return false\n",
    "            if len(prefix)>0 and prefix not in self.HTSubstring[len(prefix)-1]:\n",
    "                return False\n",
    "            \n",
    "            #look at the first letter in remaining\n",
    "            if remaining[0]!='.':\n",
    "                #not a dot\n",
    "                newPrefix=prefix+remaining[0]\n",
    "                newRemaining=remaining[1:]\n",
    "                return backTracking(newPrefix,newRemaining)\n",
    "            else:\n",
    "                #a dot. can match to all potential letters in the word list at the same position\n",
    "                if len(self.positionLetterList[len(prefix)])==0:\n",
    "                    #longer than any word in the dictionary, return False\n",
    "                    return False\n",
    "                \n",
    "                for letter in self.positionLetterList[len(prefix)]:\n",
    "                    if backTracking(prefix+letter,remaining[1:]):\n",
    "                        return True\n",
    "                    \n",
    "                return False\n",
    "        \n",
    "        return backTracking('',word)\n",
    "        \n",
    "\n",
    "\n",
    "# Your WordDictionary object will be instantiated and called as such:\n",
    "# obj = WordDictionary()\n",
    "# obj.addWord(word)\n",
    "# param_2 = obj.search(word)"
   ]
  }
 ],
 "metadata": {
  "kernelspec": {
   "display_name": "Python 3.9.0 64-bit",
   "language": "python",
   "name": "python3"
  },
  "language_info": {
   "codemirror_mode": {
    "name": "ipython",
    "version": 3
   },
   "file_extension": ".py",
   "mimetype": "text/x-python",
   "name": "python",
   "nbconvert_exporter": "python",
   "pygments_lexer": "ipython3",
   "version": "3.9.0"
  },
  "orig_nbformat": 4,
  "vscode": {
   "interpreter": {
    "hash": "02f36f923ced5460909a8e78ad0d9c2d23697e0f6cbb99ccac5c6a7ef7bfd943"
   }
  }
 },
 "nbformat": 4,
 "nbformat_minor": 2
}
