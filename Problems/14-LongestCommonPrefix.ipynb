{
 "cells": [
  {
   "cell_type": "code",
   "execution_count": 4,
   "metadata": {},
   "outputs": [],
   "source": [
    "class Solution(object):\n",
    "    def longestCommonPrefix(self, strs):\n",
    "        \"\"\"\n",
    "        :type strs: List[str]\n",
    "        :rtype: str\n",
    "        \"\"\"\n",
    "        min_length=0\n",
    "        for i in range(len(strs)):\n",
    "            if i==0 or len(strs[i])<min_length:\n",
    "                min_length=len(strs[i])\n",
    "                \n",
    "        i=0\n",
    "        while(i<min_length):\n",
    "            same_letter=True\n",
    "            letter=''\n",
    "            for j in range(len(strs)):                \n",
    "                if j==0:\n",
    "                    letter=strs[j][i]\n",
    "                if strs[j][i]!=letter:\n",
    "                    same_letter=False\n",
    "                    break\n",
    "            \n",
    "            if same_letter==True:\n",
    "                i=i+1\n",
    "            else:\n",
    "                break\n",
    "                \n",
    "        return strs[0][:i]"
   ]
  },
  {
   "cell_type": "code",
   "execution_count": 8,
   "metadata": {},
   "outputs": [
    {
     "data": {
      "text/plain": [
       "'fl'"
      ]
     },
     "execution_count": 8,
     "metadata": {},
     "output_type": "execute_result"
    }
   ],
   "source": [
    "mysol = Solution()\n",
    "strs=[\"flower\",\"flow\",\"flight\"]\n",
    "mysol.longestCommonPrefix(strs)"
   ]
  }
 ],
 "metadata": {
  "interpreter": {
   "hash": "a245dac45e51386e3067f7bf875d7c30851316ec82b938f00e050e0cf1d2e3a2"
  },
  "kernelspec": {
   "display_name": "Python 3.9.0 64-bit",
   "language": "python",
   "name": "python3"
  },
  "language_info": {
   "codemirror_mode": {
    "name": "ipython",
    "version": 3
   },
   "file_extension": ".py",
   "mimetype": "text/x-python",
   "name": "python",
   "nbconvert_exporter": "python",
   "pygments_lexer": "ipython3",
   "version": "3.9.0"
  },
  "orig_nbformat": 4
 },
 "nbformat": 4,
 "nbformat_minor": 2
}
