{
 "cells": [
  {
   "cell_type": "code",
   "execution_count": 9,
   "metadata": {},
   "outputs": [],
   "source": [
    "class Solution(object):\n",
    "    def subsets(self, nums):\n",
    "        \"\"\"\n",
    "        :type nums: List[int]\n",
    "        :rtype: List[List[int]]\n",
    "        \"\"\"\n",
    "        n=len(nums)\n",
    "        ans=[[]]\n",
    "        currentLevel=[]\n",
    "        nextLevel=[]\n",
    "        \n",
    "        positionMapping={}\n",
    "        \n",
    "        for i in range(n):\n",
    "            positionMapping[nums[i]]=i\n",
    "        \n",
    "        for level in range(n):\n",
    "            \n",
    "            #calculate next level\n",
    "            if len(currentLevel)==0:\n",
    "                for i in range(n):\n",
    "                    nextLevel.append([nums[i]])\n",
    "            else:\n",
    "                for item in currentLevel:\n",
    "                    lastNum=item[-1]\n",
    "                    position=positionMapping[lastNum]\n",
    "                    \n",
    "                    for i in range(position+1,n):\n",
    "                        newItem=item + [nums[i]]\n",
    "                        nextLevel.append(newItem)\n",
    "            \n",
    "            ans = ans + nextLevel\n",
    "            \n",
    "            #set current level=next level\n",
    "            currentLevel=nextLevel\n",
    "            nextLevel=[]\n",
    "            \n",
    "        return ans\n",
    "        "
   ]
  },
  {
   "cell_type": "code",
   "execution_count": 7,
   "metadata": {},
   "outputs": [
    {
     "data": {
      "text/plain": [
       "[[], [1], [2], [1, 2]]"
      ]
     },
     "execution_count": 7,
     "metadata": {},
     "output_type": "execute_result"
    }
   ],
   "source": [
    "nums=[1,2]\n",
    "mysol = Solution()\n",
    "mysol.subsets(nums)"
   ]
  },
  {
   "cell_type": "code",
   "execution_count": 13,
   "metadata": {},
   "outputs": [],
   "source": [
    "class Solution:\n",
    "    def subsets(self, nums):\n",
    "        n = len(nums)\n",
    "        output = [[]]\n",
    "        \n",
    "        for num in nums:\n",
    "            output += [curr + [num] for curr in output]\n",
    "        \n",
    "        return output"
   ]
  }
 ],
 "metadata": {
  "interpreter": {
   "hash": "a245dac45e51386e3067f7bf875d7c30851316ec82b938f00e050e0cf1d2e3a2"
  },
  "kernelspec": {
   "display_name": "Python 3.9.0 64-bit",
   "language": "python",
   "name": "python3"
  },
  "language_info": {
   "codemirror_mode": {
    "name": "ipython",
    "version": 3
   },
   "file_extension": ".py",
   "mimetype": "text/x-python",
   "name": "python",
   "nbconvert_exporter": "python",
   "pygments_lexer": "ipython3",
   "version": "3.9.0"
  },
  "orig_nbformat": 4
 },
 "nbformat": 4,
 "nbformat_minor": 2
}
