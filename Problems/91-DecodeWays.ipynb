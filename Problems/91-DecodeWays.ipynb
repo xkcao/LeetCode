{
 "cells": [
  {
   "cell_type": "code",
   "execution_count": 6,
   "metadata": {},
   "outputs": [],
   "source": [
    "class Solution(object):\n",
    "    def numDecodings(self, s):\n",
    "        \"\"\"\n",
    "        :type s: str\n",
    "        :rtype: int\n",
    "        \"\"\"\n",
    "        visited={}\n",
    "        def dp(subS):  \n",
    "            if subS in visited:\n",
    "                return visited[subS]\n",
    "            \n",
    "            if subS[0:1]=='0':\n",
    "                ans=0\n",
    "            elif subS=='':\n",
    "                ans=1\n",
    "            elif len(subS)==1 and subS=='0':\n",
    "                ans=0\n",
    "            elif len(subS)==1:\n",
    "                ans=1\n",
    "            elif len(subS)>=2 and int(subS[0:2])<=26:\n",
    "                ans=dp(subS[1:])+dp(subS[2:])\n",
    "            else:\n",
    "                ans=dp(subS[1:])\n",
    "            \n",
    "            visited[subS]=ans\n",
    "            return ans\n",
    "            \n",
    "        return dp(s)\n",
    "                "
   ]
  },
  {
   "cell_type": "code",
   "execution_count": 10,
   "metadata": {},
   "outputs": [],
   "source": [
    "class Solution:\n",
    "    def numDecodings(self, s):\n",
    "        # Array to store the subproblem results\n",
    "        dp = [0 for _ in range(len(s) + 1)]\n",
    "\n",
    "        dp[0] = 1\n",
    "        # Ways to decode a string of size 1 is 1. Unless the string is '0'.\n",
    "        # '0' doesn't have a single digit decode.\n",
    "        dp[1] = 0 if s[0] == '0' else 1\n",
    "\n",
    "\n",
    "        for i in range(2, len(dp)):\n",
    "\n",
    "            # Check if successful single digit decode is possible.\n",
    "            if s[i - 1] != '0':\n",
    "                dp[i] = dp[i - 1]\n",
    "\n",
    "            # Check if successful two digit decode is possible.\n",
    "            two_digit = int(s[i - 2 : i])\n",
    "            if two_digit >= 10 and two_digit <= 26:\n",
    "                dp[i] += dp[i - 2]\n",
    "                \n",
    "        return dp[len(s)]"
   ]
  }
 ],
 "metadata": {
  "interpreter": {
   "hash": "a245dac45e51386e3067f7bf875d7c30851316ec82b938f00e050e0cf1d2e3a2"
  },
  "kernelspec": {
   "display_name": "Python 3.9.0 64-bit",
   "language": "python",
   "name": "python3"
  },
  "language_info": {
   "codemirror_mode": {
    "name": "ipython",
    "version": 3
   },
   "file_extension": ".py",
   "mimetype": "text/x-python",
   "name": "python",
   "nbconvert_exporter": "python",
   "pygments_lexer": "ipython3",
   "version": "3.9.0"
  },
  "orig_nbformat": 4
 },
 "nbformat": 4,
 "nbformat_minor": 2
}
