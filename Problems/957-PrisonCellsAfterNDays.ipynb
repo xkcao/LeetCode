{
 "cells": [
  {
   "cell_type": "code",
   "execution_count": 31,
   "metadata": {},
   "outputs": [],
   "source": [
    "class Solution(object):\n",
    "    def prisonAfterNDays(self, cells, n):\n",
    "        \"\"\"\n",
    "        :type cells: List[int]\n",
    "        :type n: int\n",
    "        :rtype: List[int]\n",
    "        \"\"\"            \n",
    "        #return the cell patern after 1 day. \n",
    "        def nextDay(cells):\n",
    "            result=cells[:]\n",
    "            for i in range(1,len(cells)-1):\n",
    "                if cells[i-1]==cells[i+1]:\n",
    "                    result[i]=1\n",
    "                else:\n",
    "                    result[i]=0\n",
    "            \n",
    "            result[0]=0\n",
    "            result[-1]=0\n",
    "            \n",
    "            return result\n",
    "        \n",
    "        #after 1 day. \n",
    "        i=n\n",
    "        cells=nextDay(cells)\n",
    "        i-=1\n",
    "        \n",
    "        #after n-1 days\n",
    "        startingCells=cells[:]\n",
    "        cycle=0\n",
    "        jumped=False\n",
    "        while i>0:\n",
    "            if not jumped:\n",
    "                cycle+=1\n",
    "            cells=nextDay(cells)\n",
    "            i-=1\n",
    "            \n",
    "            if cells==startingCells and not jumped:                \n",
    "                jumped=True\n",
    "                i-=cycle*((i)//cycle)\n",
    "        \n",
    "        return cells\n",
    "            \n",
    "        "
   ]
  },
  {
   "cell_type": "code",
   "execution_count": 32,
   "metadata": {},
   "outputs": [
    {
     "data": {
      "text/plain": [
       "[0, 0, 0, 0, 1, 1, 1, 0]"
      ]
     },
     "execution_count": 32,
     "metadata": {},
     "output_type": "execute_result"
    }
   ],
   "source": [
    "mysol = Solution()\n",
    "cells=[0,1,0,1,1,0,0,1]\n",
    "n=16\n",
    "mysol.prisonAfterNDays(cells,n)"
   ]
  }
 ],
 "metadata": {
  "interpreter": {
   "hash": "a245dac45e51386e3067f7bf875d7c30851316ec82b938f00e050e0cf1d2e3a2"
  },
  "kernelspec": {
   "display_name": "Python 3.9.0 64-bit",
   "language": "python",
   "name": "python3"
  },
  "language_info": {
   "codemirror_mode": {
    "name": "ipython",
    "version": 3
   },
   "file_extension": ".py",
   "mimetype": "text/x-python",
   "name": "python",
   "nbconvert_exporter": "python",
   "pygments_lexer": "ipython3",
   "version": "3.9.0"
  },
  "orig_nbformat": 4
 },
 "nbformat": 4,
 "nbformat_minor": 2
}
