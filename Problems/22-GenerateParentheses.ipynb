{
 "cells": [
  {
   "cell_type": "code",
   "execution_count": 13,
   "metadata": {},
   "outputs": [],
   "source": [
    "class Solution(object): \n",
    "    def generateParenthesis(self, n):\n",
    "        \"\"\"\n",
    "        :type n: int\n",
    "        :rtype: List[str]\n",
    "        \"\"\"\n",
    "        currentList=[]\n",
    "        for i in range(2*n):\n",
    "            newList=[]\n",
    "            if len(currentList)==0:\n",
    "                newList.append('(')\n",
    "            for j in range(len(currentList)):\n",
    "                item=currentList[j]\n",
    "                if item.count('(')==n:\n",
    "                    newItem=item+')'\n",
    "                    newList.append(newItem)\n",
    "                elif item.count('(')>item.count(')'):\n",
    "                    newItem1=item+'('\n",
    "                    newItem2=item+')'\n",
    "                    newList.append(newItem1)\n",
    "                    newList.append(newItem2)\n",
    "                else:\n",
    "                    newItem=item+'('\n",
    "                    newList.append(newItem)                    \n",
    "            currentList=newList\n",
    "\n",
    "        return currentList\n",
    "    \n",
    "                \n",
    "                "
   ]
  },
  {
   "cell_type": "code",
   "execution_count": 14,
   "metadata": {},
   "outputs": [
    {
     "data": {
      "text/plain": [
       "['((()))', '(()())', '(())()', '()(())', '()()()']"
      ]
     },
     "execution_count": 14,
     "metadata": {},
     "output_type": "execute_result"
    }
   ],
   "source": [
    "mysol = Solution()\n",
    "mysol.generateParenthesis(3)"
   ]
  }
 ],
 "metadata": {
  "interpreter": {
   "hash": "a245dac45e51386e3067f7bf875d7c30851316ec82b938f00e050e0cf1d2e3a2"
  },
  "kernelspec": {
   "display_name": "Python 3.9.0 64-bit",
   "language": "python",
   "name": "python3"
  },
  "language_info": {
   "codemirror_mode": {
    "name": "ipython",
    "version": 3
   },
   "file_extension": ".py",
   "mimetype": "text/x-python",
   "name": "python",
   "nbconvert_exporter": "python",
   "pygments_lexer": "ipython3",
   "version": "3.9.0"
  },
  "orig_nbformat": 4
 },
 "nbformat": 4,
 "nbformat_minor": 2
}
