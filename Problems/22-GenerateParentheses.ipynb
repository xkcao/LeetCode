{
 "cells": [
  {
   "cell_type": "code",
   "execution_count": 13,
   "metadata": {},
   "outputs": [],
   "source": [
    "class Solution(object): \n",
    "    def generateParenthesis(self, n):\n",
    "        \"\"\"\n",
    "        :type n: int\n",
    "        :rtype: List[str]\n",
    "        \"\"\"\n",
    "        currentList=[]\n",
    "        for i in range(2*n):\n",
    "            newList=[]\n",
    "            if len(currentList)==0:\n",
    "                newList.append('(')\n",
    "            for j in range(len(currentList)):\n",
    "                item=currentList[j]\n",
    "                if item.count('(')==n:\n",
    "                    newItem=item+')'\n",
    "                    newList.append(newItem)\n",
    "                elif item.count('(')>item.count(')'):\n",
    "                    newItem1=item+'('\n",
    "                    newItem2=item+')'\n",
    "                    newList.append(newItem1)\n",
    "                    newList.append(newItem2)\n",
    "                else:\n",
    "                    newItem=item+'('\n",
    "                    newList.append(newItem)                    \n",
    "            currentList=newList\n",
    "\n",
    "        return currentList\n",
    "    \n",
    "                \n",
    "                "
   ]
  },
  {
   "cell_type": "code",
   "execution_count": 14,
   "metadata": {},
   "outputs": [
    {
     "data": {
      "text/plain": [
       "['((()))', '(()())', '(())()', '()(())', '()()()']"
      ]
     },
     "execution_count": 14,
     "metadata": {},
     "output_type": "execute_result"
    }
   ],
   "source": [
    "mysol = Solution()\n",
    "mysol.generateParenthesis(3)"
   ]
  },
  {
   "cell_type": "code",
   "execution_count": 1,
   "metadata": {},
   "outputs": [],
   "source": [
    "class Solution(object):\n",
    "    def generateParenthesis(self, n):\n",
    "        \"\"\"\n",
    "        :type n: int\n",
    "        :rtype: List[str]\n",
    "        \"\"\"\n",
    "        ans=[]\n",
    "        def backTracking(prefix,leftNum,rightNum):\n",
    "            #invalid cases\n",
    "            if leftNum>n or rightNum>n or leftNum<rightNum:\n",
    "                return\n",
    "            \n",
    "            # a well formed one, add to solution\n",
    "            if leftNum==n and rightNum==n:\n",
    "                ans.append(prefix)\n",
    "                \n",
    "            if leftNum==rightNum:\n",
    "                backTracking(prefix+'(',leftNum+1,rightNum)\n",
    "            else:\n",
    "                backTracking(prefix+'(',leftNum+1,rightNum)\n",
    "                backTracking(prefix+')',leftNum,rightNum+1)\n",
    "                \n",
    "        backTracking('',0,0)\n",
    "        \n",
    "        return ans\n",
    "                \n",
    "                "
   ]
  }
 ],
 "metadata": {
  "kernelspec": {
   "display_name": "Python 3.9.0 64-bit",
   "language": "python",
   "name": "python3"
  },
  "language_info": {
   "codemirror_mode": {
    "name": "ipython",
    "version": 3
   },
   "file_extension": ".py",
   "mimetype": "text/x-python",
   "name": "python",
   "nbconvert_exporter": "python",
   "pygments_lexer": "ipython3",
   "version": "3.9.0"
  },
  "orig_nbformat": 4,
  "vscode": {
   "interpreter": {
    "hash": "02f36f923ced5460909a8e78ad0d9c2d23697e0f6cbb99ccac5c6a7ef7bfd943"
   }
  }
 },
 "nbformat": 4,
 "nbformat_minor": 2
}
