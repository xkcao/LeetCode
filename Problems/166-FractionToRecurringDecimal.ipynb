{
 "cells": [
  {
   "cell_type": "code",
   "execution_count": 13,
   "metadata": {},
   "outputs": [],
   "source": [
    "class Solution:\n",
    "    def fractionToDecimal(self, numerator: int, denominator: int) -> str:     \n",
    "        #special case\n",
    "        if numerator==0:\n",
    "            return \"0\"\n",
    "        \n",
    "        positiveAns=True\n",
    "        #positive or negative\n",
    "        if numerator*denominator<0:\n",
    "            positiveAns=False\n",
    "        \n",
    "        #use absolute avalue\n",
    "        numeratorAbs=abs(numerator)\n",
    "        denominatorAbs=abs(denominator)\n",
    "        \n",
    "        integerPart=numeratorAbs//denominatorAbs\n",
    "        remainder=numeratorAbs%denominatorAbs\n",
    "        \n",
    "        #no fractions\n",
    "        if remainder==0:\n",
    "            return str(int(integerPart)) if positiveAns else ('-'+str(int(integerPart)))\n",
    "        \n",
    "        #with fractions\n",
    "        fractionPart=''\n",
    "        remainderHT={}\n",
    "        position=0\n",
    "        remainder*=10\n",
    "        repeatingStart=-1\n",
    "        while (remainder!=0):\n",
    "            if remainder in remainderHT:\n",
    "                repeatingStart=remainderHT[remainder]\n",
    "                break\n",
    "            \n",
    "            remainderHT[remainder]=position                \n",
    "            position+=1\n",
    "\n",
    "            if remainder<denominatorAbs:                \n",
    "                remainder*=10                \n",
    "                fractionPart+='0'\n",
    "            else:\n",
    "                integerResult=remainder//denominatorAbs\n",
    "                fractionPart += str(integerResult)\n",
    "                remainder=remainder%denominatorAbs\n",
    "                remainder*=10\n",
    "                    \n",
    "        if repeatingStart>-1:\n",
    "            ans=str(int(integerPart))+'.' + fractionPart[:repeatingStart]+'('+ fractionPart[repeatingStart:]+')'\n",
    "        else:\n",
    "            ans=str(int(integerPart))+'.'+ fractionPart\n",
    "\n",
    "        return ans if positiveAns else ('-'+ans)\n",
    "        "
   ]
  },
  {
   "cell_type": "code",
   "execution_count": 14,
   "metadata": {},
   "outputs": [
    {
     "data": {
      "text/plain": [
       "'0.1(6)'"
      ]
     },
     "execution_count": 14,
     "metadata": {},
     "output_type": "execute_result"
    }
   ],
   "source": [
    "numerator=1\n",
    "denominator=6\n",
    "mySol = Solution()\n",
    "mySol.fractionToDecimal(numerator,denominator)"
   ]
  }
 ],
 "metadata": {
  "interpreter": {
   "hash": "02f36f923ced5460909a8e78ad0d9c2d23697e0f6cbb99ccac5c6a7ef7bfd943"
  },
  "kernelspec": {
   "display_name": "Python 3.9.0 64-bit",
   "language": "python",
   "name": "python3"
  },
  "language_info": {
   "codemirror_mode": {
    "name": "ipython",
    "version": 3
   },
   "file_extension": ".py",
   "mimetype": "text/x-python",
   "name": "python",
   "nbconvert_exporter": "python",
   "pygments_lexer": "ipython3",
   "version": "3.9.0"
  },
  "orig_nbformat": 4
 },
 "nbformat": 4,
 "nbformat_minor": 2
}
