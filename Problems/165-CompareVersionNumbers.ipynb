{
 "cells": [
  {
   "cell_type": "code",
   "execution_count": 6,
   "metadata": {},
   "outputs": [],
   "source": [
    "class Solution(object):\n",
    "    def compareVersion(self, version1, version2):\n",
    "        \"\"\"\n",
    "        :type version1: str\n",
    "        :type version2: str\n",
    "        :rtype: int\n",
    "        \"\"\"\n",
    "        def verstionStrToList(version):\n",
    "            revisionStrList=version.split('.')\n",
    "            revisionIntList=[]\n",
    "            for revision in revisionStrList:\n",
    "                revisionIntList.append(int(revision))\n",
    "                \n",
    "            return revisionIntList\n",
    "                \n",
    "        revisionList1 = verstionStrToList(version1)\n",
    "        revisionList2 = verstionStrToList(version2)\n",
    "        \n",
    "        len1=len(revisionList1)\n",
    "        len2=len(revisionList2)\n",
    "        for i in range(max(len1,len2)):\n",
    "            if i>len1-1:\n",
    "                revision1=0\n",
    "            else:\n",
    "                revision1=revisionList1[i]\n",
    "            \n",
    "            if i>len2-1:\n",
    "                revision2=0\n",
    "            else:\n",
    "                revision2=revisionList2[i]\n",
    "                \n",
    "            if revision1<revision2:\n",
    "                return -1\n",
    "            elif revision1>revision2:\n",
    "                return 1\n",
    "            \n",
    "        return 0\n",
    "        "
   ]
  },
  {
   "cell_type": "code",
   "execution_count": 4,
   "metadata": {},
   "outputs": [
    {
     "data": {
      "text/plain": [
       "1"
      ]
     },
     "execution_count": 4,
     "metadata": {},
     "output_type": "execute_result"
    }
   ],
   "source": [
    "version1=\"7.5.2.4\"\n",
    "version2=\"7.5.3\"\n",
    "mysol=Solution()\n",
    "mysol.compareVersion(version1,version2)"
   ]
  }
 ],
 "metadata": {
  "interpreter": {
   "hash": "a245dac45e51386e3067f7bf875d7c30851316ec82b938f00e050e0cf1d2e3a2"
  },
  "kernelspec": {
   "display_name": "Python 3.9.0 64-bit",
   "language": "python",
   "name": "python3"
  },
  "language_info": {
   "codemirror_mode": {
    "name": "ipython",
    "version": 3
   },
   "file_extension": ".py",
   "mimetype": "text/x-python",
   "name": "python",
   "nbconvert_exporter": "python",
   "pygments_lexer": "ipython3",
   "version": "3.9.0"
  },
  "orig_nbformat": 4
 },
 "nbformat": 4,
 "nbformat_minor": 2
}
