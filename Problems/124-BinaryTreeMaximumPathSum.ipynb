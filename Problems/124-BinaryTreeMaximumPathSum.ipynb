{
 "cells": [
  {
   "cell_type": "code",
   "execution_count": 3,
   "metadata": {},
   "outputs": [],
   "source": [
    "# Definition for a binary tree node.\n",
    "# class TreeNode(object):\n",
    "#     def __init__(self, val=0, left=None, right=None):\n",
    "#         self.val = val\n",
    "#         self.left = left\n",
    "#         self.right = right\n",
    "class Solution(object):\n",
    "    def maxPathSum(self, root):\n",
    "        \"\"\"\n",
    "        :type root: TreeNode\n",
    "        :rtype: int\n",
    "        \"\"\"        \n",
    "        global ans\n",
    "        ans=-sys.maxsize\n",
    "        \n",
    "        #map each node to the maximum path sum where this node is the highest node and maybe one of its subtrees is included\n",
    "        def bt(node):\n",
    "            if node==None:\n",
    "                return 0\n",
    "            leftMax=bt(node.left)\n",
    "            rightMax=bt(node.right)\n",
    "            maxSum=max(node.val,node.val+leftMax,node.val+rightMax)\n",
    "            \n",
    "            maxWholePath=max(maxSum,node.val+leftMax+rightMax)\n",
    "            global ans\n",
    "            ans=max(ans,maxWholePath)\n",
    "            \n",
    "            return maxSum\n",
    "                \n",
    "        bt(root)\n",
    "        return ans\n",
    "        "
   ]
  }
 ],
 "metadata": {
  "interpreter": {
   "hash": "a245dac45e51386e3067f7bf875d7c30851316ec82b938f00e050e0cf1d2e3a2"
  },
  "kernelspec": {
   "display_name": "Python 3.9.0 64-bit",
   "language": "python",
   "name": "python3"
  },
  "language_info": {
   "codemirror_mode": {
    "name": "ipython",
    "version": 3
   },
   "file_extension": ".py",
   "mimetype": "text/x-python",
   "name": "python",
   "nbconvert_exporter": "python",
   "pygments_lexer": "ipython3",
   "version": "3.9.0"
  },
  "orig_nbformat": 4
 },
 "nbformat": 4,
 "nbformat_minor": 2
}
