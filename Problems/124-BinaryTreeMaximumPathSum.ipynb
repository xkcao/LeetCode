{
 "cells": [
  {
   "cell_type": "code",
   "execution_count": 3,
   "metadata": {},
   "outputs": [],
   "source": [
    "# Definition for a binary tree node.\n",
    "# class TreeNode(object):\n",
    "#     def __init__(self, val=0, left=None, right=None):\n",
    "#         self.val = val\n",
    "#         self.left = left\n",
    "#         self.right = right\n",
    "class Solution(object):\n",
    "    def maxPathSum(self, root):\n",
    "        \"\"\"\n",
    "        :type root: TreeNode\n",
    "        :rtype: int\n",
    "        \"\"\"        \n",
    "        global ans\n",
    "        ans=-sys.maxsize\n",
    "        \n",
    "        #map each node to the maximum path sum where this node is the highest node and maybe one of its subtrees is included\n",
    "        def bt(node):\n",
    "            if node==None:\n",
    "                return 0\n",
    "            leftMax=bt(node.left)\n",
    "            rightMax=bt(node.right)\n",
    "            maxSum=max(node.val,node.val+leftMax,node.val+rightMax)\n",
    "            \n",
    "            maxWholePath=max(maxSum,node.val+leftMax+rightMax)\n",
    "            global ans\n",
    "            ans=max(ans,maxWholePath)\n",
    "            \n",
    "            return maxSum\n",
    "                \n",
    "        bt(root)\n",
    "        return ans\n",
    "        "
   ]
  },
  {
   "cell_type": "code",
   "execution_count": 1,
   "metadata": {},
   "outputs": [],
   "source": [
    "# Definition for a binary tree node.\n",
    "# class TreeNode(object):\n",
    "#     def __init__(self, val=0, left=None, right=None):\n",
    "#         self.val = val\n",
    "#         self.left = left\n",
    "#         self.right = right\n",
    "class Solution(object):\n",
    "    def maxPathSum(self, root):\n",
    "        \"\"\"\n",
    "        :type root: TreeNode\n",
    "        :rtype: int\n",
    "        \"\"\"        \n",
    "        global maxSum\n",
    "        maxSum=-sys.maxsize\n",
    "        def backTracking(node):\n",
    "            global maxSum\n",
    "            val=node.val\n",
    "            maxVal=val\n",
    "            maxSum=max(maxSum,val)\n",
    "            if node.left!=None:\n",
    "                valLeft=backTracking(node.left)            \n",
    "                maxVal=max(maxVal,valLeft+val)            \n",
    "                maxSum=max(maxSum,valLeft+val)                \n",
    "            \n",
    "            if node.right!=None:\n",
    "                valRight=backTracking(node.right)\n",
    "                maxVal=max(maxVal,valRight+val)            \n",
    "                maxSum=max(maxSum,valRight+val)                                            \n",
    "                \n",
    "            if node.left!=None and node.right!=None:\n",
    "                maxSum=max(maxSum,val+valLeft+valRight)\n",
    "            \n",
    "            return maxVal\n",
    "        \n",
    "        backTracking(root)\n",
    "        return maxSum"
   ]
  }
 ],
 "metadata": {
  "kernelspec": {
   "display_name": "Python 3.9.0 64-bit",
   "language": "python",
   "name": "python3"
  },
  "language_info": {
   "codemirror_mode": {
    "name": "ipython",
    "version": 3
   },
   "file_extension": ".py",
   "mimetype": "text/x-python",
   "name": "python",
   "nbconvert_exporter": "python",
   "pygments_lexer": "ipython3",
   "version": "3.9.0"
  },
  "orig_nbformat": 4,
  "vscode": {
   "interpreter": {
    "hash": "02f36f923ced5460909a8e78ad0d9c2d23697e0f6cbb99ccac5c6a7ef7bfd943"
   }
  }
 },
 "nbformat": 4,
 "nbformat_minor": 2
}
