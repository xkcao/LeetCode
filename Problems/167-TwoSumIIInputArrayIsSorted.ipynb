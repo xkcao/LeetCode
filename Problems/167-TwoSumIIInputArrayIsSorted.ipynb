{
 "cells": [
  {
   "cell_type": "code",
   "execution_count": 2,
   "metadata": {},
   "outputs": [],
   "source": [
    "class Solution(object):\n",
    "    def twoSum(self, numbers, target):\n",
    "        \"\"\"\n",
    "        :type numbers: List[int]\n",
    "        :type target: int\n",
    "        :rtype: List[int]\n",
    "        \"\"\"\n",
    "        i=0\n",
    "        j=len(numbers)-1\n",
    "        while (i<=j):\n",
    "            total=numbers[i]+numbers[j]\n",
    "            if total==target:\n",
    "                ans_i=i\n",
    "                ans_j=j\n",
    "                break\n",
    "            if total<target:\n",
    "                i+=1\n",
    "            else:\n",
    "                j-=1\n",
    "                \n",
    "        return [ans_i+1,ans_j+1]"
   ]
  }
 ],
 "metadata": {
  "interpreter": {
   "hash": "a245dac45e51386e3067f7bf875d7c30851316ec82b938f00e050e0cf1d2e3a2"
  },
  "kernelspec": {
   "display_name": "Python 3.9.0 64-bit",
   "language": "python",
   "name": "python3"
  },
  "language_info": {
   "codemirror_mode": {
    "name": "ipython",
    "version": 3
   },
   "file_extension": ".py",
   "mimetype": "text/x-python",
   "name": "python",
   "nbconvert_exporter": "python",
   "pygments_lexer": "ipython3",
   "version": "3.9.0"
  },
  "orig_nbformat": 4
 },
 "nbformat": 4,
 "nbformat_minor": 2
}
