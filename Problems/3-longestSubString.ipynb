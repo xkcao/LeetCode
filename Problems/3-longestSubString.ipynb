{
 "cells": [
  {
   "cell_type": "code",
   "execution_count": 4,
   "metadata": {},
   "outputs": [],
   "source": [
    "class Solution(object):\n",
    "    def lengthOfLongestSubstring(self, s):\n",
    "        \"\"\"\n",
    "        :type s: str\n",
    "        :rtype: int\n",
    "        \"\"\"\n",
    "        longest_length=0\n",
    "        longest_i=0\n",
    "        longest_j=0\n",
    "        for i in range(len(s)):\n",
    "            j=i+1\n",
    "            l=[s[i]]\n",
    "            while j<=len(s)-1 and not (s[j] in l):\n",
    "                l.append(s[j])\n",
    "                j=j+1                \n",
    "            if (j-i>longest_length):\n",
    "                longest_length=j-i\n",
    "                longest_i=i\n",
    "                longest_j=j\n",
    "        return longest_length"
   ]
  },
  {
   "cell_type": "code",
   "execution_count": 6,
   "metadata": {},
   "outputs": [
    {
     "data": {
      "text/plain": [
       "3"
      ]
     },
     "execution_count": 6,
     "metadata": {},
     "output_type": "execute_result"
    }
   ],
   "source": [
    "sol = Solution()\n",
    "sol.lengthOfLongestSubstring(\"abcabcbb\")"
   ]
  },
  {
   "cell_type": "code",
   "execution_count": 10,
   "metadata": {},
   "outputs": [],
   "source": [
    "chars = [0] * 128"
   ]
  },
  {
   "cell_type": "code",
   "execution_count": null,
   "metadata": {},
   "outputs": [],
   "source": [
    "class Solution(object):\n",
    "    def lengthOfLongestSubstring(self, s):\n",
    "        \"\"\"\n",
    "        :type s: str\n",
    "        :rtype: int\n",
    "        \"\"\"       \n",
    "        n=len(s)\n",
    "        maxLength=0\n",
    "        for i in range(n):            \n",
    "            if n-i<=maxLength:\n",
    "                continue\n",
    "                \n",
    "            uniqueChars={}\n",
    "            j=i\n",
    "            length=0                \n",
    "            while j<=n-1 and s[j] not in uniqueChars:\n",
    "                length+=1\n",
    "                uniqueChars[s[j]]=1\n",
    "                j+=1\n",
    "            \n",
    "            maxLength = max(maxLength, length)\n",
    "            \n",
    "        return maxLength"
   ]
  },
  {
   "cell_type": "code",
   "execution_count": null,
   "metadata": {},
   "outputs": [],
   "source": [
    "class Solution(object):\n",
    "    def lengthOfLongestSubstring(self, s):\n",
    "        \"\"\"\n",
    "        :type s: str\n",
    "        :rtype: int\n",
    "        \"\"\"       \n",
    "        n=len(s)\n",
    "        ans=0\n",
    "        #mp stores the current index of a character\n",
    "        mp={}\n",
    "        \n",
    "        i=0\n",
    "        #try to extend the range [i,j]\n",
    "        for j in range(n):\n",
    "            if s[j] in mp:\n",
    "                i=max(mp[s[j]],i)\n",
    "                \n",
    "            ans=max(ans,j-i+1)\n",
    "            mp[s[j]]=j+1\n",
    "            \n",
    "        return ans"
   ]
  }
 ],
 "metadata": {
  "kernelspec": {
   "display_name": "Python 3.9.0 64-bit",
   "language": "python",
   "name": "python3"
  },
  "language_info": {
   "codemirror_mode": {
    "name": "ipython",
    "version": 3
   },
   "file_extension": ".py",
   "mimetype": "text/x-python",
   "name": "python",
   "nbconvert_exporter": "python",
   "pygments_lexer": "ipython3",
   "version": "3.9.0"
  },
  "orig_nbformat": 4,
  "vscode": {
   "interpreter": {
    "hash": "02f36f923ced5460909a8e78ad0d9c2d23697e0f6cbb99ccac5c6a7ef7bfd943"
   }
  }
 },
 "nbformat": 4,
 "nbformat_minor": 2
}
