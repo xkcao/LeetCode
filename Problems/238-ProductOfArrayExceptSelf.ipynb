{
 "cells": [
  {
   "cell_type": "code",
   "execution_count": null,
   "metadata": {},
   "outputs": [],
   "source": [
    "class Solution(object):\n",
    "    def productExceptSelf(self, nums):\n",
    "        \"\"\"\n",
    "        :type nums: List[int]\n",
    "        :rtype: List[int]\n",
    "        \"\"\"\n",
    "        n=len(nums)\n",
    "        productLeft=[1]*n\n",
    "        productRight=[1]*n\n",
    "        \n",
    "        product=1\n",
    "        for i in range(n):\n",
    "            product*=nums[i]\n",
    "            productLeft[i]=product\n",
    "            \n",
    "        product=1\n",
    "        for i in reversed(range(n)):\n",
    "            product*=nums[i]\n",
    "            productRight[i]=product\n",
    "            \n",
    "        ans=[]\n",
    "        for i in range(n):\n",
    "            product=1\n",
    "            if i==0:\n",
    "                product=productRight[i+1]\n",
    "            elif i==n-1:\n",
    "                product=productLeft[i-1]\n",
    "            else:\n",
    "                product=productLeft[i-1]*productRight[i+1]\n",
    "            ans.append(product)\n",
    "            \n",
    "        return ans"
   ]
  }
 ],
 "metadata": {
  "language_info": {
   "name": "python"
  },
  "orig_nbformat": 4
 },
 "nbformat": 4,
 "nbformat_minor": 2
}
