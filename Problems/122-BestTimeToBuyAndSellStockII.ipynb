{
 "cells": [
  {
   "cell_type": "code",
   "execution_count": 7,
   "metadata": {},
   "outputs": [],
   "source": [
    "class Solution:\n",
    "    def maxProfit(self, prices):\n",
    "        #recursive dynamic programming\n",
    "        #start,end are the indices in list prices\n",
    "        visited={}\n",
    "        \n",
    "        maxBackwards=[0]*len(prices)\n",
    "        maxBackwards[len(prices)-1]=prices[len(prices)-1]\n",
    "        for i in reversed(range(len(prices)-1)):\n",
    "            maxBackwards[i]=max(maxBackwards[i+1],prices[i])\n",
    "        \n",
    "        def dp(start,end):\n",
    "            #if already calculated\n",
    "            if (start,end) in visited:\n",
    "                return visited[(start,end)]\n",
    "            \n",
    "            #no profit if only have 1 element or less\n",
    "            if start>=end:\n",
    "                return 0\n",
    "            \n",
    "            if maxBackwards[start+1]<=prices[start]:\n",
    "                return dp(start+1,end)\n",
    "            \n",
    "            #assume we buy at start, loop through the sell day from start to end\n",
    "            maxProfitValue=0\n",
    "            for i in range(start,end+1):\n",
    "                if prices[i]>=prices[start]:\n",
    "                    profit=prices[i]-prices[start]+dp(i+1,end)\n",
    "                    if profit>maxProfitValue:\n",
    "                        maxProfitValue=profit\n",
    "            \n",
    "            visited[(start,end)]=maxProfitValue\n",
    "            \n",
    "            return maxProfitValue\n",
    "        \n",
    "        return dp(0,len(prices)-1)"
   ]
  },
  {
   "cell_type": "code",
   "execution_count": null,
   "metadata": {},
   "outputs": [],
   "source": [
    "# If we analyze the graph, we notice that the points of interest are the consecutive valleys and peaks.\n",
    "\n",
    "# Mathematically speaking: Total Profit= \\sum_{i}(height(peak_i)-height(valley_i))TotalProfit=∑ \n",
    "# i\n",
    "# ​\n",
    "#  (height(peak \n",
    "# i\n",
    "# ​\n",
    "#  )−height(valley \n",
    "# i\n",
    "# ​\n",
    "#  ))\n",
    "\n",
    "# The key point is we need to consider every peak immediately following a valley to maximize the profit. In case we skip one of the peaks (trying to obtain more profit), we will end up losing the profit over one of the transactions leading to an overall lesser profit.\n",
    "\n",
    "# For example, in the above case, if we skip peak_ipeak \n",
    "# i\n",
    "# ​\n",
    "#   and valley_jvalley \n",
    "# j\n",
    "# ​\n",
    "#   trying to obtain more profit by considering points with more difference in heights, the net profit obtained will always be lesser than the one obtained by including them, since CC will always be lesser than A+BA+B."
   ]
  }
 ],
 "metadata": {
  "interpreter": {
   "hash": "02f36f923ced5460909a8e78ad0d9c2d23697e0f6cbb99ccac5c6a7ef7bfd943"
  },
  "kernelspec": {
   "display_name": "Python 3.9.0 64-bit",
   "language": "python",
   "name": "python3"
  },
  "language_info": {
   "codemirror_mode": {
    "name": "ipython",
    "version": 3
   },
   "file_extension": ".py",
   "mimetype": "text/x-python",
   "name": "python",
   "nbconvert_exporter": "python",
   "pygments_lexer": "ipython3",
   "version": "3.9.0"
  },
  "orig_nbformat": 4
 },
 "nbformat": 4,
 "nbformat_minor": 2
}
