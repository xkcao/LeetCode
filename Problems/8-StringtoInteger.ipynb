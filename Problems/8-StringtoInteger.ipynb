{
 "cells": [
  {
   "cell_type": "code",
   "execution_count": 7,
   "metadata": {},
   "outputs": [],
   "source": [
    "class Solution(object):\n",
    "    def myAtoi(self, s):\n",
    "        \"\"\"\n",
    "        :type s: str\n",
    "        :rtype: int\n",
    "        \"\"\"\n",
    "        i=0\n",
    "        while (i<=len(s)-1 and s[i]==' '):\n",
    "            i=i+1\n",
    "        \n",
    "        positive=1\n",
    "        if (i<=len(s)-1 and ord(s[i])==ord('+')):\n",
    "            i=i+1\n",
    "        elif (i<=len(s)-1 and ord(s[i])==ord('-')):\n",
    "            positive=0\n",
    "            i=i+1\n",
    "        \n",
    "        list_num=[]\n",
    "        while (i<=len(s)-1 and ord(s[i])>=ord('0') and ord(s[i])<=ord('9')):\n",
    "            num=ord(s[i])-ord('0')\n",
    "            list_num.append(num)\n",
    "            i=i+1\n",
    "            \n",
    "        result=0\n",
    "        for i in range(len(list_num)):\n",
    "            result = result + list_num[i]*(10**(len(list_num)-i-1))\n",
    "        \n",
    "        if (positive==0):\n",
    "            result = 0-result\n",
    "        \n",
    "        upper_limit = 2**31-1\n",
    "        lower_limit= -1*(2**31)\n",
    "        if(result>upper_limit):\n",
    "            result=upper_limit\n",
    "        elif(result<lower_limit):\n",
    "            result=lower_limit\n",
    "            \n",
    "        return result"
   ]
  },
  {
   "cell_type": "code",
   "execution_count": 27,
   "metadata": {},
   "outputs": [
    {
     "name": "stdout",
     "output_type": "stream",
     "text": [
      "100\n",
      "100\n"
     ]
    }
   ],
   "source": [
    "num=100\n",
    "converted_num1 = \"{}\".format(num)\n",
    "converted_num2 = str(num)\n",
    "print(converted_num1)\n",
    "print(converted_num2)"
   ]
  },
  {
   "cell_type": "code",
   "execution_count": 22,
   "metadata": {},
   "outputs": [
    {
     "name": "stdout",
     "output_type": "stream",
     "text": [
      "<class 'str'>\n",
      "<class 'int'>\n"
     ]
    }
   ],
   "source": [
    "s=''\n",
    "s = s + '1'\n",
    "s = s + '2'\n",
    "s = s + '3'\n",
    "s = s + '4'\n",
    "print(type(s))\n",
    "print(type(int(s)))"
   ]
  },
  {
   "cell_type": "code",
   "execution_count": 26,
   "metadata": {},
   "outputs": [
    {
     "data": {
      "text/plain": [
       "3"
      ]
     },
     "execution_count": 26,
     "metadata": {},
     "output_type": "execute_result"
    }
   ],
   "source": [
    "s='1234'\n",
    "num=int(s[2])-0\n",
    "num"
   ]
  },
  {
   "cell_type": "code",
   "execution_count": 35,
   "metadata": {},
   "outputs": [
    {
     "name": "stdout",
     "output_type": "stream",
     "text": [
      "True\n",
      "True\n",
      "True\n",
      "False\n",
      "False\n",
      "False\n",
      "True\n",
      "True\n",
      "True\n"
     ]
    }
   ],
   "source": [
    "s1='125sdf41'\n",
    "for i in range(len(s)):\n",
    "    print(s[i].isdigit())\n",
    "\n",
    "s2='1234'\n",
    "print(s2.isdigit()) "
   ]
  }
 ],
 "metadata": {
  "interpreter": {
   "hash": "a245dac45e51386e3067f7bf875d7c30851316ec82b938f00e050e0cf1d2e3a2"
  },
  "kernelspec": {
   "display_name": "Python 3.9.0 64-bit",
   "language": "python",
   "name": "python3"
  },
  "language_info": {
   "codemirror_mode": {
    "name": "ipython",
    "version": 3
   },
   "file_extension": ".py",
   "mimetype": "text/x-python",
   "name": "python",
   "nbconvert_exporter": "python",
   "pygments_lexer": "ipython3",
   "version": "3.9.0"
  },
  "orig_nbformat": 4
 },
 "nbformat": 4,
 "nbformat_minor": 2
}
