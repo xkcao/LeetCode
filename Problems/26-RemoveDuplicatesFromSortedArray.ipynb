{
 "cells": [
  {
   "cell_type": "code",
   "execution_count": 2,
   "metadata": {},
   "outputs": [],
   "source": [
    "class Solution2(object):\n",
    "    def removeDuplicates(self, nums):\n",
    "        \"\"\"\n",
    "        :type nums: List[int]\n",
    "        :rtype: int\n",
    "        \"\"\"\n",
    "        \n",
    "        if len(nums)==0:\n",
    "            return 0\n",
    "        \n",
    "        firstNum=nums[0]\n",
    "        emptyNum=firstNum-1\n",
    "        previousNum=firstNum\n",
    "        i=1\n",
    "        uniqueNum=1\n",
    "        while i<len(nums):\n",
    "            if nums[i]==previousNum:\n",
    "                nums[i]=emptyNum\n",
    "            else:\n",
    "                uniqueNum=uniqueNum+1\n",
    "                previousNum=nums[i]\n",
    "            i=i+1\n",
    "        \n",
    "        if uniqueNum!=len(nums):\n",
    "            i=0\n",
    "            while i<uniqueNum:\n",
    "                if nums[i]==emptyNum:\n",
    "                    j=i+1\n",
    "                    while j<len(nums) and nums[j]==emptyNum:\n",
    "                        j=j+1\n",
    "                    if j<len(nums) and nums[j]!=emptyNum:\n",
    "                        nums[i]=nums[j]\n",
    "                        nums[j]=emptyNum\n",
    "                i=i+1\n",
    "        \n",
    "        return uniqueNum"
   ]
  },
  {
   "cell_type": "code",
   "execution_count": 4,
   "metadata": {},
   "outputs": [],
   "source": [
    "class Solution2(object):\n",
    "    def removeDuplicates(self, nums):\n",
    "        \"\"\"\n",
    "        :type nums: List[int]\n",
    "        :rtype: int\n",
    "        \"\"\"\n",
    "        \n",
    "        if len(nums)==0:\n",
    "            return 0\n",
    "        \n",
    "        firstNum=nums[0]\n",
    "        emptyNum=firstNum-1\n",
    "        previousNum=firstNum\n",
    "        i=1\n",
    "        uniqueNum=1\n",
    "        mapping={0:firstNum}\n",
    "        while i<len(nums):\n",
    "            if nums[i]==previousNum:\n",
    "                nums[i]=emptyNum\n",
    "            else:\n",
    "                uniqueNum=uniqueNum+1\n",
    "                previousNum=nums[i]\n",
    "                mapping[uniqueNum-1]=nums[i]\n",
    "            i=i+1\n",
    "            \n",
    "                \n",
    "        if uniqueNum!=len(nums):\n",
    "            i=0\n",
    "            while i<uniqueNum:\n",
    "                nums[i]=mapping[i]\n",
    "                i=i+1\n",
    "        \n",
    "        return uniqueNum"
   ]
  }
 ],
 "metadata": {
  "interpreter": {
   "hash": "a245dac45e51386e3067f7bf875d7c30851316ec82b938f00e050e0cf1d2e3a2"
  },
  "kernelspec": {
   "display_name": "Python 3.9.0 64-bit",
   "language": "python",
   "name": "python3"
  },
  "language_info": {
   "codemirror_mode": {
    "name": "ipython",
    "version": 3
   },
   "file_extension": ".py",
   "mimetype": "text/x-python",
   "name": "python",
   "nbconvert_exporter": "python",
   "pygments_lexer": "ipython3",
   "version": "3.9.0"
  },
  "orig_nbformat": 4
 },
 "nbformat": 4,
 "nbformat_minor": 2
}
