{
 "cells": [
  {
   "cell_type": "code",
   "execution_count": 1,
   "metadata": {},
   "outputs": [],
   "source": [
    "# Definition for singly-linked list.\n",
    "# class ListNode(object):\n",
    "#     def __init__(self, val=0, next=None):\n",
    "#         self.val = val\n",
    "#         self.next = next\n",
    "class Solution(object):\n",
    "    def reverseKGroup(self, head, k):\n",
    "        \"\"\"\n",
    "        :type head: ListNode\n",
    "        :type k: int\n",
    "        :rtype: ListNode\n",
    "        \"\"\"\n",
    "        numList=[]\n",
    "        node=head\n",
    "        while node!=None:\n",
    "            numList.append(node.val)\n",
    "            node=node.next\n",
    "            \n",
    "        node=head\n",
    "        idx=0\n",
    "        groupNum=len(numList)//k\n",
    "        while node!=None:\n",
    "            group=idx//k\n",
    "            offset=idx%k\n",
    "            pos=(group+1)*k-offset-1\n",
    "            if idx<=groupNum*k-1 and pos<=len(numList)-1:\n",
    "                node.val=numList[pos]\n",
    "            node=node.next\n",
    "            idx+=1\n",
    "                \n",
    "        return head                \n",
    "                \n",
    "        "
   ]
  }
 ],
 "metadata": {
  "interpreter": {
   "hash": "a245dac45e51386e3067f7bf875d7c30851316ec82b938f00e050e0cf1d2e3a2"
  },
  "kernelspec": {
   "display_name": "Python 3.9.0 64-bit",
   "language": "python",
   "name": "python3"
  },
  "language_info": {
   "codemirror_mode": {
    "name": "ipython",
    "version": 3
   },
   "file_extension": ".py",
   "mimetype": "text/x-python",
   "name": "python",
   "nbconvert_exporter": "python",
   "pygments_lexer": "ipython3",
   "version": "3.9.0"
  },
  "orig_nbformat": 4
 },
 "nbformat": 4,
 "nbformat_minor": 2
}
