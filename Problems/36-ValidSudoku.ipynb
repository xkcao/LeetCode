{
 "cells": [
  {
   "cell_type": "code",
   "execution_count": 1,
   "metadata": {},
   "outputs": [],
   "source": [
    "class Solution(object):\n",
    "    def isValidSudoku(self, board):\n",
    "        \"\"\"\n",
    "        :type board: List[List[str]]\n",
    "        :rtype: bool\n",
    "        \"\"\"\n",
    "        result=True\n",
    "        #validate rows\n",
    "        for row in board:\n",
    "            if result==False:\n",
    "                break\n",
    "            mapping={}\n",
    "            for item in row:\n",
    "                if (item in mapping) and (item != '.'):\n",
    "                    result=False\n",
    "                    break\n",
    "                elif (item in mapping) and (item == '.'):\n",
    "                    mapping[item]+=1\n",
    "                else:\n",
    "                    mapping[item]=1\n",
    "                    \n",
    "        if result==False:\n",
    "            return result\n",
    "       \n",
    "        #validate columns\n",
    "        for j in range(len(board)):\n",
    "            if result==False:\n",
    "                break\n",
    "            mapping={}            \n",
    "            for i in range(len(board)):\n",
    "                item = board[i][j]\n",
    "                if (item in mapping) and (item != '.'):\n",
    "                    result=False\n",
    "                    break\n",
    "                elif (item in mapping) and (item == '.'):\n",
    "                    mapping[item]+=1\n",
    "                else:\n",
    "                    mapping[item]=1\n",
    "                \n",
    "        if result==False:\n",
    "            return result\n",
    "        \n",
    "        #validate small grids\n",
    "        for i in [0,3,6]:\n",
    "            for j in [0,3,6]:\n",
    "                if result==False:\n",
    "                    break\n",
    "                mapping={}\n",
    "                for l in range(i,i+3):\n",
    "                    for m in range(j,j+3):\n",
    "                        item = board[l][m]\n",
    "                        if (item in mapping) and (item != '.'):\n",
    "                            result=False\n",
    "                            break\n",
    "                        elif (item in mapping) and (item == '.'):\n",
    "                            mapping[item]+=1\n",
    "                        else:\n",
    "                            mapping[item]=1   \n",
    "                            \n",
    "        return result"
   ]
  },
  {
   "cell_type": "code",
   "execution_count": 2,
   "metadata": {},
   "outputs": [
    {
     "data": {
      "text/plain": [
       "True"
      ]
     },
     "execution_count": 2,
     "metadata": {},
     "output_type": "execute_result"
    }
   ],
   "source": [
    "board=[[\"5\",\"3\",\".\",\".\",\"7\",\".\",\".\",\".\",\".\"],[\"6\",\".\",\".\",\"1\",\"9\",\"5\",\".\",\".\",\".\"],[\".\",\"9\",\"8\",\".\",\".\",\".\",\".\",\"6\",\".\"],[\"8\",\".\",\".\",\".\",\"6\",\".\",\".\",\".\",\"3\"],[\"4\",\".\",\".\",\"8\",\".\",\"3\",\".\",\".\",\"1\"],[\"7\",\".\",\".\",\".\",\"2\",\".\",\".\",\".\",\"6\"],[\".\",\"6\",\".\",\".\",\".\",\".\",\"2\",\"8\",\".\"],[\".\",\".\",\".\",\"4\",\"1\",\"9\",\".\",\".\",\"5\"],[\".\",\".\",\".\",\".\",\"8\",\".\",\".\",\"7\",\"9\"]]\n",
    "mysol=Solution()\n",
    "mysol.isValidSudoku(board)"
   ]
  }
 ],
 "metadata": {
  "interpreter": {
   "hash": "a245dac45e51386e3067f7bf875d7c30851316ec82b938f00e050e0cf1d2e3a2"
  },
  "kernelspec": {
   "display_name": "Python 3.9.0 64-bit",
   "language": "python",
   "name": "python3"
  },
  "language_info": {
   "codemirror_mode": {
    "name": "ipython",
    "version": 3
   },
   "file_extension": ".py",
   "mimetype": "text/x-python",
   "name": "python",
   "nbconvert_exporter": "python",
   "pygments_lexer": "ipython3",
   "version": "3.9.0"
  },
  "orig_nbformat": 4
 },
 "nbformat": 4,
 "nbformat_minor": 2
}
