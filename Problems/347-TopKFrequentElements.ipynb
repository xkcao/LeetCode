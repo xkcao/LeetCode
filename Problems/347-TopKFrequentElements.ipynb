{
 "cells": [
  {
   "cell_type": "code",
   "execution_count": 2,
   "metadata": {},
   "outputs": [],
   "source": [
    "class Solution(object):\n",
    "    def topKFrequent(self, nums, k):\n",
    "        \"\"\"\n",
    "        :type nums: List[int]\n",
    "        :type k: int\n",
    "        :rtype: List[int]\n",
    "        \"\"\"\n",
    "        ans=[]\n",
    "        dict_count={}\n",
    "        #for each number, get the total count.\n",
    "        #O(n)\n",
    "        for num in nums:\n",
    "            if num in dict_count:\n",
    "                dict_count[num]+=1\n",
    "            else:\n",
    "                dict_count[num]=1\n",
    "                \n",
    "                \n",
    "        heapMax=[]\n",
    "        #build a heap with a tuple of (-count,num)\n",
    "        #O(Log(n))\n",
    "        for key,value in dict_count.items():\n",
    "            heappush(heapMax,(-value,key))\n",
    "            \n",
    "        i=k        \n",
    "        #pop up the first k entries\n",
    "        #O(k)\n",
    "        while i>0:\n",
    "            count,num = heappop(heapMax)\n",
    "            ans.append(num)\n",
    "            i-=1                \n",
    "                    \n",
    "        return ans"
   ]
  }
 ],
 "metadata": {
  "interpreter": {
   "hash": "a245dac45e51386e3067f7bf875d7c30851316ec82b938f00e050e0cf1d2e3a2"
  },
  "kernelspec": {
   "display_name": "Python 3.9.0 64-bit",
   "language": "python",
   "name": "python3"
  },
  "language_info": {
   "codemirror_mode": {
    "name": "ipython",
    "version": 3
   },
   "file_extension": ".py",
   "mimetype": "text/x-python",
   "name": "python",
   "nbconvert_exporter": "python",
   "pygments_lexer": "ipython3",
   "version": "3.9.0"
  },
  "orig_nbformat": 4
 },
 "nbformat": 4,
 "nbformat_minor": 2
}
