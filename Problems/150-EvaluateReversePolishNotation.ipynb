{
 "cells": [
  {
   "cell_type": "code",
   "execution_count": 25,
   "metadata": {},
   "outputs": [],
   "source": [
    "import collections\n",
    "class Solution:\n",
    "    def evalRPN(self, tokens):\n",
    "        def isNumber(item):\n",
    "            return item.isdecimal() or (item[0]=='-' and item[1:].isdecimal())\n",
    "            \n",
    "        stack1=collections.deque()\n",
    "        stack2=collections.deque()\n",
    "        for token in tokens:\n",
    "            stack1.append(token)\n",
    "            \n",
    "        while (len(stack1)>0):\n",
    "            nextItem = stack1.popleft()\n",
    "            if isNumber(nextItem):\n",
    "                value=int(nextItem)\n",
    "                stack2.append(value)\n",
    "            elif nextItem=='+':\n",
    "                num2=stack2.pop()\n",
    "                num1=stack2.pop()\n",
    "                result=num1+num2\n",
    "                stack2.append(result)\n",
    "            elif nextItem=='-':\n",
    "                num2=stack2.pop()\n",
    "                num1=stack2.pop()\n",
    "                result=num1-num2\n",
    "                stack2.append(result)\n",
    "            elif nextItem=='*':\n",
    "                num2=stack2.pop()\n",
    "                num1=stack2.pop()\n",
    "                result=num1*num2\n",
    "                stack2.append(result)\n",
    "            elif nextItem=='/':\n",
    "                num2=stack2.pop()\n",
    "                num1=stack2.pop()                \n",
    "                if num1*num2<0:\n",
    "                    result=-(abs(num1)//abs(num2))\n",
    "                else:\n",
    "                    result=abs(num1)//abs(num2)\n",
    "                stack2.append(result)\n",
    "                \n",
    "        ans=stack2.pop()\n",
    "            \n",
    "        return ans"
   ]
  },
  {
   "cell_type": "code",
   "execution_count": 26,
   "metadata": {},
   "outputs": [
    {
     "data": {
      "text/plain": [
       "22"
      ]
     },
     "execution_count": 26,
     "metadata": {},
     "output_type": "execute_result"
    }
   ],
   "source": [
    "tokens=[\"10\",\"6\",\"9\",\"3\",\"+\",\"-11\",\"*\",\"/\",\"*\",\"17\",\"+\",\"5\",\"+\"]\n",
    "mysol = Solution()\n",
    "mysol.evalRPN(tokens)"
   ]
  }
 ],
 "metadata": {
  "interpreter": {
   "hash": "02f36f923ced5460909a8e78ad0d9c2d23697e0f6cbb99ccac5c6a7ef7bfd943"
  },
  "kernelspec": {
   "display_name": "Python 3.9.0 64-bit",
   "language": "python",
   "name": "python3"
  },
  "language_info": {
   "codemirror_mode": {
    "name": "ipython",
    "version": 3
   },
   "file_extension": ".py",
   "mimetype": "text/x-python",
   "name": "python",
   "nbconvert_exporter": "python",
   "pygments_lexer": "ipython3",
   "version": "3.9.0"
  },
  "orig_nbformat": 4
 },
 "nbformat": 4,
 "nbformat_minor": 2
}
