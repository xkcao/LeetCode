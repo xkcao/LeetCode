{
 "cells": [
  {
   "cell_type": "code",
   "execution_count": 1,
   "metadata": {},
   "outputs": [],
   "source": [
    "# Definition for a binary tree node.\n",
    "# class TreeNode(object):\n",
    "#     def __init__(self, x):\n",
    "#         self.val = x\n",
    "#         self.left = None\n",
    "#         self.right = None\n",
    "\n",
    "class Solution(object):\n",
    "    def lowestCommonAncestor(self, root, p, q):\n",
    "        \"\"\"\n",
    "        :type root: TreeNode\n",
    "        :type p: TreeNode\n",
    "        :type q: TreeNode\n",
    "        :rtype: TreeNode\n",
    "        \"\"\"\n",
    "        ancestorP={}\n",
    "        ancestorQ={}\n",
    "        def isAncestor(root,node,dictionary):\n",
    "            \"\"\"\n",
    "            return true if root is an ancester of node\n",
    "            \"\"\"\n",
    "            ans=False\n",
    "            if root==None:\n",
    "                return False\n",
    "            elif root.val==node.val:\n",
    "                ans=True\n",
    "            else:\n",
    "                ans=isAncestor(root.left,node,dictionary) or isAncestor(root.right,node,dictionary)\n",
    "                                        \n",
    "            if ans:\n",
    "                dictionary[root]=1\n",
    "                    \n",
    "            return ans\n",
    "        \n",
    "        isAncestor(root,p,ancestorP)\n",
    "        isAncestor(root,q,ancestorQ)\n",
    "        \n",
    "        toVisit=collections.deque()\n",
    "        toVisit.append((root,1))\n",
    "        visited={}\n",
    "        maxLevel=-sys.maxsize\n",
    "        ans=None\n",
    "        while len(toVisit)>0:\n",
    "            node,level=toVisit.popleft()\n",
    "            if node in visited:\n",
    "                continue\n",
    "            \n",
    "            visited[node]=1\n",
    "            if node in ancestorP and node in ancestorQ and level>maxLevel:\n",
    "                maxLevel=level\n",
    "                ans=node\n",
    "                \n",
    "            if node.left!=None and (node.left not in visited):\n",
    "                toVisit.append((node.left,level+1))\n",
    "            if node.right!=None and (node.right not in visited):\n",
    "                toVisit.append((node.right,level+1))\n",
    "                \n",
    "        return ans\n",
    "        "
   ]
  }
 ],
 "metadata": {
  "interpreter": {
   "hash": "a245dac45e51386e3067f7bf875d7c30851316ec82b938f00e050e0cf1d2e3a2"
  },
  "kernelspec": {
   "display_name": "Python 3.9.0 64-bit",
   "language": "python",
   "name": "python3"
  },
  "language_info": {
   "codemirror_mode": {
    "name": "ipython",
    "version": 3
   },
   "file_extension": ".py",
   "mimetype": "text/x-python",
   "name": "python",
   "nbconvert_exporter": "python",
   "pygments_lexer": "ipython3",
   "version": "3.9.0"
  },
  "orig_nbformat": 4
 },
 "nbformat": 4,
 "nbformat_minor": 2
}
