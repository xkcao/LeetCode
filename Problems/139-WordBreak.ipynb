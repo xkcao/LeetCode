{
 "cells": [
  {
   "cell_type": "code",
   "execution_count": 7,
   "metadata": {},
   "outputs": [],
   "source": [
    "class Solution(object):\n",
    "    \n",
    "    def wordBreak(self, s, wordDict):\n",
    "        \"\"\"\n",
    "        :type s: str\n",
    "        :type wordDict: List[str]\n",
    "        :rtype: bool\n",
    "        \"\"\"\n",
    "        mapping1={}\n",
    "        mapping2={}\n",
    "        saved={}\n",
    "        for char in s:\n",
    "            if char in mapping1:\n",
    "                mapping1[char]+=1\n",
    "            else:\n",
    "                mapping1[char]=1\n",
    "        for word in wordDict:\n",
    "            for char in word:\n",
    "                if char in mapping2:\n",
    "                    mapping2[char]+=1\n",
    "                else:\n",
    "                    mapping2[char]=1\n",
    "            \n",
    "        def dp(s,wordDict):  \n",
    "            if s in saved:\n",
    "                return saved[s]\n",
    "            \n",
    "            #basecase\n",
    "            for word in wordDict:\n",
    "                if s==word:\n",
    "                    saved[s]=True\n",
    "                    return True   \n",
    "                \n",
    "            for word in wordDict:\n",
    "                if len(s)>=len(word) and s[:len(word)]==word and dp(s[len(word):],wordDict)==True:\n",
    "                    saved[s]=True\n",
    "                    return True\n",
    "                \n",
    "            saved[s]=False\n",
    "            return False\n",
    "        \n",
    "        for key in mapping1.keys():\n",
    "            if key not in mapping2:\n",
    "                return False\n",
    "        \n",
    "        result=dp(s,wordDict)\n",
    "        \n",
    "        return result\n",
    "        "
   ]
  }
 ],
 "metadata": {
  "interpreter": {
   "hash": "a245dac45e51386e3067f7bf875d7c30851316ec82b938f00e050e0cf1d2e3a2"
  },
  "kernelspec": {
   "display_name": "Python 3.9.0 64-bit",
   "language": "python",
   "name": "python3"
  },
  "language_info": {
   "codemirror_mode": {
    "name": "ipython",
    "version": 3
   },
   "file_extension": ".py",
   "mimetype": "text/x-python",
   "name": "python",
   "nbconvert_exporter": "python",
   "pygments_lexer": "ipython3",
   "version": "3.9.0"
  },
  "orig_nbformat": 4
 },
 "nbformat": 4,
 "nbformat_minor": 2
}
