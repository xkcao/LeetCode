{
 "cells": [
  {
   "cell_type": "code",
   "execution_count": 29,
   "metadata": {},
   "outputs": [],
   "source": [
    "class Solution1(object):\n",
    "    def isMatch(self, s, p):\n",
    "        \"\"\"\n",
    "        :type s: str\n",
    "        :type p: str\n",
    "        :rtype: bool\n",
    "        \"\"\"\n",
    "        #special case, s is not empty and p is empty\n",
    "        if len(s)>0 and len(p)==0:\n",
    "            return False\n",
    "        \n",
    "        #special case, s is empty\n",
    "        if len(s)==0 and len(p)==0:\n",
    "            return True\n",
    "        elif len(s)==0 and len(p)>0 and p[0]!='*':\n",
    "            return False\n",
    "        elif len(s)==0 and len(p)>0 and p[0]=='*':\n",
    "            return self.isMatch(s,p[1:])\n",
    "        \n",
    "        \n",
    "        #normal case, s is not empty and p is not empty\n",
    "        if s[0]==p[0] or p[0]=='?':\n",
    "            return self.isMatch(s[1:],p[1:])\n",
    "        elif p[0]!='?' and p[0]!='*' and p[0]!=s[0]:\n",
    "            return False\n",
    "        elif p[0]=='*':\n",
    "            return (self.isMatch(s[1:],p) or self.isMatch(s[1:],p[1:]) or self.isMatch(s,p[1:]))\n",
    "        \n",
    "        \n",
    "        return False\n",
    "        "
   ]
  },
  {
   "cell_type": "code",
   "execution_count": 36,
   "metadata": {},
   "outputs": [],
   "source": [
    "class Solution2(object):\n",
    "    def isMatch(self, s: str, p: str) -> bool:\n",
    "        \n",
    "        def remove_duplicate_stars(p: str) -> str:\n",
    "            new_string = []\n",
    "            for char in p:\n",
    "                if not new_string or char != '*':\n",
    "                    new_string.append(char)\n",
    "                elif new_string[-1] != '*':\n",
    "                    new_string.append(char)\n",
    "            return ''.join(new_string)\n",
    "\n",
    "        def helper(s: str, p: str) -> bool:\n",
    "            if (s, p) in dp:\n",
    "                return dp[(s, p)]\n",
    "            \n",
    "            if p == s or p == '*':\n",
    "                dp[(s, p)] = True\n",
    "            elif p == '' or s == '':\n",
    "                dp[(s, p)] = False\n",
    "            elif p[0] == s[0] or p[0] == '?':\n",
    "                dp[(s, p)] = helper(s[1:], p[1:])\n",
    "            elif p[0] == '*':\n",
    "                dp[(s, p)] = helper(s, p[1:]) or helper(s[1:], p)\n",
    "            else:\n",
    "                dp[(s, p)] = False\n",
    "                \n",
    "            return dp[(s, p)]\n",
    "        \n",
    "        dp = {}\n",
    "        p = remove_duplicate_stars(p)        \n",
    "        return helper(s, p)\n",
    "        "
   ]
  },
  {
   "cell_type": "code",
   "execution_count": 5,
   "metadata": {},
   "outputs": [],
   "source": [
    "class Solution3:\n",
    "    def isMatch(self, s: str, p: str) -> bool:\n",
    "        s_len = len(s)\n",
    "        p_len = len(p)\n",
    "        \n",
    "        # base cases\n",
    "        if p == s or set(p) == {'*'}:\n",
    "            return True\n",
    "        if p == '' or s == '':\n",
    "            return False\n",
    "        \n",
    "        # init all matrix except [0][0] element as False\n",
    "        d = [[False] * (s_len + 1) for _ in range(p_len + 1)]\n",
    "        d[0][0] = True\n",
    "        \n",
    "        # DP compute \n",
    "        for p_idx in range(1, p_len + 1):\n",
    "            # the current character in the pattern is '*'\n",
    "            if p[p_idx - 1] == '*':\n",
    "                s_idx = 1\n",
    "                                        \n",
    "                # d[p_idx - 1][s_idx - 1] is a string-pattern match \n",
    "                # on the previous step, i.e. one character before.\n",
    "                # Find the first idx in string with the previous math.\n",
    "                while not d[p_idx - 1][s_idx - 1] and s_idx < s_len + 1:\n",
    "                    s_idx += 1\n",
    "    \n",
    "                # If (string) matches (pattern), \n",
    "                # when (string) matches (pattern)* as well\n",
    "                d[p_idx][s_idx - 1] = d[p_idx - 1][s_idx - 1]\n",
    "    \n",
    "                # If (string) matches (pattern), \n",
    "                # when (string)(whatever_characters) matches (pattern)* as well\n",
    "                while s_idx < s_len + 1:\n",
    "                    d[p_idx][s_idx] = True\n",
    "                    s_idx += 1\n",
    "                                   \n",
    "            # the current character in the pattern is '?'\n",
    "            elif p[p_idx - 1] == '?':\n",
    "                for s_idx in range(1, s_len + 1): \n",
    "                    d[p_idx][s_idx] = d[p_idx - 1][s_idx - 1] \n",
    "                                   \n",
    "            # the current character in the pattern is not '*' or '?'\n",
    "            else:\n",
    "                for s_idx in range(1, s_len + 1): \n",
    "                    # Match is possible if there is a previous match\n",
    "                    # and current characters are the same\n",
    "                    d[p_idx][s_idx] = d[p_idx - 1][s_idx - 1] and p[p_idx - 1] == s[s_idx - 1]  \n",
    "                                                               \n",
    "        return d[p_len][s_len]"
   ]
  },
  {
   "cell_type": "code",
   "execution_count": 2,
   "metadata": {},
   "outputs": [
    {
     "data": {
      "text/plain": [
       "True"
      ]
     },
     "execution_count": 2,
     "metadata": {},
     "output_type": "execute_result"
    }
   ],
   "source": [
    "s=\"aa\"\n",
    "p=\"*a*\"\n",
    "mysol=Solution3()\n",
    "mysol.isMatch(s,p)"
   ]
  }
 ],
 "metadata": {
  "interpreter": {
   "hash": "a245dac45e51386e3067f7bf875d7c30851316ec82b938f00e050e0cf1d2e3a2"
  },
  "kernelspec": {
   "display_name": "Python 3.9.0 64-bit",
   "language": "python",
   "name": "python3"
  },
  "language_info": {
   "codemirror_mode": {
    "name": "ipython",
    "version": 3
   },
   "file_extension": ".py",
   "mimetype": "text/x-python",
   "name": "python",
   "nbconvert_exporter": "python",
   "pygments_lexer": "ipython3",
   "version": "3.9.0"
  },
  "orig_nbformat": 4
 },
 "nbformat": 4,
 "nbformat_minor": 2
}
