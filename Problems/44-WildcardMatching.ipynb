{
 "cells": [
  {
   "cell_type": "code",
   "execution_count": 29,
   "metadata": {},
   "outputs": [],
   "source": [
    "class Solution1(object):\n",
    "    def isMatch(self, s, p):\n",
    "        \"\"\"\n",
    "        :type s: str\n",
    "        :type p: str\n",
    "        :rtype: bool\n",
    "        \"\"\"\n",
    "        #special case, s is not empty and p is empty\n",
    "        if len(s)>0 and len(p)==0:\n",
    "            return False\n",
    "        \n",
    "        #special case, s is empty\n",
    "        if len(s)==0 and len(p)==0:\n",
    "            return True\n",
    "        elif len(s)==0 and len(p)>0 and p[0]!='*':\n",
    "            return False\n",
    "        elif len(s)==0 and len(p)>0 and p[0]=='*':\n",
    "            return self.isMatch(s,p[1:])\n",
    "        \n",
    "        \n",
    "        #normal case, s is not empty and p is not empty\n",
    "        if s[0]==p[0] or p[0]=='?':\n",
    "            return self.isMatch(s[1:],p[1:])\n",
    "        elif p[0]!='?' and p[0]!='*' and p[0]!=s[0]:\n",
    "            return False\n",
    "        elif p[0]=='*':\n",
    "            return (self.isMatch(s[1:],p) or self.isMatch(s[1:],p[1:]) or self.isMatch(s,p[1:]))\n",
    "        \n",
    "        \n",
    "        return False\n",
    "        "
   ]
  },
  {
   "cell_type": "code",
   "execution_count": 36,
   "metadata": {},
   "outputs": [],
   "source": [
    "class Solution2(object):\n",
    "    def isMatch(self, s: str, p: str) -> bool:\n",
    "        \n",
    "        def remove_duplicate_stars(p: str) -> str:\n",
    "            new_string = []\n",
    "            for char in p:\n",
    "                if not new_string or char != '*':\n",
    "                    new_string.append(char)\n",
    "                elif new_string[-1] != '*':\n",
    "                    new_string.append(char)\n",
    "            return ''.join(new_string)\n",
    "\n",
    "        def helper(s: str, p: str) -> bool:\n",
    "            if (s, p) in dp:\n",
    "                return dp[(s, p)]\n",
    "            \n",
    "            if p == s or p == '*':\n",
    "                dp[(s, p)] = True\n",
    "            elif p == '' or s == '':\n",
    "                dp[(s, p)] = False\n",
    "            elif p[0] == s[0] or p[0] == '?':\n",
    "                dp[(s, p)] = helper(s[1:], p[1:])\n",
    "            elif p[0] == '*':\n",
    "                dp[(s, p)] = helper(s, p[1:]) or helper(s[1:], p)\n",
    "            else:\n",
    "                dp[(s, p)] = False\n",
    "                \n",
    "            return dp[(s, p)]\n",
    "        \n",
    "        dp = {}\n",
    "        p = remove_duplicate_stars(p)        \n",
    "        return helper(s, p)\n",
    "        "
   ]
  },
  {
   "cell_type": "code",
   "execution_count": 35,
   "metadata": {},
   "outputs": [
    {
     "data": {
      "text/plain": [
       "True"
      ]
     },
     "execution_count": 35,
     "metadata": {},
     "output_type": "execute_result"
    }
   ],
   "source": [
    "s=\"aa\"\n",
    "p=\"*a*\"\n",
    "mysol=Solution2()\n",
    "mysol.isMatch(s,p)"
   ]
  }
 ],
 "metadata": {
  "interpreter": {
   "hash": "a245dac45e51386e3067f7bf875d7c30851316ec82b938f00e050e0cf1d2e3a2"
  },
  "kernelspec": {
   "display_name": "Python 3.9.0 64-bit",
   "language": "python",
   "name": "python3"
  },
  "language_info": {
   "codemirror_mode": {
    "name": "ipython",
    "version": 3
   },
   "file_extension": ".py",
   "mimetype": "text/x-python",
   "name": "python",
   "nbconvert_exporter": "python",
   "pygments_lexer": "ipython3",
   "version": "3.9.0"
  },
  "orig_nbformat": 4
 },
 "nbformat": 4,
 "nbformat_minor": 2
}
