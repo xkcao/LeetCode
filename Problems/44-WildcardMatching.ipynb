{
 "cells": [
  {
   "cell_type": "code",
   "execution_count": 24,
   "metadata": {},
   "outputs": [],
   "source": [
    "class Solution(object):\n",
    "    def isMatch(self, s, p):\n",
    "        \"\"\"\n",
    "        :type s: str\n",
    "        :type p: str\n",
    "        :rtype: bool\n",
    "        \"\"\"\n",
    "        #special case, s is not empty and p is empty\n",
    "        if len(s)>0 and len(p)==0:\n",
    "            return False\n",
    "        \n",
    "        #special case, s is empty\n",
    "        if len(s)==0 and len(p)==0:\n",
    "            return True\n",
    "        elif len(s)==0 and len(p)>0 and p[0]!='*':\n",
    "            return False\n",
    "        elif len(s)==0 and len(p)>0 and p[0]=='*':\n",
    "            return self.isMatch(s,p[1:])\n",
    "        \n",
    "        \n",
    "        #normal case, s is not empty and p is not empty\n",
    "        if s[0]==p[0] or p[0]=='?':\n",
    "            return self.isMatch(s[1:],p[1:])\n",
    "        elif p[0]!='?' and p[0]!='*' and p[0]!=s[0]:\n",
    "            return False\n",
    "        elif p[0]=='*':\n",
    "            return (self.isMatch(s[1:],p) or self.isMatch(s[1:],p[1:]) or self.isMatch(s,p[1:]))\n",
    "        \n",
    "        \n",
    "        return False\n",
    "        "
   ]
  },
  {
   "cell_type": "code",
   "execution_count": 22,
   "metadata": {},
   "outputs": [
    {
     "data": {
      "text/plain": [
       "False"
      ]
     },
     "execution_count": 22,
     "metadata": {},
     "output_type": "execute_result"
    }
   ],
   "source": [
    "s=\"aa\"\n",
    "p=\"*a*\"\n",
    "mysol=Solution()\n",
    "mysol.isMatch(s,p)"
   ]
  }
 ],
 "metadata": {
  "interpreter": {
   "hash": "a245dac45e51386e3067f7bf875d7c30851316ec82b938f00e050e0cf1d2e3a2"
  },
  "kernelspec": {
   "display_name": "Python 3.9.0 64-bit",
   "language": "python",
   "name": "python3"
  },
  "language_info": {
   "codemirror_mode": {
    "name": "ipython",
    "version": 3
   },
   "file_extension": ".py",
   "mimetype": "text/x-python",
   "name": "python",
   "nbconvert_exporter": "python",
   "pygments_lexer": "ipython3",
   "version": "3.9.0"
  },
  "orig_nbformat": 4
 },
 "nbformat": 4,
 "nbformat_minor": 2
}
