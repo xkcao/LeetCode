{
 "cells": [
  {
   "cell_type": "code",
   "execution_count": 2,
   "metadata": {},
   "outputs": [],
   "source": [
    "class Solution(object):\n",
    "    def spiralOrder(self, matrix):\n",
    "        \"\"\"\n",
    "        :type matrix: List[List[int]]\n",
    "        :rtype: List[int]\n",
    "        \"\"\"        \n",
    "        m=len(matrix)\n",
    "        n=len(matrix[0])\n",
    "        \n",
    "        visited={}\n",
    "        i=0\n",
    "        j=0\n",
    "        finished=False\n",
    "        ans=[]\n",
    "        directions=[(0,1),(1,0),(0,-1),(-1,0)]\n",
    "        directIdx=0\n",
    "        \n",
    "        def validCell(i,j):\n",
    "            if 0<=i<=m-1 and 0<=j<=n-1 and (i,j) not in visited:\n",
    "                return True\n",
    "            else:\n",
    "                return False\n",
    "        \n",
    "        while (not finished):\n",
    "            ans.append(matrix[i][j])\n",
    "            visited[(i,j)]=1\n",
    "                     \n",
    "            foundDirection=False\n",
    "            for count in range(4):\n",
    "                newI=i+directions[directIdx][0]\n",
    "                newJ=j+directions[directIdx][1]\n",
    "                if validCell(newI,newJ):\n",
    "                    foundDirection=True\n",
    "                    break\n",
    "                else:\n",
    "                    directIdx=(directIdx+1)%4\n",
    "            \n",
    "            if foundDirection:\n",
    "                i=newI\n",
    "                j=newJ\n",
    "            else:\n",
    "               finished=True \n",
    "                        \n",
    "        return ans"
   ]
  }
 ],
 "metadata": {
  "interpreter": {
   "hash": "a245dac45e51386e3067f7bf875d7c30851316ec82b938f00e050e0cf1d2e3a2"
  },
  "kernelspec": {
   "display_name": "Python 3.9.0 64-bit",
   "language": "python",
   "name": "python3"
  },
  "language_info": {
   "codemirror_mode": {
    "name": "ipython",
    "version": 3
   },
   "file_extension": ".py",
   "mimetype": "text/x-python",
   "name": "python",
   "nbconvert_exporter": "python",
   "pygments_lexer": "ipython3",
   "version": "3.9.0"
  },
  "orig_nbformat": 4
 },
 "nbformat": 4,
 "nbformat_minor": 2
}
