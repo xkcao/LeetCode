{
 "cells": [
  {
   "cell_type": "code",
   "execution_count": 12,
   "metadata": {},
   "outputs": [],
   "source": [
    "class Solution(object):\n",
    "    def reverse(self, x):\n",
    "        \"\"\"\n",
    "        :type x: int\n",
    "        :rtype: int\n",
    "        \"\"\"\n",
    "        #check and store if the number if positive or negative\n",
    "        positive_num=1\n",
    "        abs_x = x\n",
    "        if (x<0):\n",
    "            positive_num=0\n",
    "            abs_x = -x\n",
    "\n",
    "        #calculate and store each digit in a list in reverse order                \n",
    "        reverse_list = []\n",
    "        remaining=abs_x\n",
    "        while (remaining>=10):\n",
    "            last_num = remaining%10\n",
    "            remaining = remaining//10\n",
    "            reverse_list.append(last_num)\n",
    "            \n",
    "        reverse_list.append(remaining)\n",
    "        \n",
    "        #construct the reverse number\n",
    "        result=0\n",
    "        for i in range(len(reverse_list)):\n",
    "            result = result + reverse_list[i]*(10**(len(reverse_list)-i-1))\n",
    "        \n",
    "        #if the original number if negative, then the reverse number is also negative\n",
    "        if positive_num==0:\n",
    "            result = 0-result\n",
    "        \n",
    "        #set to 0 if the obtained reverse number goes outside the signed 32-bit integer range\n",
    "        if (result > 2**31-1 or result < -2**31):\n",
    "            result = 0\n",
    "            \n",
    "        return result\n",
    "            "
   ]
  },
  {
   "cell_type": "code",
   "execution_count": 13,
   "metadata": {},
   "outputs": [
    {
     "name": "stdout",
     "output_type": "stream",
     "text": [
      "231\n",
      "0\n"
     ]
    }
   ],
   "source": [
    "sol = Solution()\n",
    "print(sol.reverse(132))\n",
    "print(sol.reverse(12345678999))"
   ]
  }
 ],
 "metadata": {
  "interpreter": {
   "hash": "a245dac45e51386e3067f7bf875d7c30851316ec82b938f00e050e0cf1d2e3a2"
  },
  "kernelspec": {
   "display_name": "Python 3.9.0 64-bit",
   "language": "python",
   "name": "python3"
  },
  "language_info": {
   "codemirror_mode": {
    "name": "ipython",
    "version": 3
   },
   "file_extension": ".py",
   "mimetype": "text/x-python",
   "name": "python",
   "nbconvert_exporter": "python",
   "pygments_lexer": "ipython3",
   "version": "3.9.0"
  },
  "orig_nbformat": 4
 },
 "nbformat": 4,
 "nbformat_minor": 2
}
