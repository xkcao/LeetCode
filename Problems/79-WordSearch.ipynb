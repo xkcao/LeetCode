{
 "cells": [
  {
   "cell_type": "code",
   "execution_count": 13,
   "metadata": {},
   "outputs": [],
   "source": [
    "class Solution(object):\n",
    "    def exist(self, board, word):\n",
    "        \"\"\"\n",
    "        :type board: List[List[str]]\n",
    "        :type word: str\n",
    "        :rtype: bool\n",
    "        \"\"\"\n",
    "        \n",
    "        m=len(board)\n",
    "        n=len(board[0])\n",
    "        \n",
    "        def bt(i,j,word):\n",
    "            result=False\n",
    "            \n",
    "            #save current letter and mark it as visited\n",
    "            letter=board[i][j]\n",
    "            board[i][j]=0\n",
    "            \n",
    "            #base case\n",
    "            if letter!=word[0]:\n",
    "                result= False\n",
    "            elif len(word)==1:\n",
    "                result= True\n",
    "            else:\n",
    "                #there are multiple letters in word, continue explore neighbor cells\n",
    "                if (i+1)<m and bt(i+1,j,word[1:]):\n",
    "                    result= True\n",
    "                if result==False and (j+1)<n and bt(i,j+1,word[1:]):\n",
    "                    result=True\n",
    "                if result==False and (i-1)>=0 and bt(i-1,j,word[1:]):\n",
    "                    result=True\n",
    "                if result==False and (j-1)>=0 and bt(i,j-1,word[1:]):\n",
    "                    result=True\n",
    "            \n",
    "            #restore board\n",
    "            board[i][j]=letter\n",
    "            \n",
    "            return result\n",
    "        \n",
    "        #start with each cell and call backtracking algorithm. Stops as soon as we find one\n",
    "        ans=False\n",
    "        for i in range(m):\n",
    "            for j in range(n):\n",
    "                if bt(i,j,word):\n",
    "                    ans=True\n",
    "                    break\n",
    "        return ans"
   ]
  },
  {
   "cell_type": "code",
   "execution_count": 14,
   "metadata": {},
   "outputs": [
    {
     "data": {
      "text/plain": [
       "True"
      ]
     },
     "execution_count": 14,
     "metadata": {},
     "output_type": "execute_result"
    }
   ],
   "source": [
    "board=[[\"A\",\"B\",\"C\",\"E\"],[\"S\",\"F\",\"C\",\"S\"],[\"A\",\"D\",\"E\",\"E\"]]\n",
    "word=\"ABCCED\"\n",
    "mysol=Solution()\n",
    "mysol.exist(board,word)"
   ]
  },
  {
   "cell_type": "code",
   "execution_count": null,
   "metadata": {},
   "outputs": [],
   "source": [
    "class Solution(object):\n",
    "    def exist(self, board, word):\n",
    "        \"\"\"\n",
    "        :type board: List[List[str]]\n",
    "        :type word: str\n",
    "        :rtype: bool\n",
    "        \"\"\"\n",
    "        self.ROWS = len(board)\n",
    "        self.COLS = len(board[0])\n",
    "        self.board = board\n",
    "\n",
    "        for row in range(self.ROWS):\n",
    "            for col in range(self.COLS):\n",
    "                if self.backtrack(row, col, word):\n",
    "                    return True\n",
    "\n",
    "        # no match found after all exploration\n",
    "        return False\n",
    "\n",
    "\n",
    "    def backtrack(self, row, col, suffix):\n",
    "        # bottom case: we find match for each letter in the word\n",
    "        if len(suffix) == 0:\n",
    "            return True\n",
    "\n",
    "        # Check the current status, before jumping into backtracking\n",
    "        if row < 0 or row == self.ROWS or col < 0 or col == self.COLS \\\n",
    "                or self.board[row][col] != suffix[0]:\n",
    "            return False\n",
    "\n",
    "        ret = False\n",
    "        # mark the choice before exploring further.\n",
    "        self.board[row][col] = '#'\n",
    "        # explore the 4 neighbor directions\n",
    "        for rowOffset, colOffset in [(0, 1), (1, 0), (0, -1), (-1, 0)]:\n",
    "            ret = self.backtrack(row + rowOffset, col + colOffset, suffix[1:])\n",
    "            # break instead of return directly to do some cleanup afterwards\n",
    "            if ret: break\n",
    "\n",
    "        # revert the change, a clean slate and no side-effect\n",
    "        self.board[row][col] = suffix[0]\n",
    "\n",
    "        # Tried all directions, and did not find any match\n",
    "        return ret\n"
   ]
  }
 ],
 "metadata": {
  "interpreter": {
   "hash": "a245dac45e51386e3067f7bf875d7c30851316ec82b938f00e050e0cf1d2e3a2"
  },
  "kernelspec": {
   "display_name": "Python 3.9.0 64-bit",
   "language": "python",
   "name": "python3"
  },
  "language_info": {
   "codemirror_mode": {
    "name": "ipython",
    "version": 3
   },
   "file_extension": ".py",
   "mimetype": "text/x-python",
   "name": "python",
   "nbconvert_exporter": "python",
   "pygments_lexer": "ipython3",
   "version": "3.9.0"
  },
  "orig_nbformat": 4
 },
 "nbformat": 4,
 "nbformat_minor": 2
}
