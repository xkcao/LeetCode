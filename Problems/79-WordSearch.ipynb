{
 "cells": [
  {
   "cell_type": "code",
   "execution_count": 13,
   "metadata": {},
   "outputs": [],
   "source": [
    "class Solution(object):\n",
    "    def exist(self, board, word):\n",
    "        \"\"\"\n",
    "        :type board: List[List[str]]\n",
    "        :type word: str\n",
    "        :rtype: bool\n",
    "        \"\"\"\n",
    "        \n",
    "        m=len(board)\n",
    "        n=len(board[0])\n",
    "        \n",
    "        def bt(i,j,word):\n",
    "            result=False\n",
    "            \n",
    "            #save current letter and mark it as visited\n",
    "            letter=board[i][j]\n",
    "            board[i][j]=0\n",
    "            \n",
    "            #base case\n",
    "            if letter!=word[0]:\n",
    "                result= False\n",
    "            elif len(word)==1:\n",
    "                result= True\n",
    "            else:\n",
    "                #there are multiple letters in word, continue explore neighbor cells\n",
    "                if (i+1)<m and bt(i+1,j,word[1:]):\n",
    "                    result= True\n",
    "                if result==False and (j+1)<n and bt(i,j+1,word[1:]):\n",
    "                    result=True\n",
    "                if result==False and (i-1)>=0 and bt(i-1,j,word[1:]):\n",
    "                    result=True\n",
    "                if result==False and (j-1)>=0 and bt(i,j-1,word[1:]):\n",
    "                    result=True\n",
    "            \n",
    "            #restore board\n",
    "            board[i][j]=letter\n",
    "            \n",
    "            return result\n",
    "        \n",
    "        #start with each cell and call backtracking algorithm. Stops as soon as we find one\n",
    "        ans=False\n",
    "        for i in range(m):\n",
    "            for j in range(n):\n",
    "                if bt(i,j,word):\n",
    "                    ans=True\n",
    "                    break\n",
    "        return ans"
   ]
  },
  {
   "cell_type": "code",
   "execution_count": 14,
   "metadata": {},
   "outputs": [
    {
     "data": {
      "text/plain": [
       "True"
      ]
     },
     "execution_count": 14,
     "metadata": {},
     "output_type": "execute_result"
    }
   ],
   "source": [
    "board=[[\"A\",\"B\",\"C\",\"E\"],[\"S\",\"F\",\"C\",\"S\"],[\"A\",\"D\",\"E\",\"E\"]]\n",
    "word=\"ABCCED\"\n",
    "mysol=Solution()\n",
    "mysol.exist(board,word)"
   ]
  },
  {
   "cell_type": "code",
   "execution_count": null,
   "metadata": {},
   "outputs": [],
   "source": [
    "class Solution(object):\n",
    "    def exist(self, board, word):\n",
    "        \"\"\"\n",
    "        :type board: List[List[str]]\n",
    "        :type word: str\n",
    "        :rtype: bool\n",
    "        \"\"\"\n",
    "        self.ROWS = len(board)\n",
    "        self.COLS = len(board[0])\n",
    "        self.board = board\n",
    "\n",
    "        for row in range(self.ROWS):\n",
    "            for col in range(self.COLS):\n",
    "                if self.backtrack(row, col, word):\n",
    "                    return True\n",
    "\n",
    "        # no match found after all exploration\n",
    "        return False\n",
    "\n",
    "\n",
    "    def backtrack(self, row, col, suffix):\n",
    "        # bottom case: we find match for each letter in the word\n",
    "        if len(suffix) == 0:\n",
    "            return True\n",
    "\n",
    "        # Check the current status, before jumping into backtracking\n",
    "        if row < 0 or row == self.ROWS or col < 0 or col == self.COLS \\\n",
    "                or self.board[row][col] != suffix[0]:\n",
    "            return False\n",
    "\n",
    "        ret = False\n",
    "        # mark the choice before exploring further.\n",
    "        self.board[row][col] = '#'\n",
    "        # explore the 4 neighbor directions\n",
    "        for rowOffset, colOffset in [(0, 1), (1, 0), (0, -1), (-1, 0)]:\n",
    "            ret = self.backtrack(row + rowOffset, col + colOffset, suffix[1:])\n",
    "            # break instead of return directly to do some cleanup afterwards\n",
    "            if ret: break\n",
    "\n",
    "        # revert the change, a clean slate and no side-effect\n",
    "        self.board[row][col] = suffix[0]\n",
    "\n",
    "        # Tried all directions, and did not find any match\n",
    "        return ret\n"
   ]
  },
  {
   "cell_type": "code",
   "execution_count": 7,
   "metadata": {},
   "outputs": [],
   "source": [
    "import collections\n",
    "class Solution(object):\n",
    "    def backTracking(self,board,position,remainingWord,visited):\n",
    "        #position is not in visited\n",
    "        \n",
    "        # invalid position\n",
    "        if position[0]<0 or position[0]>self.m-1 or position[1]<0 or position[1]>self.n-1:\n",
    "            return False\n",
    "        \n",
    "        # current position does not match the first letter\n",
    "        if board[position[0]][position[1]]!=remainingWord[0]:\n",
    "            return False\n",
    "        \n",
    "        # last letter and it matches\n",
    "        if len(remainingWord)==1:\n",
    "            return True\n",
    "        \n",
    "        positionChanges=[(0,1),(1,0),(-1,0),(0,-1)]\n",
    "        for change in positionChanges:\n",
    "            newPosition=(position[0]+change[0],position[1]+change[1])\n",
    "            newRemainingWord=remainingWord[1:]\n",
    "            if newPosition not in visited:\n",
    "                newVisited=visited.copy()\n",
    "                newVisited[position]=1\n",
    "                if self.backTracking(board,newPosition,newRemainingWord,newVisited):\n",
    "                    return True            \n",
    "            \n",
    "        return False        \n",
    "        \n",
    "        \n",
    "    \n",
    "    def exist(self, board, word):\n",
    "        \"\"\"\n",
    "        :type board: List[List[str]]\n",
    "        :type word: str\n",
    "        :rtype: bool\n",
    "        \"\"\"\n",
    "        self.m = len(board)\n",
    "        self.n = len(board[0])\n",
    "        \n",
    "        for i in range(self.m):\n",
    "            for j in range(self.n):\n",
    "                position=(i,j)\n",
    "                visited=collections.OrderedDict()\n",
    "                \n",
    "                if board[i][j]==word[0] and self.backTracking(board,position,word,visited):\n",
    "                    return True\n",
    "        \n",
    "        return False\n",
    "                        \n",
    "        \n",
    "                        \n",
    "                        "
   ]
  },
  {
   "cell_type": "code",
   "execution_count": 8,
   "metadata": {},
   "outputs": [
    {
     "data": {
      "text/plain": [
       "True"
      ]
     },
     "execution_count": 8,
     "metadata": {},
     "output_type": "execute_result"
    }
   ],
   "source": [
    "mySol=Solution()\n",
    "board=[[\"A\",\"B\",\"C\",\"E\"],[\"S\",\"F\",\"E\",\"S\"],[\"A\",\"D\",\"E\",\"E\"]]\n",
    "word=\"ABCESEEEFS\"\n",
    "mySol.exist(board,word)"
   ]
  }
 ],
 "metadata": {
  "kernelspec": {
   "display_name": "Python 3.9.0 64-bit",
   "language": "python",
   "name": "python3"
  },
  "language_info": {
   "codemirror_mode": {
    "name": "ipython",
    "version": 3
   },
   "file_extension": ".py",
   "mimetype": "text/x-python",
   "name": "python",
   "nbconvert_exporter": "python",
   "pygments_lexer": "ipython3",
   "version": "3.9.0"
  },
  "orig_nbformat": 4,
  "vscode": {
   "interpreter": {
    "hash": "02f36f923ced5460909a8e78ad0d9c2d23697e0f6cbb99ccac5c6a7ef7bfd943"
   }
  }
 },
 "nbformat": 4,
 "nbformat_minor": 2
}
