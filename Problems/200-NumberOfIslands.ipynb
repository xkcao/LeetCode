{
 "cells": [
  {
   "cell_type": "code",
   "execution_count": 1,
   "metadata": {},
   "outputs": [],
   "source": [
    "class Solution(object):\n",
    "    def numIslands(self, grid):\n",
    "        \"\"\"\n",
    "        :type grid: List[List[str]]\n",
    "        :rtype: int\n",
    "        \"\"\"\n",
    "        \n",
    "        visited={}\n",
    "        m=len(grid)\n",
    "        n=len(grid[0])\n",
    "        islandNum=0\n",
    "        \n",
    "        #breadth first search\n",
    "        def bfs(i,j):\n",
    "            directions=[(1,0),(-1,0),(0,1),(0,-1)]\n",
    "            for direction in directions:\n",
    "                newI=i+direction[0]\n",
    "                newJ=j+direction[1]\n",
    "                if newI>=0 and newI<=m-1 and newJ>=0 and newJ<=n-1 and grid[newI][newJ]=='1' and (newI,newJ) not in visited:\n",
    "                    visited[(newI,newJ)]=1\n",
    "                    bfs(newI,newJ)        \n",
    "        \n",
    "        #scan throuh the grid and increase the island number\n",
    "        #every time we encounter an unvisited '1'\n",
    "        for i in range(m):\n",
    "            for j in range(n):\n",
    "                currentCell=grid[i][j]\n",
    "                if currentCell=='1' and (i,j) not in visited:\n",
    "                    islandNum+=1\n",
    "                    visited[(i,j)]=1\n",
    "                    bfs(i,j)\n",
    "                    \n",
    "                    \n",
    "        return islandNum"
   ]
  }
 ],
 "metadata": {
  "interpreter": {
   "hash": "a245dac45e51386e3067f7bf875d7c30851316ec82b938f00e050e0cf1d2e3a2"
  },
  "kernelspec": {
   "display_name": "Python 3.9.0 64-bit",
   "language": "python",
   "name": "python3"
  },
  "language_info": {
   "codemirror_mode": {
    "name": "ipython",
    "version": 3
   },
   "file_extension": ".py",
   "mimetype": "text/x-python",
   "name": "python",
   "nbconvert_exporter": "python",
   "pygments_lexer": "ipython3",
   "version": "3.9.0"
  },
  "orig_nbformat": 4
 },
 "nbformat": 4,
 "nbformat_minor": 2
}
