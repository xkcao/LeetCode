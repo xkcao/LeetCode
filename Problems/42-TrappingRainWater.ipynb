{
 "cells": [
  {
   "cell_type": "code",
   "execution_count": 7,
   "metadata": {},
   "outputs": [],
   "source": [
    "class Solution(object):\n",
    "    def trap(self, height):\n",
    "        \"\"\"\n",
    "        :type height: List[int]\n",
    "        :rtype: int\n",
    "        \"\"\"\n",
    "        maxHeight=max(height)\n",
    "        if maxHeight==0:\n",
    "            return 0\n",
    "        \n",
    "        \n",
    "        leftMaxHeightMapping={}\n",
    "        rightMaxheightMapping={}\n",
    "        \n",
    "        maxIndex=0\n",
    "        for i in range(len(height)):\n",
    "            if i==0 or height[i]>height[maxIndex]:\n",
    "                maxIndex=i\n",
    "            leftMaxHeightMapping[i]=maxIndex\n",
    "        \n",
    "        maxIndex=len(height)-1\n",
    "        for i in reversed(range(len(height))):\n",
    "            if i==len(height)-1 or height[i]>height[maxIndex]:\n",
    "                maxIndex=i\n",
    "            rightMaxheightMapping[i]=maxIndex\n",
    "        \n",
    "        indexMaxHeight=height.index(maxHeight)\n",
    "        leftBegin=indexMaxHeight\n",
    "        rightBegin=indexMaxHeight\n",
    "        \n",
    "        result=0\n",
    "        while (leftBegin>0):\n",
    "            maxLeftIndex=leftMaxHeightMapping[leftBegin-1]\n",
    "            maxLeftHeight=height[maxLeftIndex]\n",
    "            \n",
    "            for i in range(maxLeftIndex,leftBegin):\n",
    "                result+=maxLeftHeight-height[i]\n",
    "            \n",
    "            leftBegin=maxLeftIndex\n",
    "            \n",
    "        while (rightBegin<len(height)-1):\n",
    "            maxRightIndex=rightMaxheightMapping[rightBegin+1]\n",
    "            maxRightHeight=height[maxRightIndex]\n",
    "            \n",
    "            for i in range(rightBegin+1,maxRightIndex+1):\n",
    "                result+=maxRightHeight-height[i]\n",
    "            \n",
    "            rightBegin=maxRightIndex\n",
    "            \n",
    "        return result"
   ]
  },
  {
   "cell_type": "code",
   "execution_count": 14,
   "metadata": {},
   "outputs": [],
   "source": [
    "class Solution(object):\n",
    "    def trap(self, height):\n",
    "        \"\"\"\n",
    "        :type height: List[int]\n",
    "        :rtype: int\n",
    "        \"\"\"                \n",
    "        length=len(height)\n",
    "        \n",
    "        #empty list, return 0\n",
    "        if length==0:\n",
    "            return 0\n",
    "        \n",
    "        #leftMax[i] is the maximum height from first element to element i\n",
    "        #rightMax[i] is the maximum height from element i to last element\n",
    "        leftMax={0:height[0]}\n",
    "        rightMax={length-1:height[length-1]}\n",
    "        \n",
    "        #calculate all leftMax\n",
    "        for i in range(1,length):\n",
    "            leftMax[i]=max(leftMax[i-1],height[i])\n",
    "            \n",
    "        #calcualte all rightMax\n",
    "        for i in reversed(range(length-1)):\n",
    "            rightMax[i]=max(rightMax[i+1],height[i])\n",
    "            \n",
    "        #loop through all element and add to the result\n",
    "        result=0\n",
    "        for i in range(length):\n",
    "            result+=min(leftMax[i],rightMax[i])-height[i]\n",
    "        \n",
    "        return result"
   ]
  },
  {
   "cell_type": "code",
   "execution_count": 15,
   "metadata": {},
   "outputs": [
    {
     "data": {
      "text/plain": [
       "6"
      ]
     },
     "execution_count": 15,
     "metadata": {},
     "output_type": "execute_result"
    }
   ],
   "source": [
    "mysol = Solution()\n",
    "height=[0,1,0,2,1,0,1,3,2,1,2,1]\n",
    "mysol.trap(height)"
   ]
  }
 ],
 "metadata": {
  "interpreter": {
   "hash": "a245dac45e51386e3067f7bf875d7c30851316ec82b938f00e050e0cf1d2e3a2"
  },
  "kernelspec": {
   "display_name": "Python 3.9.0 64-bit",
   "language": "python",
   "name": "python3"
  },
  "language_info": {
   "codemirror_mode": {
    "name": "ipython",
    "version": 3
   },
   "file_extension": ".py",
   "mimetype": "text/x-python",
   "name": "python",
   "nbconvert_exporter": "python",
   "pygments_lexer": "ipython3",
   "version": "3.9.0"
  },
  "orig_nbformat": 4
 },
 "nbformat": 4,
 "nbformat_minor": 2
}
