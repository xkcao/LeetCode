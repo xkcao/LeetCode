{
 "cells": [
  {
   "cell_type": "code",
   "execution_count": 28,
   "metadata": {},
   "outputs": [],
   "source": [
    "# Definition for singly-linked list.\n",
    "class ListNode(object):\n",
    "    def __init__(self, val=0, next=None):\n",
    "        self.val = val\n",
    "        self.next = next\n",
    "class Solution(object):\n",
    "    def listToNumber(self, l):\n",
    "        \"\"\"\n",
    "        take a listNode and return a number\n",
    "        \"\"\"\n",
    "        num=0\n",
    "        i=0\n",
    "        node = l\n",
    "        while node!=None:\n",
    "            num+=node.val*(10**i)\n",
    "            i+=1\n",
    "            node=node.next\n",
    "        return num\n",
    "\n",
    "    def numberToList(self,num):\n",
    "        \"\"\"\n",
    "        take a number and return a listNode\n",
    "        \"\"\"\n",
    "        newNum = num\n",
    "        l = []\n",
    "        while (newNum>=10):\n",
    "            remaining = newNum%10\n",
    "            l.append(remaining)\n",
    "            newNum = newNum//10\n",
    "        l.append(newNum)\n",
    "\n",
    "        nextNode = None\n",
    "        for i in range(len(l)):\n",
    "            j=len(l)-i-1\n",
    "            node = ListNode(l[j],nextNode)\n",
    "            nextNode = node\n",
    "\n",
    "        return node            \n",
    "    \n",
    "    def addTwoNumbers(self, l1, l2):\n",
    "        \"\"\"\n",
    "        :type l1: ListNode\n",
    "        :type l2: ListNode\n",
    "        :rtype: ListNode\n",
    "        \"\"\"\n",
    "        return self.numberToList(self.listToNumber(l1)+self.listToNumber(l2))"
   ]
  },
  {
   "cell_type": "code",
   "execution_count": 29,
   "metadata": {},
   "outputs": [
    {
     "name": "stdout",
     "output_type": "stream",
     "text": [
      "342\n",
      "465\n",
      "7 0 8\n"
     ]
    }
   ],
   "source": [
    "a3 = ListNode(3,None)\n",
    "a2  = ListNode(4,a3)\n",
    "a1 = ListNode(2,a2)\n",
    "\n",
    "b3 = ListNode(4,None)\n",
    "b2 = ListNode(6,b3)\n",
    "b1 = ListNode(5,b2)\n",
    "\n",
    "l1 = a1\n",
    "l2= b1\n",
    "\n",
    "sol = Solution()\n",
    "print(sol.listToNumber(l1))\n",
    "print(sol.listToNumber(l2))\n",
    "\n",
    "print(sol.addTwoNumbers(l1,l2).val,sol.addTwoNumbers(l1,l2).next.val,sol.addTwoNumbers(l1,l2).next.next.val)"
   ]
  }
 ],
 "metadata": {
  "interpreter": {
   "hash": "a245dac45e51386e3067f7bf875d7c30851316ec82b938f00e050e0cf1d2e3a2"
  },
  "kernelspec": {
   "display_name": "Python 3.9.0 64-bit",
   "language": "python",
   "name": "python3"
  },
  "language_info": {
   "codemirror_mode": {
    "name": "ipython",
    "version": 3
   },
   "file_extension": ".py",
   "mimetype": "text/x-python",
   "name": "python",
   "nbconvert_exporter": "python",
   "pygments_lexer": "ipython3",
   "version": "3.9.0"
  },
  "orig_nbformat": 4
 },
 "nbformat": 4,
 "nbformat_minor": 2
}
