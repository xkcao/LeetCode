{
 "cells": [
  {
   "cell_type": "code",
   "execution_count": 19,
   "metadata": {},
   "outputs": [],
   "source": [
    "class Solution:\n",
    "    def wordBreak(self, s: str, wordDict):\n",
    "        minWordLength=sys.maxsize\n",
    "        wordHT={}\n",
    "        for word in wordDict:\n",
    "            if len(word)<minWordLength:\n",
    "                minWordLength=len(word)\n",
    "            wordHT[word]=1\n",
    "            \n",
    "        def dp(subS):\n",
    "            #if subS's length is less or equal to the minimum word length\n",
    "            if len(subS)<=minWordLength:\n",
    "                if subS in wordHT:\n",
    "                    return [[subS]]\n",
    "                else:\n",
    "                    return []\n",
    "                \n",
    "            #if subS's length is greater than the minimum word length\n",
    "            ans=[]\n",
    "            for i in range(minWordLength-1,len(subS)):\n",
    "                prefix=subS[:i+1]\n",
    "                if prefix in wordHT:\n",
    "                    remainingStr=subS[i+1:]\n",
    "                    if len(remainingStr)==0:\n",
    "                        ans.append([prefix])\n",
    "                    else:\n",
    "                        remainingList=dp(subS[i+1:])\n",
    "                        if len(remainingList)!=0:\n",
    "                            #the remaining string sub[i+1:] can be successfully broken into words in dictionary\n",
    "                            for oneList in remainingList:\n",
    "                                ans.append([prefix]+oneList)\n",
    "            \n",
    "            return ans\n",
    "        \n",
    "        output=[]\n",
    "        sentenceList=dp(s)\n",
    "        for oneList in sentenceList:\n",
    "            item=oneList[0]\n",
    "            for i in range(1,len(oneList)):\n",
    "                item+=\" \"\n",
    "                item+=oneList[i]\n",
    "            output.append(item)\n",
    "            \n",
    "        return output"
   ]
  },
  {
   "cell_type": "code",
   "execution_count": 20,
   "metadata": {},
   "outputs": [
    {
     "data": {
      "text/plain": [
       "['a a a', 'a aa', 'aa a', 'aaa']"
      ]
     },
     "execution_count": 20,
     "metadata": {},
     "output_type": "execute_result"
    }
   ],
   "source": [
    "s=\"aaa\"\n",
    "wordDict=[\"aaa\",\"aa\",\"a\"]\n",
    "mysol = Solution()\n",
    "mysol.wordBreak(s,wordDict)"
   ]
  }
 ],
 "metadata": {
  "interpreter": {
   "hash": "02f36f923ced5460909a8e78ad0d9c2d23697e0f6cbb99ccac5c6a7ef7bfd943"
  },
  "kernelspec": {
   "display_name": "Python 3.9.0 64-bit",
   "language": "python",
   "name": "python3"
  },
  "language_info": {
   "codemirror_mode": {
    "name": "ipython",
    "version": 3
   },
   "file_extension": ".py",
   "mimetype": "text/x-python",
   "name": "python",
   "nbconvert_exporter": "python",
   "pygments_lexer": "ipython3",
   "version": "3.9.0"
  },
  "orig_nbformat": 4
 },
 "nbformat": 4,
 "nbformat_minor": 2
}
