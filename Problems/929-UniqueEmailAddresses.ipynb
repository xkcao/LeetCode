{
 "cells": [
  {
   "cell_type": "code",
   "execution_count": 1,
   "metadata": {},
   "outputs": [],
   "source": [
    "class Solution(object):\n",
    "    def convertEmail(self, email):\n",
    "        \"\"\"\n",
    "        take an email address and convert it to the simplified version (remove ., + in localname)\n",
    "        :type email: str\n",
    "        :rtype: str\n",
    "        \"\"\"\n",
    "        str=''\n",
    "        foundPlus=False\n",
    "        localName=True\n",
    "        for c in email:            \n",
    "            if localName:\n",
    "                if c!='.' and c!='+' and c!='@' and not foundPlus:\n",
    "                    str+=c\n",
    "                elif c=='@':\n",
    "                    localName=False\n",
    "                    str+='@'\n",
    "                elif c=='+':\n",
    "                    foundPlus=True\n",
    "            else:\n",
    "                str+=c\n",
    "        \n",
    "        return str\n",
    "        \n",
    "    def numUniqueEmails(self, emails):\n",
    "        \"\"\"\n",
    "        :type emails: List[str]\n",
    "        :rtype: int\n",
    "        \"\"\"\n",
    "        \n",
    "        uniqueEmails = set()\n",
    "        #for each email in emails\n",
    "        for email in emails:            \n",
    "            #convert the email to the simplified version\n",
    "            simplifiedEmail = self.convertEmail(email)\n",
    "            #add the simplified email to a set\n",
    "            uniqueEmails.add(simplifiedEmail)\n",
    "            \n",
    "        #return the length of the set\n",
    "        return len(uniqueEmails)\n",
    "        \n",
    "    \n",
    "        "
   ]
  }
 ],
 "metadata": {
  "kernelspec": {
   "display_name": "Python 3.9.0 64-bit",
   "language": "python",
   "name": "python3"
  },
  "language_info": {
   "codemirror_mode": {
    "name": "ipython",
    "version": 3
   },
   "file_extension": ".py",
   "mimetype": "text/x-python",
   "name": "python",
   "nbconvert_exporter": "python",
   "pygments_lexer": "ipython3",
   "version": "3.9.0"
  },
  "orig_nbformat": 4,
  "vscode": {
   "interpreter": {
    "hash": "02f36f923ced5460909a8e78ad0d9c2d23697e0f6cbb99ccac5c6a7ef7bfd943"
   }
  }
 },
 "nbformat": 4,
 "nbformat_minor": 2
}
