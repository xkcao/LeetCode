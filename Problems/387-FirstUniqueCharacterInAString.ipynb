{
 "cells": [
  {
   "cell_type": "code",
   "execution_count": 2,
   "metadata": {},
   "outputs": [],
   "source": [
    "class Solution(object):\n",
    "    def firstUniqChar(self, s):\n",
    "        \"\"\"\n",
    "        :type s: str\n",
    "        :rtype: int\n",
    "        \"\"\"\n",
    "        #build a dictionary with key=letter and value=[firstIdx,count]\n",
    "        mapping={}\n",
    "        for i in range(len(s)):\n",
    "            if s[i] in mapping:\n",
    "                mapping[s[i]][1]+=1\n",
    "            else:\n",
    "                mapping[s[i]]=[i,1]\n",
    "        \n",
    "        #loop through s\n",
    "        for char in s:\n",
    "            if mapping[char][1]==1:\n",
    "                return mapping[char][0]\n",
    "        \n",
    "        #return -1 if not exist\n",
    "        return -1\n",
    "        "
   ]
  }
 ],
 "metadata": {
  "interpreter": {
   "hash": "a245dac45e51386e3067f7bf875d7c30851316ec82b938f00e050e0cf1d2e3a2"
  },
  "kernelspec": {
   "display_name": "Python 3.9.0 64-bit",
   "language": "python",
   "name": "python3"
  },
  "language_info": {
   "codemirror_mode": {
    "name": "ipython",
    "version": 3
   },
   "file_extension": ".py",
   "mimetype": "text/x-python",
   "name": "python",
   "nbconvert_exporter": "python",
   "pygments_lexer": "ipython3",
   "version": "3.9.0"
  },
  "orig_nbformat": 4
 },
 "nbformat": 4,
 "nbformat_minor": 2
}
