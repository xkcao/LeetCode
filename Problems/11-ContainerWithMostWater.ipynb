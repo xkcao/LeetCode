{
 "cells": [
  {
   "cell_type": "code",
   "execution_count": 6,
   "metadata": {},
   "outputs": [],
   "source": [
    "class Solution(object):\n",
    "    def maxArea(self, height):\n",
    "        \"\"\"\n",
    "        :type height: List[int]\n",
    "        :rtype: int\n",
    "        \"\"\"\n",
    "        maxA=0\n",
    "        for i in range(len(height)):\n",
    "            for j in range(i+1,len(height)):\n",
    "                area = min(height[i],height[j])*(j-i)\n",
    "                if area>maxA:\n",
    "                    maxA=area\n",
    "        \n",
    "        return maxA"
   ]
  },
  {
   "cell_type": "code",
   "execution_count": 9,
   "metadata": {},
   "outputs": [
    {
     "name": "stdout",
     "output_type": "stream",
     "text": [
      "49\n"
     ]
    }
   ],
   "source": [
    "sol = Solution()\n",
    "height=[1,8,6,2,5,4,8,3,7]\n",
    "print(sol.maxArea(height))"
   ]
  },
  {
   "cell_type": "code",
   "execution_count": 11,
   "metadata": {},
   "outputs": [],
   "source": [
    "class Solution(object):\n",
    "    def maxArea(self, height):\n",
    "        \"\"\"\n",
    "        :type height: List[int]\n",
    "        :rtype: int\n",
    "        \"\"\"\n",
    "        maxA=0\n",
    "        \n",
    "        i=0\n",
    "        j=len(height)-1\n",
    "        while j>=i:\n",
    "            area = min(height[i],height[j])*(j-i)\n",
    "            if area>maxA:\n",
    "                maxA=area\n",
    "            if height[i]<=height[j]:\n",
    "                i=i+1\n",
    "            else:\n",
    "                j=j-1\n",
    "        \n",
    "        return maxA\n",
    "        "
   ]
  }
 ],
 "metadata": {
  "interpreter": {
   "hash": "a245dac45e51386e3067f7bf875d7c30851316ec82b938f00e050e0cf1d2e3a2"
  },
  "kernelspec": {
   "display_name": "Python 3.9.0 64-bit",
   "language": "python",
   "name": "python3"
  },
  "language_info": {
   "codemirror_mode": {
    "name": "ipython",
    "version": 3
   },
   "file_extension": ".py",
   "mimetype": "text/x-python",
   "name": "python",
   "nbconvert_exporter": "python",
   "pygments_lexer": "ipython3",
   "version": "3.9.0"
  },
  "orig_nbformat": 4
 },
 "nbformat": 4,
 "nbformat_minor": 2
}
