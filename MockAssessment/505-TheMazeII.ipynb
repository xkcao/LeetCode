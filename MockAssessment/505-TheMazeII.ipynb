{
 "cells": [
  {
   "cell_type": "code",
   "execution_count": null,
   "metadata": {},
   "outputs": [],
   "source": [
    "# There is a ball in a maze with empty spaces (represented as 0) and walls (represented as 1). The ball can go through the empty spaces by rolling up, down, left or right, but it won't stop rolling until hitting a wall. When the ball stops, it could choose the next direction.\n",
    "\n",
    "# Given the m x n maze, the ball's start position and the destination, where start = [startrow, startcol] and destination = [destinationrow, destinationcol], return the shortest distance for the ball to stop at the destination. If the ball cannot stop at destination, return -1.\n",
    "\n",
    "# The distance is the number of empty spaces traveled by the ball from the start position (excluded) to the destination (included).\n",
    "\n",
    "# You may assume that the borders of the maze are all walls (see examples).\n",
    "\n",
    " \n",
    "\n",
    "# Example 1:\n",
    "\n",
    "\n",
    "# Input: maze = [[0,0,1,0,0],[0,0,0,0,0],[0,0,0,1,0],[1,1,0,1,1],[0,0,0,0,0]], start = [0,4], destination = [4,4]\n",
    "# Output: 12\n",
    "# Explanation: One possible way is : left -> down -> left -> down -> right -> down -> right.\n",
    "# The length of the path is 1 + 1 + 3 + 1 + 2 + 2 + 2 = 12.\n",
    "# Example 2:\n",
    "\n",
    "\n",
    "# Input: maze = [[0,0,1,0,0],[0,0,0,0,0],[0,0,0,1,0],[1,1,0,1,1],[0,0,0,0,0]], start = [0,4], destination = [3,2]\n",
    "# Output: -1\n",
    "# Explanation: There is no way for the ball to stop at the destination. Notice that you can pass through the destination but you cannot stop there.\n",
    "# Example 3:\n",
    "\n",
    "# Input: maze = [[0,0,0,0,0],[1,1,0,0,1],[0,0,0,0,0],[0,1,0,0,1],[0,1,0,0,0]], start = [4,3], destination = [0,1]\n",
    "# Output: -1\n",
    " \n",
    "\n",
    "# Constraints:\n",
    "\n",
    "# m == maze.length\n",
    "# n == maze[i].length\n",
    "# 1 <= m, n <= 100\n",
    "# maze[i][j] is 0 or 1.\n",
    "# start.length == 2\n",
    "# destination.length == 2\n",
    "# 0 <= startrow, destinationrow <= m\n",
    "# 0 <= startcol, destinationcol <= n\n",
    "# Both the ball and the destination exist in an empty space, and they will not be in the same position initially.\n",
    "# The maze contains at least 2 empty spaces."
   ]
  }
 ],
 "metadata": {
  "language_info": {
   "name": "python"
  },
  "orig_nbformat": 4
 },
 "nbformat": 4,
 "nbformat_minor": 2
}
