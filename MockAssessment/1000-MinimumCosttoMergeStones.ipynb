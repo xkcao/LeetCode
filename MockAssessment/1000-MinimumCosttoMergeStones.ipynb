{
 "cells": [
  {
   "cell_type": "code",
   "execution_count": null,
   "metadata": {},
   "outputs": [],
   "source": [
    "# There are n piles of stones arranged in a row. The ith pile has stones[i] stones.\n",
    "\n",
    "# A move consists of merging exactly k consecutive piles into one pile, and the cost of this move is equal to the total number of stones in these k piles.\n",
    "\n",
    "# Return the minimum cost to merge all piles of stones into one pile. If it is impossible, return -1.\n",
    "\n",
    " \n",
    "\n",
    "# Example 1:\n",
    "\n",
    "# Input: stones = [3,2,4,1], k = 2\n",
    "# Output: 20\n",
    "# Explanation: We start with [3, 2, 4, 1].\n",
    "# We merge [3, 2] for a cost of 5, and we are left with [5, 4, 1].\n",
    "# We merge [4, 1] for a cost of 5, and we are left with [5, 5].\n",
    "# We merge [5, 5] for a cost of 10, and we are left with [10].\n",
    "# The total cost was 20, and this is the minimum possible.\n",
    "# Example 2:\n",
    "\n",
    "# Input: stones = [3,2,4,1], k = 3\n",
    "# Output: -1\n",
    "# Explanation: After any merge operation, there are 2 piles left, and we can't merge anymore.  So the task is impossible.\n",
    "# Example 3:\n",
    "\n",
    "# Input: stones = [3,5,1,2,6], k = 3\n",
    "# Output: 25\n",
    "# Explanation: We start with [3, 5, 1, 2, 6].\n",
    "# We merge [5, 1, 2] for a cost of 8, and we are left with [3, 8, 6].\n",
    "# We merge [3, 8, 6] for a cost of 17, and we are left with [17].\n",
    "# The total cost was 25, and this is the minimum possible.\n",
    " \n",
    "\n",
    "# Constraints:\n",
    "\n",
    "# n == stones.length\n",
    "# 1 <= n <= 30\n",
    "# 1 <= stones[i] <= 100\n",
    "# 2 <= k <= 30"
   ]
  }
 ],
 "metadata": {
  "language_info": {
   "name": "python"
  },
  "orig_nbformat": 4
 },
 "nbformat": 4,
 "nbformat_minor": 2
}
