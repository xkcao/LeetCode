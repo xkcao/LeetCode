{
 "cells": [
  {
   "cell_type": "code",
   "execution_count": null,
   "metadata": {},
   "outputs": [],
   "source": [
    "# You have n dice and each die has k faces numbered from 1 to k.\n",
    "\n",
    "# Given three integers n, k, and target, return the number of possible ways (out of the kn total ways) to roll the dice so the sum of the face-up numbers equals target. Since the answer may be too large, return it modulo 109 + 7.\n",
    "\n",
    " \n",
    "\n",
    "# Example 1:\n",
    "\n",
    "# Input: n = 1, k = 6, target = 3\n",
    "# Output: 1\n",
    "# Explanation: You throw one die with 6 faces.\n",
    "# There is only one way to get a sum of 3.\n",
    "# Example 2:\n",
    "\n",
    "# Input: n = 2, k = 6, target = 7\n",
    "# Output: 6\n",
    "# Explanation: You throw two dice, each with 6 faces.\n",
    "# There are 6 ways to get a sum of 7: 1+6, 2+5, 3+4, 4+3, 5+2, 6+1.\n",
    "# Example 3:\n",
    "\n",
    "# Input: n = 30, k = 30, target = 500\n",
    "# Output: 222616187\n",
    "# Explanation: The answer must be returned modulo 109 + 7.\n",
    " \n",
    "\n",
    "# Constraints:\n",
    "\n",
    "# 1 <= n, k <= 30\n",
    "# 1 <= target <= 1000"
   ]
  }
 ],
 "metadata": {
  "language_info": {
   "name": "python"
  },
  "orig_nbformat": 4
 },
 "nbformat": 4,
 "nbformat_minor": 2
}
